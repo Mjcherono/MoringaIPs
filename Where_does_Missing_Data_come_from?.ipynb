{
  "nbformat": 4,
  "nbformat_minor": 0,
  "metadata": {
    "colab": {
      "name": "Where does Missing Data come from?",
      "provenance": [],
      "collapsed_sections": [
        "WuROceEy3suc",
        "eVonhQHZ3v_B",
        "vc56PH0F3yQk",
        "ck7WHi5q30vR"
      ],
      "include_colab_link": true
    },
    "kernelspec": {
      "name": "python3",
      "display_name": "Python 3"
    }
  },
  "cells": [
    {
      "cell_type": "markdown",
      "metadata": {
        "id": "view-in-github",
        "colab_type": "text"
      },
      "source": [
        "<a href=\"https://colab.research.google.com/github/Mjcherono/MoringaIPs/blob/master/Where_does_Missing_Data_come_from%3F.ipynb\" target=\"_parent\"><img src=\"https://colab.research.google.com/assets/colab-badge.svg\" alt=\"Open In Colab\"/></a>"
      ]
    },
    {
      "cell_type": "markdown",
      "metadata": {
        "id": "70yLYDMfBHa-",
        "colab_type": "text"
      },
      "source": [
        "<font color=\"green\">*To start working on this notebook, or any other notebook that we will use in the Moringa Data Science Course, we will need to save our own copy of it. We can do this by clicking File > Save a Copy in Drive. We will then be able to make edits to our own copy of this notebook.*</font>"
      ]
    },
    {
      "cell_type": "markdown",
      "metadata": {
        "id": "UuDxrh9x1MFM",
        "colab_type": "text"
      },
      "source": [
        "# Where does Missing Data come from?"
      ]
    },
    {
      "cell_type": "markdown",
      "metadata": {
        "id": "ierPEBwC16L9",
        "colab_type": "text"
      },
      "source": [
        "In the course of your data science career,  it is rare that you will work with raw data that does not have missing values. \n",
        "\n",
        "Missing data can arise from the loading of data, when merging data, data entry or the reindexing process - the process of transforming data from one process to the other. We will see how this can happen in the sections below:"
      ]
    },
    {
      "cell_type": "markdown",
      "metadata": {
        "id": "WuROceEy3suc",
        "colab_type": "text"
      },
      "source": [
        "## 1.0 Loading Data\n",
        "\n"
      ]
    },
    {
      "cell_type": "markdown",
      "metadata": {
        "id": "Pv3b_3Hf7_ea",
        "colab_type": "text"
      },
      "source": [
        "When we load data with pandas, we get a dataframe with the NaN value in the cell that had missing data. This is as a result of the read_csv function, which can take the following parameters which relate to reading in missing values: na_values, keep_default_na and na_filter.\n",
        "\n",
        "We will now see how these parameters work."
      ]
    },
    {
      "cell_type": "code",
      "metadata": {
        "id": "OOpp4KBbDf6Z",
        "colab_type": "code",
        "colab": {
          "base_uri": "https://localhost:8080/",
          "height": 415
        },
        "outputId": "90c6acf4-fde9-4d54-9c0a-46750903ec5c"
      },
      "source": [
        "# First lets import our dataset that we will use for the examples\n",
        "\n",
        "# Let's import our pandas library \n",
        "import pandas as pd\n",
        "\n",
        "# Let's set the location for our data\n",
        "url = 'http://bit.ly/UniversityDataSet'\n",
        "\n",
        "# We then store this dataset in a dataframe\n",
        "# We us the latin1 encoding because our dataset contains special characters. \n",
        "# An encoding is one specific way of interpreting bytes: It's a look-up table that says, \n",
        "# for example, that a byte with the value 97 stands for 'a'.\n",
        "#\n",
        "df = pd.read_csv(url, encoding = \"latin1\")\n",
        "\n",
        "# then view the columns of this dataframe, this will help us get familiar with the dataset before working on it\n",
        "df.columns.values.tolist()"
      ],
      "execution_count": 20,
      "outputs": [
        {
          "output_type": "execute_result",
          "data": {
            "text/plain": [
              "['Year',\n",
              " 'Org Name',\n",
              " 'Org Code',\n",
              " 'Spec Ed. Grad Rate - Grad Cohort #',\n",
              " 'Spec Ed. Grad Rate - Grad #',\n",
              " 'Spec Ed. Grad Rate - Grad %',\n",
              " 'Spec Ed. Dropout - Enr #',\n",
              " 'Spec Ed. Dropout - Drop #',\n",
              " 'Spec Ed. Dropout - Drop %',\n",
              " 'LRE Ages 6-21 - Students #',\n",
              " 'LRE Ages 6-21 - Full Incl #',\n",
              " 'LRE Ages 6-21 - Full Incl %',\n",
              " 'LRE Ages 3-5 - Students #',\n",
              " 'LRE Ages 3-5 - Full Incl #',\n",
              " 'LRE Ages 3-5 - Full Incl %',\n",
              " 'Cohort Completion Year',\n",
              " 'Substantial growth of knowledge & skills',\n",
              " 'Survey Period',\n",
              " 'Surv Meet Std #',\n",
              " 'Surv Meet Std %',\n",
              " 'Sch Yr Rev',\n",
              " '# of Students Engaged',\n",
              " 'Dist Rate']"
            ]
          },
          "metadata": {
            "tags": []
          },
          "execution_count": 20
        }
      ]
    },
    {
      "cell_type": "code",
      "metadata": {
        "id": "dui0YYmPDvs_",
        "colab_type": "code",
        "colab": {
          "base_uri": "https://localhost:8080/",
          "height": 408
        },
        "outputId": "40a098d9-ce52-4271-a87f-ac90c4a64aaf"
      },
      "source": [
        "# We will then load the first 5 rows of our data and try to understand it more, while noting the missing values in the records, \n",
        "# afterwards learn more about the parameters\n",
        "# \n",
        "df.head()"
      ],
      "execution_count": 21,
      "outputs": [
        {
          "output_type": "execute_result",
          "data": {
            "text/html": [
              "<div>\n",
              "<style scoped>\n",
              "    .dataframe tbody tr th:only-of-type {\n",
              "        vertical-align: middle;\n",
              "    }\n",
              "\n",
              "    .dataframe tbody tr th {\n",
              "        vertical-align: top;\n",
              "    }\n",
              "\n",
              "    .dataframe thead th {\n",
              "        text-align: right;\n",
              "    }\n",
              "</style>\n",
              "<table border=\"1\" class=\"dataframe\">\n",
              "  <thead>\n",
              "    <tr style=\"text-align: right;\">\n",
              "      <th></th>\n",
              "      <th>Year</th>\n",
              "      <th>Org Name</th>\n",
              "      <th>Org Code</th>\n",
              "      <th>Spec Ed. Grad Rate - Grad Cohort #</th>\n",
              "      <th>Spec Ed. Grad Rate - Grad #</th>\n",
              "      <th>Spec Ed. Grad Rate - Grad %</th>\n",
              "      <th>Spec Ed. Dropout - Enr #</th>\n",
              "      <th>Spec Ed. Dropout - Drop #</th>\n",
              "      <th>Spec Ed. Dropout - Drop %</th>\n",
              "      <th>LRE Ages 6-21 - Students #</th>\n",
              "      <th>LRE Ages 6-21 - Full Incl #</th>\n",
              "      <th>LRE Ages 6-21 - Full Incl %</th>\n",
              "      <th>LRE Ages 3-5 - Students #</th>\n",
              "      <th>LRE Ages 3-5 - Full Incl #</th>\n",
              "      <th>LRE Ages 3-5 - Full Incl %</th>\n",
              "      <th>Cohort Completion Year</th>\n",
              "      <th>Substantial growth of knowledge &amp; skills</th>\n",
              "      <th>Survey Period</th>\n",
              "      <th>Surv Meet Std #</th>\n",
              "      <th>Surv Meet Std %</th>\n",
              "      <th>Sch Yr Rev</th>\n",
              "      <th># of Students Engaged</th>\n",
              "      <th>Dist Rate</th>\n",
              "    </tr>\n",
              "  </thead>\n",
              "  <tbody>\n",
              "    <tr>\n",
              "      <th>0</th>\n",
              "      <td>2012</td>\n",
              "      <td>Abington</td>\n",
              "      <td>10000</td>\n",
              "      <td>27</td>\n",
              "      <td>17</td>\n",
              "      <td>63%</td>\n",
              "      <td>84</td>\n",
              "      <td>3</td>\n",
              "      <td>3.60%</td>\n",
              "      <td>295.0</td>\n",
              "      <td>205</td>\n",
              "      <td>69.50%</td>\n",
              "      <td>20</td>\n",
              "      <td>1</td>\n",
              "      <td>5%</td>\n",
              "      <td>2012-13</td>\n",
              "      <td>-</td>\n",
              "      <td>Spring 2013</td>\n",
              "      <td>NaN</td>\n",
              "      <td>NaN</td>\n",
              "      <td>2010-11</td>\n",
              "      <td>8</td>\n",
              "      <td>100%</td>\n",
              "    </tr>\n",
              "    <tr>\n",
              "      <th>1</th>\n",
              "      <td>2013</td>\n",
              "      <td>Abington</td>\n",
              "      <td>10000</td>\n",
              "      <td>20</td>\n",
              "      <td>16</td>\n",
              "      <td>80%</td>\n",
              "      <td>70</td>\n",
              "      <td>2</td>\n",
              "      <td>2.90%</td>\n",
              "      <td>272.0</td>\n",
              "      <td>174</td>\n",
              "      <td>64%</td>\n",
              "      <td>21</td>\n",
              "      <td>4</td>\n",
              "      <td>19%</td>\n",
              "      <td>2012-13</td>\n",
              "      <td>-</td>\n",
              "      <td>Spring 2013</td>\n",
              "      <td>11</td>\n",
              "      <td>73.20%</td>\n",
              "      <td>2010-11</td>\n",
              "      <td>8</td>\n",
              "      <td>100%</td>\n",
              "    </tr>\n",
              "    <tr>\n",
              "      <th>2</th>\n",
              "      <td>2012</td>\n",
              "      <td>Acton</td>\n",
              "      <td>20000</td>\n",
              "      <td>NaN</td>\n",
              "      <td>NaN</td>\n",
              "      <td>NaN</td>\n",
              "      <td>NaN</td>\n",
              "      <td>NaN</td>\n",
              "      <td>NaN</td>\n",
              "      <td>337.0</td>\n",
              "      <td>290</td>\n",
              "      <td>86.10%</td>\n",
              "      <td>58</td>\n",
              "      <td>6</td>\n",
              "      <td>10.30%</td>\n",
              "      <td>2010-11</td>\n",
              "      <td>86.7</td>\n",
              "      <td>Spring 2011</td>\n",
              "      <td>-</td>\n",
              "      <td>-</td>\n",
              "      <td>2012-13</td>\n",
              "      <td>NR</td>\n",
              "      <td>NR</td>\n",
              "    </tr>\n",
              "    <tr>\n",
              "      <th>3</th>\n",
              "      <td>2013</td>\n",
              "      <td>Acton</td>\n",
              "      <td>20000</td>\n",
              "      <td>NaN</td>\n",
              "      <td>NaN</td>\n",
              "      <td>NaN</td>\n",
              "      <td>0</td>\n",
              "      <td>-</td>\n",
              "      <td>-</td>\n",
              "      <td>335.0</td>\n",
              "      <td>286</td>\n",
              "      <td>85.40%</td>\n",
              "      <td>60</td>\n",
              "      <td>16</td>\n",
              "      <td>26.70%</td>\n",
              "      <td>2010-11</td>\n",
              "      <td>86.7</td>\n",
              "      <td>Spring 2011</td>\n",
              "      <td>-</td>\n",
              "      <td>-</td>\n",
              "      <td>2012-13</td>\n",
              "      <td>NR</td>\n",
              "      <td>NR</td>\n",
              "    </tr>\n",
              "    <tr>\n",
              "      <th>4</th>\n",
              "      <td>2012</td>\n",
              "      <td>Acushnet</td>\n",
              "      <td>30000</td>\n",
              "      <td>3</td>\n",
              "      <td>-</td>\n",
              "      <td>-</td>\n",
              "      <td>0</td>\n",
              "      <td>-</td>\n",
              "      <td>-</td>\n",
              "      <td>174.0</td>\n",
              "      <td>128</td>\n",
              "      <td>73.60%</td>\n",
              "      <td>28</td>\n",
              "      <td>7</td>\n",
              "      <td>25%</td>\n",
              "      <td>2013-14</td>\n",
              "      <td>-</td>\n",
              "      <td>Spring 2012</td>\n",
              "      <td>-</td>\n",
              "      <td>-</td>\n",
              "      <td>2011-12</td>\n",
              "      <td>NaN</td>\n",
              "      <td></td>\n",
              "    </tr>\n",
              "  </tbody>\n",
              "</table>\n",
              "</div>"
            ],
            "text/plain": [
              "   Year  Org Name  Org Code  ... Sch Yr Rev # of Students Engaged Dist Rate\n",
              "0  2012  Abington     10000  ...    2010-11                     8      100%\n",
              "1  2013  Abington     10000  ...    2010-11                     8      100%\n",
              "2  2012     Acton     20000  ...    2012-13                    NR        NR\n",
              "3  2013     Acton     20000  ...    2012-13                    NR        NR\n",
              "4  2012  Acushnet     30000  ...    2011-12                   NaN          \n",
              "\n",
              "[5 rows x 23 columns]"
            ]
          },
          "metadata": {
            "tags": []
          },
          "execution_count": 21
        }
      ]
    },
    {
      "cell_type": "markdown",
      "metadata": {
        "id": "KGNkP_ARIns6",
        "colab_type": "text"
      },
      "source": [
        "**i) na_values**\n",
        "\n",
        "The na_values parameter will allow us to specify additional missing or NaN values. What are NaN values you ask?\n",
        "\n",
        "> *These NaN values are from the python numpy library - Missing values in python are displayed in a few ways - NaN, NAN or nan and are all equivalent.*\n",
        "\n",
        "By default, this parameter is usually never used when reading the file mainly because these default missing values - NaN or nan, are already available. "
      ]
    },
    {
      "cell_type": "code",
      "metadata": {
        "id": "eDIBrwJsEOnV",
        "colab_type": "code",
        "colab": {
          "base_uri": "https://localhost:8080/",
          "height": 155
        },
        "outputId": "9fac03c9-ec2b-4adf-eee4-de7ffb60627b"
      },
      "source": [
        "# now we load the data with the default values\n",
        "print(pd.read_csv(url, encoding = 'latin1').head())"
      ],
      "execution_count": 22,
      "outputs": [
        {
          "output_type": "stream",
          "text": [
            "   Year  Org Name  Org Code  ... Sch Yr Rev # of Students Engaged Dist Rate\n",
            "0  2012  Abington     10000  ...    2010-11                     8      100%\n",
            "1  2013  Abington     10000  ...    2010-11                     8      100%\n",
            "2  2012     Acton     20000  ...    2012-13                    NR        NR\n",
            "3  2013     Acton     20000  ...    2012-13                    NR        NR\n",
            "4  2012  Acushnet     30000  ...    2011-12                   NaN          \n",
            "\n",
            "[5 rows x 23 columns]\n"
          ],
          "name": "stdout"
        }
      ]
    },
    {
      "cell_type": "markdown",
      "metadata": {
        "id": "auvMdkUnJOkr",
        "colab_type": "text"
      },
      "source": [
        "**ii) keep_default_na**\n",
        "\n",
        "The second parameter is the `keep_default_na` parameter, which is a bool (boolean). It allows us to specify whether any additional values need to be considered missing. By default this parameter is True, meaning any additional missing values specified with the na_values paramenter will be appended to list of missing values. \n",
        "\n",
        "We can also set `keep_default_na=False` which will mean that we will only use missing values specified in na_values. "
      ]
    },
    {
      "cell_type": "code",
      "metadata": {
        "id": "Tqq6E-loKUTf",
        "colab_type": "code",
        "colab": {
          "base_uri": "https://localhost:8080/",
          "height": 155
        },
        "outputId": "248fed92-f6bd-4be7-b245-7c491ef1de87"
      },
      "source": [
        "# Example 2\n",
        "# We then load the data without default missing values \n",
        "# \n",
        "print(pd.read_csv(url, encoding = 'latin1', keep_default_na = False).head())"
      ],
      "execution_count": 24,
      "outputs": [
        {
          "output_type": "stream",
          "text": [
            "   Year  Org Name  Org Code  ... Sch Yr Rev # of Students Engaged Dist Rate\n",
            "0  2012  Abington     10000  ...    2010-11                     8      100%\n",
            "1  2013  Abington     10000  ...    2010-11                     8      100%\n",
            "2  2012     Acton     20000  ...    2012-13                    NR        NR\n",
            "3  2013     Acton     20000  ...    2012-13                    NR        NR\n",
            "4  2012  Acushnet     30000  ...    2011-12                                \n",
            "\n",
            "[5 rows x 23 columns]\n"
          ],
          "name": "stdout"
        }
      ]
    },
    {
      "cell_type": "code",
      "metadata": {
        "id": "gVrB81wOCn1-",
        "colab_type": "code",
        "colab": {
          "base_uri": "https://localhost:8080/",
          "height": 155
        },
        "outputId": "04650285-59d3-4ce6-eebc-f340237c88c8"
      },
      "source": [
        "\n",
        "# Challenge 1: \n",
        "# Using the keep_default_na parameter, load the data with the default missing values below\n",
        "# \n",
        "print(pd.read_csv(url, encoding='latin1', keep_default_na=True).head())"
      ],
      "execution_count": 25,
      "outputs": [
        {
          "output_type": "stream",
          "text": [
            "   Year  Org Name  Org Code  ... Sch Yr Rev # of Students Engaged Dist Rate\n",
            "0  2012  Abington     10000  ...    2010-11                     8      100%\n",
            "1  2013  Abington     10000  ...    2010-11                     8      100%\n",
            "2  2012     Acton     20000  ...    2012-13                    NR        NR\n",
            "3  2013     Acton     20000  ...    2012-13                    NR        NR\n",
            "4  2012  Acushnet     30000  ...    2011-12                   NaN          \n",
            "\n",
            "[5 rows x 23 columns]\n"
          ],
          "name": "stdout"
        }
      ]
    },
    {
      "cell_type": "markdown",
      "metadata": {
        "id": "42Sd8SSYJXjv",
        "colab_type": "text"
      },
      "source": [
        "iii) **na_filter**\n",
        "\n",
        "Our third parameter is the *na_filter parameter,* which is a bool that specifies whether any values will be read as missing. By default the na_filter=True, meaning that missing values will be coded as NaN. If na_filter=False, then nothing will be recorded as missing. We normally use this parameter when we want to set false the na_values and keep_default_na parameter all at the same time as well as when we want to quickly load any data without missing values. \n",
        "\n"
      ]
    },
    {
      "cell_type": "code",
      "metadata": {
        "id": "RkJdBrJvCqx9",
        "colab_type": "code",
        "colab": {
          "base_uri": "https://localhost:8080/",
          "height": 155
        },
        "outputId": "897dee71-2332-47ff-fd7f-6b87caee4c7f"
      },
      "source": [
        "# Example 3\n",
        "# Let's set the na_filter parameter to True\n",
        "# \n",
        "print(pd.read_csv(url, na_filter = True, encoding ='latin1').head())"
      ],
      "execution_count": 26,
      "outputs": [
        {
          "output_type": "stream",
          "text": [
            "   Year  Org Name  Org Code  ... Sch Yr Rev # of Students Engaged Dist Rate\n",
            "0  2012  Abington     10000  ...    2010-11                     8      100%\n",
            "1  2013  Abington     10000  ...    2010-11                     8      100%\n",
            "2  2012     Acton     20000  ...    2012-13                    NR        NR\n",
            "3  2013     Acton     20000  ...    2012-13                    NR        NR\n",
            "4  2012  Acushnet     30000  ...    2011-12                   NaN          \n",
            "\n",
            "[5 rows x 23 columns]\n"
          ],
          "name": "stdout"
        }
      ]
    },
    {
      "cell_type": "code",
      "metadata": {
        "id": "YC0qIxQuKVN8",
        "colab_type": "code",
        "colab": {
          "base_uri": "https://localhost:8080/",
          "height": 155
        },
        "outputId": "860a9d32-245e-4403-b2d6-824230d8a12b"
      },
      "source": [
        "# Challenge 2\n",
        "# Now let's see what happens when we set the na_filter parameter to False\n",
        "# \n",
        "print(pd.read_csv(url, na_filter = False, encoding ='latin1').head())"
      ],
      "execution_count": 27,
      "outputs": [
        {
          "output_type": "stream",
          "text": [
            "   Year  Org Name  Org Code  ... Sch Yr Rev # of Students Engaged Dist Rate\n",
            "0  2012  Abington     10000  ...    2010-11                     8      100%\n",
            "1  2013  Abington     10000  ...    2010-11                     8      100%\n",
            "2  2012     Acton     20000  ...    2012-13                    NR        NR\n",
            "3  2013     Acton     20000  ...    2012-13                    NR        NR\n",
            "4  2012  Acushnet     30000  ...    2011-12                                \n",
            "\n",
            "[5 rows x 23 columns]\n"
          ],
          "name": "stdout"
        }
      ]
    },
    {
      "cell_type": "markdown",
      "metadata": {
        "id": "eVonhQHZ3v_B",
        "colab_type": "text"
      },
      "source": [
        "## 1.1 Merging Data\n"
      ]
    },
    {
      "cell_type": "markdown",
      "metadata": {
        "id": "t-EayHUZQwfE",
        "colab_type": "text"
      },
      "source": [
        "Missing data can also result from the merging of datasets. This we will see when we create a merged table from the two datasets below. \n",
        "\n",
        "Having missing values in the merged table can be as a result of either or neither of the datasets having any missing values i.e. if the datasets have unique columns.\n",
        "\n"
      ]
    },
    {
      "cell_type": "code",
      "metadata": {
        "id": "uUmd0YtoUOXN",
        "colab_type": "code",
        "colab": {}
      },
      "source": [
        "apple_orange_dataset = 'http://bit.ly/AppleOrangeDataSet'\n",
        "stability_dataset    = 'http://bit.ly/StabilityDataset'\n",
        "\n",
        "apple_orange_dataset = pd.read_csv(apple_orange_dataset, encoding ='latin1')\n",
        "stability_dataset    = pd.read_csv(stability_dataset, encoding ='latin1')"
      ],
      "execution_count": 28,
      "outputs": []
    },
    {
      "cell_type": "markdown",
      "metadata": {
        "id": "3KMGTOEgdnme",
        "colab_type": "text"
      },
      "source": [
        "The appleorange dataset  contains production volumes of apples and oranges while the stability dataset contains country stability indicators. "
      ]
    },
    {
      "cell_type": "code",
      "metadata": {
        "id": "Zfry7pMHZh0I",
        "colab_type": "code",
        "colab": {
          "base_uri": "https://localhost:8080/",
          "height": 349
        },
        "outputId": "5171cba6-c662-4cfb-bd9d-51fc47bfcf30"
      },
      "source": [
        "# Displaying our the first dataset\n",
        "#\n",
        "apple_orange_dataset.head(10)"
      ],
      "execution_count": 29,
      "outputs": [
        {
          "output_type": "execute_result",
          "data": {
            "text/html": [
              "<div>\n",
              "<style scoped>\n",
              "    .dataframe tbody tr th:only-of-type {\n",
              "        vertical-align: middle;\n",
              "    }\n",
              "\n",
              "    .dataframe tbody tr th {\n",
              "        vertical-align: top;\n",
              "    }\n",
              "\n",
              "    .dataframe thead th {\n",
              "        text-align: right;\n",
              "    }\n",
              "</style>\n",
              "<table border=\"1\" class=\"dataframe\">\n",
              "  <thead>\n",
              "    <tr style=\"text-align: right;\">\n",
              "      <th></th>\n",
              "      <th>FAOSTAT 2013</th>\n",
              "      <th>Unnamed: 1</th>\n",
              "      <th>Unnamed: 2</th>\n",
              "      <th>Unnamed: 3</th>\n",
              "      <th>Unnamed: 4</th>\n",
              "      <th>Unnamed: 5</th>\n",
              "    </tr>\n",
              "  </thead>\n",
              "  <tbody>\n",
              "    <tr>\n",
              "      <th>0</th>\n",
              "      <td>Elements Ê</td>\n",
              "      <td>NaN</td>\n",
              "      <td>Areas Ê</td>\n",
              "      <td>NaN</td>\n",
              "      <td>Items Ê</td>\n",
              "      <td>2009.0</td>\n",
              "    </tr>\n",
              "    <tr>\n",
              "      <th>1</th>\n",
              "      <td>Food supply quantity (tonnes) (tonnes)</td>\n",
              "      <td>NaN</td>\n",
              "      <td>NaN</td>\n",
              "      <td>NaN</td>\n",
              "      <td>NaN</td>\n",
              "      <td>NaN</td>\n",
              "    </tr>\n",
              "    <tr>\n",
              "      <th>2</th>\n",
              "      <td>Food supply quantity (tonnes) (tonnes)</td>\n",
              "      <td>NaN</td>\n",
              "      <td>Food supply quantity (tonnes) (tonnes)</td>\n",
              "      <td>NaN</td>\n",
              "      <td>NaN</td>\n",
              "      <td>NaN</td>\n",
              "    </tr>\n",
              "    <tr>\n",
              "      <th>3</th>\n",
              "      <td>Food supply quantity (tonnes) (tonnes)</td>\n",
              "      <td>NaN</td>\n",
              "      <td>NaN</td>\n",
              "      <td>NaN</td>\n",
              "      <td>NaN</td>\n",
              "      <td>NaN</td>\n",
              "    </tr>\n",
              "    <tr>\n",
              "      <th>4</th>\n",
              "      <td>Albania</td>\n",
              "      <td>3</td>\n",
              "      <td>Apples and products</td>\n",
              "      <td>2617.0</td>\n",
              "      <td>57Ê459.00, tonnes ()</td>\n",
              "      <td>NaN</td>\n",
              "    </tr>\n",
              "    <tr>\n",
              "      <th>5</th>\n",
              "      <td>Food supply quantity (tonnes) (tonnes)</td>\n",
              "      <td>NaN</td>\n",
              "      <td>NaN</td>\n",
              "      <td>NaN</td>\n",
              "      <td>NaN</td>\n",
              "      <td>NaN</td>\n",
              "    </tr>\n",
              "    <tr>\n",
              "      <th>6</th>\n",
              "      <td>Albania</td>\n",
              "      <td>3</td>\n",
              "      <td>Oranges, Mandarines</td>\n",
              "      <td>2611.0</td>\n",
              "      <td>40Ê880.00, tonnes ()</td>\n",
              "      <td>NaN</td>\n",
              "    </tr>\n",
              "    <tr>\n",
              "      <th>7</th>\n",
              "      <td>Food supply quantity (tonnes) (tonnes)</td>\n",
              "      <td>NaN</td>\n",
              "      <td>NaN</td>\n",
              "      <td>NaN</td>\n",
              "      <td>NaN</td>\n",
              "      <td>NaN</td>\n",
              "    </tr>\n",
              "    <tr>\n",
              "      <th>8</th>\n",
              "      <td>Algeria</td>\n",
              "      <td>4</td>\n",
              "      <td>Apples and products</td>\n",
              "      <td>2617.0</td>\n",
              "      <td>370Ê008.00, tonnes ()</td>\n",
              "      <td>NaN</td>\n",
              "    </tr>\n",
              "    <tr>\n",
              "      <th>9</th>\n",
              "      <td>Food supply quantity (tonnes) (tonnes)</td>\n",
              "      <td>NaN</td>\n",
              "      <td>NaN</td>\n",
              "      <td>NaN</td>\n",
              "      <td>NaN</td>\n",
              "      <td>NaN</td>\n",
              "    </tr>\n",
              "  </tbody>\n",
              "</table>\n",
              "</div>"
            ],
            "text/plain": [
              "                             FAOSTAT 2013  ... Unnamed: 5\n",
              "0                              Elements Ê  ...     2009.0\n",
              "1  Food supply quantity (tonnes) (tonnes)  ...        NaN\n",
              "2  Food supply quantity (tonnes) (tonnes)  ...        NaN\n",
              "3  Food supply quantity (tonnes) (tonnes)  ...        NaN\n",
              "4                                 Albania  ...        NaN\n",
              "5  Food supply quantity (tonnes) (tonnes)  ...        NaN\n",
              "6                                 Albania  ...        NaN\n",
              "7  Food supply quantity (tonnes) (tonnes)  ...        NaN\n",
              "8                                 Algeria  ...        NaN\n",
              "9  Food supply quantity (tonnes) (tonnes)  ...        NaN\n",
              "\n",
              "[10 rows x 6 columns]"
            ]
          },
          "metadata": {
            "tags": []
          },
          "execution_count": 29
        }
      ]
    },
    {
      "cell_type": "code",
      "metadata": {
        "id": "eX8ebJEVZobi",
        "colab_type": "code",
        "colab": {
          "base_uri": "https://localhost:8080/",
          "height": 349
        },
        "outputId": "81a2c5d6-8d31-45c6-8935-da652a180431"
      },
      "source": [
        "# Displaying our second dataset\n",
        "# \n",
        "stability_dataset.head(10)"
      ],
      "execution_count": 30,
      "outputs": [
        {
          "output_type": "execute_result",
          "data": {
            "text/html": [
              "<div>\n",
              "<style scoped>\n",
              "    .dataframe tbody tr th:only-of-type {\n",
              "        vertical-align: middle;\n",
              "    }\n",
              "\n",
              "    .dataframe tbody tr th {\n",
              "        vertical-align: top;\n",
              "    }\n",
              "\n",
              "    .dataframe thead th {\n",
              "        text-align: right;\n",
              "    }\n",
              "</style>\n",
              "<table border=\"1\" class=\"dataframe\">\n",
              "  <thead>\n",
              "    <tr style=\"text-align: right;\">\n",
              "      <th></th>\n",
              "      <th>FAOSTAT 2013</th>\n",
              "      <th>Unnamed: 1</th>\n",
              "      <th>Unnamed: 2</th>\n",
              "      <th>Unnamed: 3</th>\n",
              "      <th>Unnamed: 4</th>\n",
              "      <th>Unnamed: 5</th>\n",
              "    </tr>\n",
              "  </thead>\n",
              "  <tbody>\n",
              "    <tr>\n",
              "      <th>0</th>\n",
              "      <td>Elements Ê</td>\n",
              "      <td>NaN</td>\n",
              "      <td>Areas Ê</td>\n",
              "      <td>NaN</td>\n",
              "      <td>Items Ê</td>\n",
              "      <td>2009.0</td>\n",
              "    </tr>\n",
              "    <tr>\n",
              "      <th>1</th>\n",
              "      <td>Value (index)</td>\n",
              "      <td>NaN</td>\n",
              "      <td>NaN</td>\n",
              "      <td>NaN</td>\n",
              "      <td>NaN</td>\n",
              "      <td>NaN</td>\n",
              "    </tr>\n",
              "    <tr>\n",
              "      <th>2</th>\n",
              "      <td>Value (index)</td>\n",
              "      <td>NaN</td>\n",
              "      <td>Value (index)</td>\n",
              "      <td>NaN</td>\n",
              "      <td>NaN</td>\n",
              "      <td>NaN</td>\n",
              "    </tr>\n",
              "    <tr>\n",
              "      <th>3</th>\n",
              "      <td>Value (index)</td>\n",
              "      <td>NaN</td>\n",
              "      <td>NaN</td>\n",
              "      <td>NaN</td>\n",
              "      <td>NaN</td>\n",
              "      <td>NaN</td>\n",
              "    </tr>\n",
              "    <tr>\n",
              "      <th>4</th>\n",
              "      <td>Afghanistan</td>\n",
              "      <td>2</td>\n",
              "      <td>Political stability and absence of violence/te...</td>\n",
              "      <td>21032.0</td>\n",
              "      <td>-2.70, index ()</td>\n",
              "      <td>NaN</td>\n",
              "    </tr>\n",
              "    <tr>\n",
              "      <th>5</th>\n",
              "      <td>Value (index)</td>\n",
              "      <td>NaN</td>\n",
              "      <td>NaN</td>\n",
              "      <td>NaN</td>\n",
              "      <td>NaN</td>\n",
              "      <td>NaN</td>\n",
              "    </tr>\n",
              "    <tr>\n",
              "      <th>6</th>\n",
              "      <td>Albania</td>\n",
              "      <td>3</td>\n",
              "      <td>Political stability and absence of violence/te...</td>\n",
              "      <td>21032.0</td>\n",
              "      <td>-0.05, index ()</td>\n",
              "      <td>NaN</td>\n",
              "    </tr>\n",
              "    <tr>\n",
              "      <th>7</th>\n",
              "      <td>Value (index)</td>\n",
              "      <td>NaN</td>\n",
              "      <td>NaN</td>\n",
              "      <td>NaN</td>\n",
              "      <td>NaN</td>\n",
              "      <td>NaN</td>\n",
              "    </tr>\n",
              "    <tr>\n",
              "      <th>8</th>\n",
              "      <td>Algeria</td>\n",
              "      <td>4</td>\n",
              "      <td>Political stability and absence of violence/te...</td>\n",
              "      <td>21032.0</td>\n",
              "      <td>-1.23, index ()</td>\n",
              "      <td>NaN</td>\n",
              "    </tr>\n",
              "    <tr>\n",
              "      <th>9</th>\n",
              "      <td>Value (index)</td>\n",
              "      <td>NaN</td>\n",
              "      <td>NaN</td>\n",
              "      <td>NaN</td>\n",
              "      <td>NaN</td>\n",
              "      <td>NaN</td>\n",
              "    </tr>\n",
              "  </tbody>\n",
              "</table>\n",
              "</div>"
            ],
            "text/plain": [
              "    FAOSTAT 2013 Unnamed: 1  ...       Unnamed: 4  Unnamed: 5\n",
              "0     Elements Ê        NaN  ...          Items Ê      2009.0\n",
              "1  Value (index)        NaN  ...              NaN         NaN\n",
              "2  Value (index)        NaN  ...              NaN         NaN\n",
              "3  Value (index)        NaN  ...              NaN         NaN\n",
              "4    Afghanistan          2  ...  -2.70, index ()         NaN\n",
              "5  Value (index)        NaN  ...              NaN         NaN\n",
              "6        Albania          3  ...  -0.05, index ()         NaN\n",
              "7  Value (index)        NaN  ...              NaN         NaN\n",
              "8        Algeria          4  ...  -1.23, index ()         NaN\n",
              "9  Value (index)        NaN  ...              NaN         NaN\n",
              "\n",
              "[10 rows x 6 columns]"
            ]
          },
          "metadata": {
            "tags": []
          },
          "execution_count": 30
        }
      ]
    },
    {
      "cell_type": "code",
      "metadata": {
        "id": "5HiE_oQ0aJkr",
        "colab_type": "code",
        "colab": {
          "base_uri": "https://localhost:8080/",
          "height": 224
        },
        "outputId": "e2254e60-0378-44cb-f272-c349f40dc762"
      },
      "source": [
        "# Now merging the two dataframes and analysing the output\n",
        "merged_dataset = apple_orange_dataset.merge(stability_dataset, left_on='FAOSTAT 2013', right_on='FAOSTAT 2013')\n",
        "\n",
        "# Displayig our dataset\n",
        "merged_dataset.head(3)"
      ],
      "execution_count": 31,
      "outputs": [
        {
          "output_type": "execute_result",
          "data": {
            "text/html": [
              "<div>\n",
              "<style scoped>\n",
              "    .dataframe tbody tr th:only-of-type {\n",
              "        vertical-align: middle;\n",
              "    }\n",
              "\n",
              "    .dataframe tbody tr th {\n",
              "        vertical-align: top;\n",
              "    }\n",
              "\n",
              "    .dataframe thead th {\n",
              "        text-align: right;\n",
              "    }\n",
              "</style>\n",
              "<table border=\"1\" class=\"dataframe\">\n",
              "  <thead>\n",
              "    <tr style=\"text-align: right;\">\n",
              "      <th></th>\n",
              "      <th>FAOSTAT 2013</th>\n",
              "      <th>Unnamed: 1_x</th>\n",
              "      <th>Unnamed: 2_x</th>\n",
              "      <th>Unnamed: 3_x</th>\n",
              "      <th>Unnamed: 4_x</th>\n",
              "      <th>Unnamed: 5_x</th>\n",
              "      <th>Unnamed: 1_y</th>\n",
              "      <th>Unnamed: 2_y</th>\n",
              "      <th>Unnamed: 3_y</th>\n",
              "      <th>Unnamed: 4_y</th>\n",
              "      <th>Unnamed: 5_y</th>\n",
              "    </tr>\n",
              "  </thead>\n",
              "  <tbody>\n",
              "    <tr>\n",
              "      <th>0</th>\n",
              "      <td>Elements Ê</td>\n",
              "      <td>NaN</td>\n",
              "      <td>Areas Ê</td>\n",
              "      <td>NaN</td>\n",
              "      <td>Items Ê</td>\n",
              "      <td>2009.0</td>\n",
              "      <td>NaN</td>\n",
              "      <td>Areas Ê</td>\n",
              "      <td>NaN</td>\n",
              "      <td>Items Ê</td>\n",
              "      <td>2009.0</td>\n",
              "    </tr>\n",
              "    <tr>\n",
              "      <th>1</th>\n",
              "      <td>Albania</td>\n",
              "      <td>3</td>\n",
              "      <td>Apples and products</td>\n",
              "      <td>2617.0</td>\n",
              "      <td>57Ê459.00, tonnes ()</td>\n",
              "      <td>NaN</td>\n",
              "      <td>3</td>\n",
              "      <td>Political stability and absence of violence/te...</td>\n",
              "      <td>21032.0</td>\n",
              "      <td>-0.05, index ()</td>\n",
              "      <td>NaN</td>\n",
              "    </tr>\n",
              "    <tr>\n",
              "      <th>2</th>\n",
              "      <td>Albania</td>\n",
              "      <td>3</td>\n",
              "      <td>Apples and products</td>\n",
              "      <td>2617.0</td>\n",
              "      <td>57Ê459.00, tonnes ()</td>\n",
              "      <td>NaN</td>\n",
              "      <td>3</td>\n",
              "      <td>Per capita food supply variability (kcal/capit...</td>\n",
              "      <td>21031.0</td>\n",
              "      <td>40.29, kcal/capita/day ()</td>\n",
              "      <td>NaN</td>\n",
              "    </tr>\n",
              "  </tbody>\n",
              "</table>\n",
              "</div>"
            ],
            "text/plain": [
              "  FAOSTAT 2013 Unnamed: 1_x  ...               Unnamed: 4_y  Unnamed: 5_y\n",
              "0   Elements Ê          NaN  ...                    Items Ê        2009.0\n",
              "1      Albania            3  ...            -0.05, index ()           NaN\n",
              "2      Albania            3  ...  40.29, kcal/capita/day ()           NaN\n",
              "\n",
              "[3 rows x 11 columns]"
            ]
          },
          "metadata": {
            "tags": []
          },
          "execution_count": 31
        }
      ]
    },
    {
      "cell_type": "code",
      "metadata": {
        "id": "A7fwUU3ceR0O",
        "colab_type": "code",
        "colab": {}
      },
      "source": [
        "# Challenge 4:\n",
        "# Merge the following two manifesto project datasets and \n",
        "# discuss with your peer on origin of the missing values in the merged dataset\n",
        "#\n",
        "party_names_dataset  = 'http://bit.ly/PartyNamesMarporDataSet'\n",
        "party_names_dataset2 = 'http://bit.ly/PartyNamesPledges'\n",
        "\n",
        "party_names_dataset = pd.read_csv(party_names_dataset, encoding='latin1')\n",
        "party_names_dataset2 = pd.read_csv(party_names_dataset2, encoding='latin1')"
      ],
      "execution_count": 32,
      "outputs": []
    },
    {
      "cell_type": "code",
      "metadata": {
        "id": "JZGuxNL61znw",
        "colab_type": "code",
        "colab": {
          "base_uri": "https://localhost:8080/",
          "height": 138
        },
        "outputId": "4bfc1cc2-3c7f-45f0-9880-524d3c2da7e2"
      },
      "source": [
        "party_names_dataset.head(3)"
      ],
      "execution_count": 33,
      "outputs": [
        {
          "output_type": "execute_result",
          "data": {
            "text/html": [
              "<div>\n",
              "<style scoped>\n",
              "    .dataframe tbody tr th:only-of-type {\n",
              "        vertical-align: middle;\n",
              "    }\n",
              "\n",
              "    .dataframe tbody tr th {\n",
              "        vertical-align: top;\n",
              "    }\n",
              "\n",
              "    .dataframe thead th {\n",
              "        text-align: right;\n",
              "    }\n",
              "</style>\n",
              "<table border=\"1\" class=\"dataframe\">\n",
              "  <thead>\n",
              "    <tr style=\"text-align: right;\">\n",
              "      <th></th>\n",
              "      <th>name</th>\n",
              "      <th>c_p</th>\n",
              "    </tr>\n",
              "  </thead>\n",
              "  <tbody>\n",
              "    <tr>\n",
              "      <th>0</th>\n",
              "      <td>US_R</td>\n",
              "      <td>US_Democrats</td>\n",
              "    </tr>\n",
              "    <tr>\n",
              "      <th>1</th>\n",
              "      <td>US_D</td>\n",
              "      <td>US_Republicans</td>\n",
              "    </tr>\n",
              "    <tr>\n",
              "      <th>2</th>\n",
              "      <td>NL_PvdA</td>\n",
              "      <td>NL_PvdA</td>\n",
              "    </tr>\n",
              "  </tbody>\n",
              "</table>\n",
              "</div>"
            ],
            "text/plain": [
              "      name             c_p\n",
              "0     US_R    US_Democrats\n",
              "1     US_D  US_Republicans\n",
              "2  NL_PvdA         NL_PvdA"
            ]
          },
          "metadata": {
            "tags": []
          },
          "execution_count": 33
        }
      ]
    },
    {
      "cell_type": "code",
      "metadata": {
        "id": "PRmMR5K519Vh",
        "colab_type": "code",
        "colab": {
          "base_uri": "https://localhost:8080/",
          "height": 138
        },
        "outputId": "104c5d2b-fa15-473f-ab4f-e5d15fc4d766"
      },
      "source": [
        "party_names_dataset2.head(3)"
      ],
      "execution_count": 34,
      "outputs": [
        {
          "output_type": "execute_result",
          "data": {
            "text/html": [
              "<div>\n",
              "<style scoped>\n",
              "    .dataframe tbody tr th:only-of-type {\n",
              "        vertical-align: middle;\n",
              "    }\n",
              "\n",
              "    .dataframe tbody tr th {\n",
              "        vertical-align: top;\n",
              "    }\n",
              "\n",
              "    .dataframe thead th {\n",
              "        text-align: right;\n",
              "    }\n",
              "</style>\n",
              "<table border=\"1\" class=\"dataframe\">\n",
              "  <thead>\n",
              "    <tr style=\"text-align: right;\">\n",
              "      <th></th>\n",
              "      <th>partyid</th>\n",
              "      <th>name</th>\n",
              "    </tr>\n",
              "  </thead>\n",
              "  <tbody>\n",
              "    <tr>\n",
              "      <th>0</th>\n",
              "      <td>101</td>\n",
              "      <td>US_R</td>\n",
              "    </tr>\n",
              "    <tr>\n",
              "      <th>1</th>\n",
              "      <td>102</td>\n",
              "      <td>US_D</td>\n",
              "    </tr>\n",
              "    <tr>\n",
              "      <th>2</th>\n",
              "      <td>5</td>\n",
              "      <td>NL_PvdA</td>\n",
              "    </tr>\n",
              "  </tbody>\n",
              "</table>\n",
              "</div>"
            ],
            "text/plain": [
              "   partyid     name\n",
              "0      101     US_R\n",
              "1      102     US_D\n",
              "2        5  NL_PvdA"
            ]
          },
          "metadata": {
            "tags": []
          },
          "execution_count": 34
        }
      ]
    },
    {
      "cell_type": "code",
      "metadata": {
        "id": "aNWaojlPCR7Y",
        "colab_type": "code",
        "colab": {
          "base_uri": "https://localhost:8080/",
          "height": 408
        },
        "outputId": "f15e7cbd-6bd9-4021-c63b-e34ce3f6b68f"
      },
      "source": [
        "#drop duplicates before merge\n",
        "party_names_dataset.duplicated()\n",
        "party_names_dataset.drop_duplicates()\n",
        "party_names_dataset2.drop_duplicates()"
      ],
      "execution_count": 37,
      "outputs": [
        {
          "output_type": "execute_result",
          "data": {
            "text/html": [
              "<div>\n",
              "<style scoped>\n",
              "    .dataframe tbody tr th:only-of-type {\n",
              "        vertical-align: middle;\n",
              "    }\n",
              "\n",
              "    .dataframe tbody tr th {\n",
              "        vertical-align: top;\n",
              "    }\n",
              "\n",
              "    .dataframe thead th {\n",
              "        text-align: right;\n",
              "    }\n",
              "</style>\n",
              "<table border=\"1\" class=\"dataframe\">\n",
              "  <thead>\n",
              "    <tr style=\"text-align: right;\">\n",
              "      <th></th>\n",
              "      <th>partyid</th>\n",
              "      <th>name</th>\n",
              "    </tr>\n",
              "  </thead>\n",
              "  <tbody>\n",
              "    <tr>\n",
              "      <th>0</th>\n",
              "      <td>101</td>\n",
              "      <td>US_R</td>\n",
              "    </tr>\n",
              "    <tr>\n",
              "      <th>1</th>\n",
              "      <td>102</td>\n",
              "      <td>US_D</td>\n",
              "    </tr>\n",
              "    <tr>\n",
              "      <th>2</th>\n",
              "      <td>5</td>\n",
              "      <td>NL_PvdA</td>\n",
              "    </tr>\n",
              "    <tr>\n",
              "      <th>3</th>\n",
              "      <td>6</td>\n",
              "      <td>NL_D66</td>\n",
              "    </tr>\n",
              "    <tr>\n",
              "      <th>4</th>\n",
              "      <td>7</td>\n",
              "      <td>NL_CDA</td>\n",
              "    </tr>\n",
              "    <tr>\n",
              "      <th>...</th>\n",
              "      <td>...</td>\n",
              "      <td>...</td>\n",
              "    </tr>\n",
              "    <tr>\n",
              "      <th>60</th>\n",
              "      <td>1103</td>\n",
              "      <td>CA_Con</td>\n",
              "    </tr>\n",
              "    <tr>\n",
              "      <th>61</th>\n",
              "      <td>1104</td>\n",
              "      <td>CA_Lib</td>\n",
              "    </tr>\n",
              "    <tr>\n",
              "      <th>62</th>\n",
              "      <td>1105</td>\n",
              "      <td>CA_NDP</td>\n",
              "    </tr>\n",
              "    <tr>\n",
              "      <th>63</th>\n",
              "      <td>1106</td>\n",
              "      <td>CA_PCP</td>\n",
              "    </tr>\n",
              "    <tr>\n",
              "      <th>64</th>\n",
              "      <td>1107</td>\n",
              "      <td>CA_RPC</td>\n",
              "    </tr>\n",
              "  </tbody>\n",
              "</table>\n",
              "<p>65 rows × 2 columns</p>\n",
              "</div>"
            ],
            "text/plain": [
              "    partyid     name\n",
              "0       101     US_R\n",
              "1       102     US_D\n",
              "2         5  NL_PvdA\n",
              "3         6   NL_D66\n",
              "4         7   NL_CDA\n",
              "..      ...      ...\n",
              "60     1103   CA_Con\n",
              "61     1104   CA_Lib\n",
              "62     1105   CA_NDP\n",
              "63     1106   CA_PCP\n",
              "64     1107   CA_RPC\n",
              "\n",
              "[65 rows x 2 columns]"
            ]
          },
          "metadata": {
            "tags": []
          },
          "execution_count": 37
        }
      ]
    },
    {
      "cell_type": "code",
      "metadata": {
        "id": "wjAaxq7S2Dw5",
        "colab_type": "code",
        "colab": {
          "base_uri": "https://localhost:8080/",
          "height": 408
        },
        "outputId": "cab80de3-3f96-4823-9ca6-4a3b2882000c"
      },
      "source": [
        "#merging the two datasets\n",
        "merged_dataset2 = party_names_dataset.merge(party_names_dataset2)\n",
        "merged_dataset2\n"
      ],
      "execution_count": 40,
      "outputs": [
        {
          "output_type": "execute_result",
          "data": {
            "text/html": [
              "<div>\n",
              "<style scoped>\n",
              "    .dataframe tbody tr th:only-of-type {\n",
              "        vertical-align: middle;\n",
              "    }\n",
              "\n",
              "    .dataframe tbody tr th {\n",
              "        vertical-align: top;\n",
              "    }\n",
              "\n",
              "    .dataframe thead th {\n",
              "        text-align: right;\n",
              "    }\n",
              "</style>\n",
              "<table border=\"1\" class=\"dataframe\">\n",
              "  <thead>\n",
              "    <tr style=\"text-align: right;\">\n",
              "      <th></th>\n",
              "      <th>name</th>\n",
              "      <th>c_p</th>\n",
              "      <th>partyid</th>\n",
              "    </tr>\n",
              "  </thead>\n",
              "  <tbody>\n",
              "    <tr>\n",
              "      <th>0</th>\n",
              "      <td>US_R</td>\n",
              "      <td>US_Democrats</td>\n",
              "      <td>101</td>\n",
              "    </tr>\n",
              "    <tr>\n",
              "      <th>1</th>\n",
              "      <td>US_D</td>\n",
              "      <td>US_Republicans</td>\n",
              "      <td>102</td>\n",
              "    </tr>\n",
              "    <tr>\n",
              "      <th>2</th>\n",
              "      <td>NL_PvdA</td>\n",
              "      <td>NL_PvdA</td>\n",
              "      <td>5</td>\n",
              "    </tr>\n",
              "    <tr>\n",
              "      <th>3</th>\n",
              "      <td>NL_D66</td>\n",
              "      <td>NL_D66</td>\n",
              "      <td>6</td>\n",
              "    </tr>\n",
              "    <tr>\n",
              "      <th>4</th>\n",
              "      <td>NL_CDA</td>\n",
              "      <td>NL_CDA</td>\n",
              "      <td>7</td>\n",
              "    </tr>\n",
              "    <tr>\n",
              "      <th>...</th>\n",
              "      <td>...</td>\n",
              "      <td>...</td>\n",
              "      <td>...</td>\n",
              "    </tr>\n",
              "    <tr>\n",
              "      <th>60</th>\n",
              "      <td>CA_Con</td>\n",
              "      <td>CA_CP</td>\n",
              "      <td>1103</td>\n",
              "    </tr>\n",
              "    <tr>\n",
              "      <th>61</th>\n",
              "      <td>CA_Lib</td>\n",
              "      <td>CA_LP</td>\n",
              "      <td>1104</td>\n",
              "    </tr>\n",
              "    <tr>\n",
              "      <th>62</th>\n",
              "      <td>CA_NDP</td>\n",
              "      <td>CA_NDP</td>\n",
              "      <td>1105</td>\n",
              "    </tr>\n",
              "    <tr>\n",
              "      <th>63</th>\n",
              "      <td>CA_PCP</td>\n",
              "      <td>CA_PCP</td>\n",
              "      <td>1106</td>\n",
              "    </tr>\n",
              "    <tr>\n",
              "      <th>64</th>\n",
              "      <td>CA_RPC</td>\n",
              "      <td>CA_RPC</td>\n",
              "      <td>1107</td>\n",
              "    </tr>\n",
              "  </tbody>\n",
              "</table>\n",
              "<p>65 rows × 3 columns</p>\n",
              "</div>"
            ],
            "text/plain": [
              "       name             c_p  partyid\n",
              "0      US_R    US_Democrats      101\n",
              "1      US_D  US_Republicans      102\n",
              "2   NL_PvdA         NL_PvdA        5\n",
              "3    NL_D66          NL_D66        6\n",
              "4    NL_CDA          NL_CDA        7\n",
              "..      ...             ...      ...\n",
              "60   CA_Con           CA_CP     1103\n",
              "61   CA_Lib           CA_LP     1104\n",
              "62   CA_NDP          CA_NDP     1105\n",
              "63   CA_PCP          CA_PCP     1106\n",
              "64   CA_RPC          CA_RPC     1107\n",
              "\n",
              "[65 rows x 3 columns]"
            ]
          },
          "metadata": {
            "tags": []
          },
          "execution_count": 40
        }
      ]
    },
    {
      "cell_type": "markdown",
      "metadata": {
        "id": "vc56PH0F3yQk",
        "colab_type": "text"
      },
      "source": [
        "## 1.2 User Input Values\n"
      ]
    },
    {
      "cell_type": "markdown",
      "metadata": {
        "id": "dcsdceT3kZ9T",
        "colab_type": "text"
      },
      "source": [
        "Missing values within a dataset can also result from mistakes from the user during the data entry/collection phase. This could also result from creating a vector of values from a calculation or from manually curating a vector as shown in the examples below."
      ]
    },
    {
      "cell_type": "code",
      "metadata": {
        "id": "Ovv2uESk97lV",
        "colab_type": "code",
        "colab": {}
      },
      "source": [
        "# Importing nan from numpy so as to represent missing values\n",
        "#\n",
        "from numpy import nan"
      ],
      "execution_count": 41,
      "outputs": []
    },
    {
      "cell_type": "code",
      "metadata": {
        "id": "NjxZX0bMlcDP",
        "colab_type": "code",
        "colab": {
          "base_uri": "https://localhost:8080/",
          "height": 86
        },
        "outputId": "2c5e5a4d-efda-4891-8691-762973ecfa96"
      },
      "source": [
        "# Creating a missing value in a series\n",
        "# NB: Series is the datastructure for a single column of a DataFrame. \n",
        "# \n",
        "population = pd.Series({'Kenya': 47, 'Tanzania': nan, 'Uganda': 30})\n",
        "\n",
        "# Lets now print. Note that NaNs are also valid values for both Series and DataFrames\n",
        "#\n",
        "population"
      ],
      "execution_count": 42,
      "outputs": [
        {
          "output_type": "execute_result",
          "data": {
            "text/plain": [
              "Kenya       47.0\n",
              "Tanzania     NaN\n",
              "Uganda      30.0\n",
              "dtype: float64"
            ]
          },
          "metadata": {
            "tags": []
          },
          "execution_count": 42
        }
      ]
    },
    {
      "cell_type": "code",
      "metadata": {
        "id": "YpglYiRboZf8",
        "colab_type": "code",
        "colab": {
          "base_uri": "https://localhost:8080/",
          "height": 104
        },
        "outputId": "3c893d7d-1f1c-447c-ac77-58f38957b128"
      },
      "source": [
        "# Challenge 5:\n",
        "# Create a series with the names and ages of your peers. Note nan for the ages of peers who you don't know.\n",
        "# \n",
        "peers = pd.Series({'mjay':24,'Marv':23,'Jerome':nan,'gee':29})\n",
        "peers"
      ],
      "execution_count": 45,
      "outputs": [
        {
          "output_type": "execute_result",
          "data": {
            "text/plain": [
              "mjay      24.0\n",
              "Marv      23.0\n",
              "Jerome     NaN\n",
              "gee       29.0\n",
              "dtype: float64"
            ]
          },
          "metadata": {
            "tags": []
          },
          "execution_count": 45
        }
      ]
    },
    {
      "cell_type": "code",
      "metadata": {
        "id": "8srkAWH-rRtr",
        "colab_type": "code",
        "colab": {
          "base_uri": "https://localhost:8080/",
          "height": 138
        },
        "outputId": "518998c2-1ab8-4872-a91d-7dca0830de4b"
      },
      "source": [
        "# Now creating a missing value in a dataframe\n",
        "list_data = [['Steve', 56, 'Nairobi', 'no'],['Bill', 57, 'Machackos', 'yes'],['Richard', nan, nan, 'yes']]\n",
        "\n",
        "# Defining our columns\n",
        "age_df = pd.DataFrame(list_data, columns=['Name', 'Age', 'Hometown', 'Public Commute'])\n",
        "\n",
        "# Printing age_df\n",
        "age_df"
      ],
      "execution_count": 46,
      "outputs": [
        {
          "output_type": "execute_result",
          "data": {
            "text/html": [
              "<div>\n",
              "<style scoped>\n",
              "    .dataframe tbody tr th:only-of-type {\n",
              "        vertical-align: middle;\n",
              "    }\n",
              "\n",
              "    .dataframe tbody tr th {\n",
              "        vertical-align: top;\n",
              "    }\n",
              "\n",
              "    .dataframe thead th {\n",
              "        text-align: right;\n",
              "    }\n",
              "</style>\n",
              "<table border=\"1\" class=\"dataframe\">\n",
              "  <thead>\n",
              "    <tr style=\"text-align: right;\">\n",
              "      <th></th>\n",
              "      <th>Name</th>\n",
              "      <th>Age</th>\n",
              "      <th>Hometown</th>\n",
              "      <th>Public Commute</th>\n",
              "    </tr>\n",
              "  </thead>\n",
              "  <tbody>\n",
              "    <tr>\n",
              "      <th>0</th>\n",
              "      <td>Steve</td>\n",
              "      <td>56.0</td>\n",
              "      <td>Nairobi</td>\n",
              "      <td>no</td>\n",
              "    </tr>\n",
              "    <tr>\n",
              "      <th>1</th>\n",
              "      <td>Bill</td>\n",
              "      <td>57.0</td>\n",
              "      <td>Machackos</td>\n",
              "      <td>yes</td>\n",
              "    </tr>\n",
              "    <tr>\n",
              "      <th>2</th>\n",
              "      <td>Richard</td>\n",
              "      <td>NaN</td>\n",
              "      <td>NaN</td>\n",
              "      <td>yes</td>\n",
              "    </tr>\n",
              "  </tbody>\n",
              "</table>\n",
              "</div>"
            ],
            "text/plain": [
              "      Name   Age   Hometown Public Commute\n",
              "0    Steve  56.0    Nairobi             no\n",
              "1     Bill  57.0  Machackos            yes\n",
              "2  Richard   NaN        NaN            yes"
            ]
          },
          "metadata": {
            "tags": []
          },
          "execution_count": 46
        }
      ]
    },
    {
      "cell_type": "code",
      "metadata": {
        "id": "PUJgSHm-stTx",
        "colab_type": "code",
        "colab": {
          "base_uri": "https://localhost:8080/",
          "height": 138
        },
        "outputId": "71e1c158-7ffc-43c6-e393-e74b318c3dfa"
      },
      "source": [
        "# We can also assign a column of missing values to a dataframe directly\n",
        "#\n",
        "age_df['Public Commute'] = 'Yes';\n",
        "\n",
        "# print age_df\n",
        "#\n",
        "age_df"
      ],
      "execution_count": 47,
      "outputs": [
        {
          "output_type": "execute_result",
          "data": {
            "text/html": [
              "<div>\n",
              "<style scoped>\n",
              "    .dataframe tbody tr th:only-of-type {\n",
              "        vertical-align: middle;\n",
              "    }\n",
              "\n",
              "    .dataframe tbody tr th {\n",
              "        vertical-align: top;\n",
              "    }\n",
              "\n",
              "    .dataframe thead th {\n",
              "        text-align: right;\n",
              "    }\n",
              "</style>\n",
              "<table border=\"1\" class=\"dataframe\">\n",
              "  <thead>\n",
              "    <tr style=\"text-align: right;\">\n",
              "      <th></th>\n",
              "      <th>Name</th>\n",
              "      <th>Age</th>\n",
              "      <th>Hometown</th>\n",
              "      <th>Public Commute</th>\n",
              "    </tr>\n",
              "  </thead>\n",
              "  <tbody>\n",
              "    <tr>\n",
              "      <th>0</th>\n",
              "      <td>Steve</td>\n",
              "      <td>56.0</td>\n",
              "      <td>Nairobi</td>\n",
              "      <td>Yes</td>\n",
              "    </tr>\n",
              "    <tr>\n",
              "      <th>1</th>\n",
              "      <td>Bill</td>\n",
              "      <td>57.0</td>\n",
              "      <td>Machackos</td>\n",
              "      <td>Yes</td>\n",
              "    </tr>\n",
              "    <tr>\n",
              "      <th>2</th>\n",
              "      <td>Richard</td>\n",
              "      <td>NaN</td>\n",
              "      <td>NaN</td>\n",
              "      <td>Yes</td>\n",
              "    </tr>\n",
              "  </tbody>\n",
              "</table>\n",
              "</div>"
            ],
            "text/plain": [
              "      Name   Age   Hometown Public Commute\n",
              "0    Steve  56.0    Nairobi            Yes\n",
              "1     Bill  57.0  Machackos            Yes\n",
              "2  Richard   NaN        NaN            Yes"
            ]
          },
          "metadata": {
            "tags": []
          },
          "execution_count": 47
        }
      ]
    },
    {
      "cell_type": "code",
      "metadata": {
        "id": "vhMyz-00uCgC",
        "colab_type": "code",
        "colab": {
          "base_uri": "https://localhost:8080/",
          "height": 138
        },
        "outputId": "271c1613-70b6-45c4-bafc-c67d7db8523f"
      },
      "source": [
        "# Challenge 6\n",
        "# Create a dataframe with a list of your country's presidents \n",
        "# with their no. of years in office and their last year in office. \n",
        "# NB: You do not know the last year of office for the current president. \n",
        "#\n",
        "county_govs = [['Steve', 5, 2020],['Bill', 7, 2017],['Richard', nan, nan]]\n",
        "county_govs = pd.DataFrame(county_govs, columns=['name','years_in_office','last_year'])\n",
        "county_govs"
      ],
      "execution_count": 49,
      "outputs": [
        {
          "output_type": "execute_result",
          "data": {
            "text/html": [
              "<div>\n",
              "<style scoped>\n",
              "    .dataframe tbody tr th:only-of-type {\n",
              "        vertical-align: middle;\n",
              "    }\n",
              "\n",
              "    .dataframe tbody tr th {\n",
              "        vertical-align: top;\n",
              "    }\n",
              "\n",
              "    .dataframe thead th {\n",
              "        text-align: right;\n",
              "    }\n",
              "</style>\n",
              "<table border=\"1\" class=\"dataframe\">\n",
              "  <thead>\n",
              "    <tr style=\"text-align: right;\">\n",
              "      <th></th>\n",
              "      <th>name</th>\n",
              "      <th>years_in_office</th>\n",
              "      <th>last_year</th>\n",
              "    </tr>\n",
              "  </thead>\n",
              "  <tbody>\n",
              "    <tr>\n",
              "      <th>0</th>\n",
              "      <td>Steve</td>\n",
              "      <td>5.0</td>\n",
              "      <td>2020.0</td>\n",
              "    </tr>\n",
              "    <tr>\n",
              "      <th>1</th>\n",
              "      <td>Bill</td>\n",
              "      <td>7.0</td>\n",
              "      <td>2017.0</td>\n",
              "    </tr>\n",
              "    <tr>\n",
              "      <th>2</th>\n",
              "      <td>Richard</td>\n",
              "      <td>NaN</td>\n",
              "      <td>NaN</td>\n",
              "    </tr>\n",
              "  </tbody>\n",
              "</table>\n",
              "</div>"
            ],
            "text/plain": [
              "      name  years_in_office  last_year\n",
              "0    Steve              5.0     2020.0\n",
              "1     Bill              7.0     2017.0\n",
              "2  Richard              NaN        NaN"
            ]
          },
          "metadata": {
            "tags": []
          },
          "execution_count": 49
        }
      ]
    },
    {
      "cell_type": "markdown",
      "metadata": {
        "id": "ck7WHi5q30vR",
        "colab_type": "text"
      },
      "source": [
        "## 1.3 Re-indexing\n"
      ]
    },
    {
      "cell_type": "markdown",
      "metadata": {
        "id": "hQUEsqgqzgJi",
        "colab_type": "text"
      },
      "source": [
        "Missing values in data can also be introduced when we reindex our dataframe. We will show this through  a dataset from Gapminder."
      ]
    },
    {
      "cell_type": "code",
      "metadata": {
        "id": "LLwszhn_0D1_",
        "colab_type": "code",
        "colab": {
          "base_uri": "https://localhost:8080/",
          "height": 242
        },
        "outputId": "8dc705c9-61fe-4b41-ec5f-2170286defa3"
      },
      "source": [
        "# Getting our dataset\n",
        "gapminder_dataset    = 'http://bit.ly/GapMinderKenyaDataSet'\n",
        "gapminder_dataset_df = pd.read_csv(gapminder_dataset, encoding ='latin1')\n",
        "\n",
        "# printing the dataframe\n",
        "print(gapminder_dataset_df)"
      ],
      "execution_count": 50,
      "outputs": [
        {
          "output_type": "stream",
          "text": [
            "   country continent  year  lifeExp       pop    gdpPercap\n",
            "0    Kenya    Africa  1952   42.270   6464046   853.540919\n",
            "1    Kenya    Africa  1957   44.686   7454779   944.438315\n",
            "2    Kenya    Africa  1962   47.949   8678557   896.966373\n",
            "3    Kenya    Africa  1967   50.654  10191512  1056.736457\n",
            "4    Kenya    Africa  1972   53.559  12044785  1222.359968\n",
            "5    Kenya    Africa  1977   56.155  14500404  1267.613204\n",
            "6    Kenya    Africa  1982   58.766  17661452  1348.225791\n",
            "7    Kenya    Africa  1987   59.339  21198082  1361.936856\n",
            "8    Kenya    Africa  1992   59.285  25020539  1341.921721\n",
            "9    Kenya    Africa  1997   54.407  28263827  1360.485021\n",
            "10   Kenya    Africa  2002   50.992  31386842  1287.514732\n",
            "11   Kenya    Africa  2007   54.110  35610177  1463.249282\n"
          ],
          "name": "stdout"
        }
      ]
    },
    {
      "cell_type": "code",
      "metadata": {
        "id": "Qk6CFqnP3VyD",
        "colab_type": "code",
        "colab": {
          "base_uri": "https://localhost:8080/",
          "height": 259
        },
        "outputId": "465151c1-1b1b-4d11-f6c7-92e843921671"
      },
      "source": [
        "# now performing a groupby operation so as to subset the data\n",
        "life_exp = gapminder_dataset_df.groupby(['year'])['lifeExp'].mean()\n",
        "print(life_exp)"
      ],
      "execution_count": 53,
      "outputs": [
        {
          "output_type": "stream",
          "text": [
            "year\n",
            "1952    42.270\n",
            "1957    44.686\n",
            "1962    47.949\n",
            "1967    50.654\n",
            "1972    53.559\n",
            "1977    56.155\n",
            "1982    58.766\n",
            "1987    59.339\n",
            "1992    59.285\n",
            "1997    54.407\n",
            "2002    50.992\n",
            "2007    54.110\n",
            "Name: lifeExp, dtype: float64\n"
          ],
          "name": "stdout"
        }
      ]
    },
    {
      "cell_type": "code",
      "metadata": {
        "id": "dreKsIPC33IN",
        "colab_type": "code",
        "colab": {
          "base_uri": "https://localhost:8080/",
          "height": 173
        },
        "outputId": "a6526f05-de23-41a3-e975-7fe783f961ef"
      },
      "source": [
        "# We then reindexing by slicing the data. We continue to chain the 'loc' from the code above\n",
        "print(life_exp.reindex(range(2000, 2007)))"
      ],
      "execution_count": 60,
      "outputs": [
        {
          "output_type": "stream",
          "text": [
            "year\n",
            "2000       NaN\n",
            "2001       NaN\n",
            "2002    50.992\n",
            "2003       NaN\n",
            "2004       NaN\n",
            "2005       NaN\n",
            "2006       NaN\n",
            "Name: lifeExp, dtype: float64\n"
          ],
          "name": "stdout"
        }
      ]
    },
    {
      "cell_type": "markdown",
      "metadata": {
        "id": "z3D_BL4Y6Wc-",
        "colab_type": "text"
      },
      "source": [
        "Now, it seems we have been provided a suggestion to use the reindex() method. We will do this below as we choose to subset the data separately and then use the reindex() method."
      ]
    },
    {
      "cell_type": "code",
      "metadata": {
        "id": "QHf1dxsB6Zgj",
        "colab_type": "code",
        "colab": {
          "base_uri": "https://localhost:8080/",
          "height": 86
        },
        "outputId": "790f2a1f-09d5-4532-a60a-832e6afe8353"
      },
      "source": [
        "# subsetting the dataframe\n",
        "y_2000_df = life_exp[life_exp.index > 2000] \n",
        "print(y_2000_df)"
      ],
      "execution_count": 57,
      "outputs": [
        {
          "output_type": "stream",
          "text": [
            "year\n",
            "2002    50.992\n",
            "2007    54.110\n",
            "Name: lifeExp, dtype: float64\n"
          ],
          "name": "stdout"
        }
      ]
    },
    {
      "cell_type": "code",
      "metadata": {
        "id": "zw134j3963KS",
        "colab_type": "code",
        "colab": {
          "base_uri": "https://localhost:8080/",
          "height": 224
        },
        "outputId": "a5fcd643-af88-463b-a075-021746fcdd2c"
      },
      "source": [
        "# then reindexing\n",
        "print(y_2000_df.reindex(range(2000, 2010)))"
      ],
      "execution_count": 58,
      "outputs": [
        {
          "output_type": "stream",
          "text": [
            "year\n",
            "2000       NaN\n",
            "2001       NaN\n",
            "2002    50.992\n",
            "2003       NaN\n",
            "2004       NaN\n",
            "2005       NaN\n",
            "2006       NaN\n",
            "2007    54.110\n",
            "2008       NaN\n",
            "2009       NaN\n",
            "Name: lifeExp, dtype: float64\n"
          ],
          "name": "stdout"
        }
      ]
    },
    {
      "cell_type": "code",
      "metadata": {
        "id": "cGkhGcDr9CHB",
        "colab_type": "code",
        "colab": {
          "base_uri": "https://localhost:8080/",
          "height": 224
        },
        "outputId": "f35fb669-8e34-488c-b3d8-81f9350e8eec"
      },
      "source": [
        "# Challenge 7\n",
        "# We would want to look at only the years from 2000 to 2010 from the gapminder dataset below. \n",
        "# Perform grouped operations, subseting the data and then re-indexing it. \n",
        "# Show how this process might result to getting missing values.\n",
        "\n",
        "# Assinging data the url for our dataset\n",
        "data = 'http://bit.ly/GapMinderUgandaDataSet'\n",
        "\n",
        "dataset = pd.read_csv(data)\n",
        "dataset\n",
        "\n",
        "#subset data\n",
        "data_subset = dataset.groupby(['year'])['lifeExp'].mean()\n",
        "data_subset = life_exp[life_exp.index >1995]\n",
        "data_subset\n",
        "#reindexing\n",
        "print(data_subset.reindex(range(1995, 2005)))"
      ],
      "execution_count": 65,
      "outputs": [
        {
          "output_type": "stream",
          "text": [
            "year\n",
            "1995       NaN\n",
            "1996       NaN\n",
            "1997    54.407\n",
            "1998       NaN\n",
            "1999       NaN\n",
            "2000       NaN\n",
            "2001       NaN\n",
            "2002    50.992\n",
            "2003       NaN\n",
            "2004       NaN\n",
            "Name: lifeExp, dtype: float64\n"
          ],
          "name": "stdout"
        }
      ]
    },
    {
      "cell_type": "markdown",
      "metadata": {
        "id": "EkPq4SVvwIEh",
        "colab_type": "text"
      },
      "source": [
        ""
      ]
    }
  ]
}