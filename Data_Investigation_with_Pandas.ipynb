{
  "nbformat": 4,
  "nbformat_minor": 0,
  "metadata": {
    "colab": {
      "name": "Data Investigation with Pandas",
      "provenance": [],
      "collapsed_sections": [
        "VSnOCZ5-IPCi",
        "HToJZ2gBPawZ",
        "IICLGbvBRYHq",
        "RAVzK5O6IR8v",
        "NicC8P9LMjvO"
      ],
      "include_colab_link": true
    },
    "kernelspec": {
      "name": "python3",
      "display_name": "Python 3"
    }
  },
  "cells": [
    {
      "cell_type": "markdown",
      "metadata": {
        "id": "view-in-github",
        "colab_type": "text"
      },
      "source": [
        "<a href=\"https://colab.research.google.com/github/Mjcherono/MoringaIPs/blob/master/Data_Investigation_with_Pandas.ipynb\" target=\"_parent\"><img src=\"https://colab.research.google.com/assets/colab-badge.svg\" alt=\"Open In Colab\"/></a>"
      ]
    },
    {
      "cell_type": "markdown",
      "metadata": {
        "id": "B-ZF3yPCWGPf",
        "colab_type": "text"
      },
      "source": [
        "<font color=\"green\">*To start working on this notebook, or any other notebook that we will use in the Moringa Data Science Course, we will need to save our own copy of it. We can do this by clicking File > Save a Copy in Drive. We will then be able to make edits to our own copy of this notebook.*</font>"
      ]
    },
    {
      "cell_type": "markdown",
      "metadata": {
        "id": "m0tgCkvzPLEa",
        "colab_type": "text"
      },
      "source": [
        "# Data Investigation with Pandas"
      ]
    },
    {
      "cell_type": "markdown",
      "metadata": {
        "colab_type": "text",
        "id": "VSnOCZ5-IPCi"
      },
      "source": [
        "## 1.0 Importing our Libraries"
      ]
    },
    {
      "cell_type": "code",
      "metadata": {
        "id": "3r-KDLvrO44a",
        "colab_type": "code",
        "colab": {}
      },
      "source": [
        "# Importing the libraries we will need \n",
        "\n",
        "# Importing the pandas library\n",
        "# \n",
        "import pandas as pd\n",
        "# Importing the numpy library\n",
        "#\n",
        "import numpy as pd"
      ],
      "execution_count": 21,
      "outputs": []
    },
    {
      "cell_type": "markdown",
      "metadata": {
        "id": "HToJZ2gBPawZ",
        "colab_type": "text"
      },
      "source": [
        "\n",
        "## 1.1 Reading the Dataset from our CSV file\n",
        "\n"
      ]
    },
    {
      "cell_type": "markdown",
      "metadata": {
        "id": "LBUr8VUXQX-K",
        "colab_type": "text"
      },
      "source": [
        "\n",
        "\n",
        "The dataset we will use contains information about the 2009 Census - The Rural Urban Population by Age, Sex and District.\n",
        "\n",
        "\n",
        "*   Dataset link for download or access: [Link](https://drive.google.com/open?id=1pc9ZLFGsosdWBk1lI29ADIqRtCvD_FBe)\n",
        "\n",
        "\n",
        "\n"
      ]
    },
    {
      "cell_type": "code",
      "metadata": {
        "id": "jCdgUQGX_fYV",
        "colab_type": "code",
        "colab": {}
      },
      "source": [
        "import pandas as pd"
      ],
      "execution_count": 22,
      "outputs": []
    },
    {
      "cell_type": "code",
      "metadata": {
        "id": "1acwmZanRNHs",
        "colab_type": "code",
        "colab": {
          "base_uri": "https://localhost:8080/",
          "height": 138
        },
        "outputId": "289ed095-4e5c-4af5-8815-4a5497ef9550"
      },
      "source": [
        "# Let's read the data from the CSV file and create the dataframe to be used\n",
        "# \n",
        "df = pd.read_csv('/content/Rural_Urban_Population_By_Age_Sex_and_by_District__2009.csv')\n",
        "df.head(3)"
      ],
      "execution_count": 23,
      "outputs": [
        {
          "output_type": "execute_result",
          "data": {
            "text/html": [
              "<div>\n",
              "<style scoped>\n",
              "    .dataframe tbody tr th:only-of-type {\n",
              "        vertical-align: middle;\n",
              "    }\n",
              "\n",
              "    .dataframe tbody tr th {\n",
              "        vertical-align: top;\n",
              "    }\n",
              "\n",
              "    .dataframe thead th {\n",
              "        text-align: right;\n",
              "    }\n",
              "</style>\n",
              "<table border=\"1\" class=\"dataframe\">\n",
              "  <thead>\n",
              "    <tr style=\"text-align: right;\">\n",
              "      <th></th>\n",
              "      <th>District</th>\n",
              "      <th>Urban/Rural</th>\n",
              "      <th>Age_years</th>\n",
              "      <th>Male</th>\n",
              "      <th>Female</th>\n",
              "      <th>Total</th>\n",
              "      <th>County</th>\n",
              "      <th>Province</th>\n",
              "      <th>OBJECTID</th>\n",
              "    </tr>\n",
              "  </thead>\n",
              "  <tbody>\n",
              "    <tr>\n",
              "      <th>0</th>\n",
              "      <td>NAIROBI WEST</td>\n",
              "      <td>Urban</td>\n",
              "      <td>0</td>\n",
              "      <td>10126</td>\n",
              "      <td>10116</td>\n",
              "      <td>20242</td>\n",
              "      <td>Nairobi</td>\n",
              "      <td>NAIROBI</td>\n",
              "      <td>0</td>\n",
              "    </tr>\n",
              "    <tr>\n",
              "      <th>1</th>\n",
              "      <td>NAIROBI WEST</td>\n",
              "      <td>Urban</td>\n",
              "      <td>1</td>\n",
              "      <td>8124</td>\n",
              "      <td>7989</td>\n",
              "      <td>16113</td>\n",
              "      <td>Nairobi</td>\n",
              "      <td>NAIROBI</td>\n",
              "      <td>1</td>\n",
              "    </tr>\n",
              "    <tr>\n",
              "      <th>2</th>\n",
              "      <td>NAIROBI WEST</td>\n",
              "      <td>Urban</td>\n",
              "      <td>2</td>\n",
              "      <td>8462</td>\n",
              "      <td>8627</td>\n",
              "      <td>17089</td>\n",
              "      <td>Nairobi</td>\n",
              "      <td>NAIROBI</td>\n",
              "      <td>2</td>\n",
              "    </tr>\n",
              "  </tbody>\n",
              "</table>\n",
              "</div>"
            ],
            "text/plain": [
              "       District Urban/Rural Age_years   Male  ...  Total   County Province OBJECTID\n",
              "0  NAIROBI WEST       Urban         0  10126  ...  20242  Nairobi  NAIROBI        0\n",
              "1  NAIROBI WEST       Urban         1   8124  ...  16113  Nairobi  NAIROBI        1\n",
              "2  NAIROBI WEST       Urban         2   8462  ...  17089  Nairobi  NAIROBI        2\n",
              "\n",
              "[3 rows x 9 columns]"
            ]
          },
          "metadata": {
            "tags": []
          },
          "execution_count": 23
        }
      ]
    },
    {
      "cell_type": "markdown",
      "metadata": {
        "id": "IICLGbvBRYHq",
        "colab_type": "text"
      },
      "source": [
        "## 1.2 Previewing our Dataset\n"
      ]
    },
    {
      "cell_type": "code",
      "metadata": {
        "id": "WrwHg-hzR5BY",
        "colab_type": "code",
        "colab": {
          "base_uri": "https://localhost:8080/",
          "height": 349
        },
        "outputId": "49761998-f10e-4fd3-c76c-3d0eac75b0c8"
      },
      "source": [
        "# Let's preview the first 10 rows of our data\n",
        "# \n",
        "df.head(10)"
      ],
      "execution_count": 24,
      "outputs": [
        {
          "output_type": "execute_result",
          "data": {
            "text/html": [
              "<div>\n",
              "<style scoped>\n",
              "    .dataframe tbody tr th:only-of-type {\n",
              "        vertical-align: middle;\n",
              "    }\n",
              "\n",
              "    .dataframe tbody tr th {\n",
              "        vertical-align: top;\n",
              "    }\n",
              "\n",
              "    .dataframe thead th {\n",
              "        text-align: right;\n",
              "    }\n",
              "</style>\n",
              "<table border=\"1\" class=\"dataframe\">\n",
              "  <thead>\n",
              "    <tr style=\"text-align: right;\">\n",
              "      <th></th>\n",
              "      <th>District</th>\n",
              "      <th>Urban/Rural</th>\n",
              "      <th>Age_years</th>\n",
              "      <th>Male</th>\n",
              "      <th>Female</th>\n",
              "      <th>Total</th>\n",
              "      <th>County</th>\n",
              "      <th>Province</th>\n",
              "      <th>OBJECTID</th>\n",
              "    </tr>\n",
              "  </thead>\n",
              "  <tbody>\n",
              "    <tr>\n",
              "      <th>0</th>\n",
              "      <td>NAIROBI WEST</td>\n",
              "      <td>Urban</td>\n",
              "      <td>0</td>\n",
              "      <td>10126</td>\n",
              "      <td>10116</td>\n",
              "      <td>20242</td>\n",
              "      <td>Nairobi</td>\n",
              "      <td>NAIROBI</td>\n",
              "      <td>0</td>\n",
              "    </tr>\n",
              "    <tr>\n",
              "      <th>1</th>\n",
              "      <td>NAIROBI WEST</td>\n",
              "      <td>Urban</td>\n",
              "      <td>1</td>\n",
              "      <td>8124</td>\n",
              "      <td>7989</td>\n",
              "      <td>16113</td>\n",
              "      <td>Nairobi</td>\n",
              "      <td>NAIROBI</td>\n",
              "      <td>1</td>\n",
              "    </tr>\n",
              "    <tr>\n",
              "      <th>2</th>\n",
              "      <td>NAIROBI WEST</td>\n",
              "      <td>Urban</td>\n",
              "      <td>2</td>\n",
              "      <td>8462</td>\n",
              "      <td>8627</td>\n",
              "      <td>17089</td>\n",
              "      <td>Nairobi</td>\n",
              "      <td>NAIROBI</td>\n",
              "      <td>2</td>\n",
              "    </tr>\n",
              "    <tr>\n",
              "      <th>3</th>\n",
              "      <td>NAIROBI WEST</td>\n",
              "      <td>Urban</td>\n",
              "      <td>3</td>\n",
              "      <td>8334</td>\n",
              "      <td>8420</td>\n",
              "      <td>16754</td>\n",
              "      <td>Nairobi</td>\n",
              "      <td>NAIROBI</td>\n",
              "      <td>3</td>\n",
              "    </tr>\n",
              "    <tr>\n",
              "      <th>4</th>\n",
              "      <td>NAIROBI WEST</td>\n",
              "      <td>Urban</td>\n",
              "      <td>4</td>\n",
              "      <td>7948</td>\n",
              "      <td>7820</td>\n",
              "      <td>15768</td>\n",
              "      <td>Nairobi</td>\n",
              "      <td>NAIROBI</td>\n",
              "      <td>4</td>\n",
              "    </tr>\n",
              "    <tr>\n",
              "      <th>5</th>\n",
              "      <td>NAIROBI WEST</td>\n",
              "      <td>Urban</td>\n",
              "      <td>5</td>\n",
              "      <td>7547</td>\n",
              "      <td>7660</td>\n",
              "      <td>15207</td>\n",
              "      <td>Nairobi</td>\n",
              "      <td>NAIROBI</td>\n",
              "      <td>5</td>\n",
              "    </tr>\n",
              "    <tr>\n",
              "      <th>6</th>\n",
              "      <td>NAIROBI WEST</td>\n",
              "      <td>Urban</td>\n",
              "      <td>6</td>\n",
              "      <td>6966</td>\n",
              "      <td>7082</td>\n",
              "      <td>14048</td>\n",
              "      <td>Nairobi</td>\n",
              "      <td>NAIROBI</td>\n",
              "      <td>6</td>\n",
              "    </tr>\n",
              "    <tr>\n",
              "      <th>7</th>\n",
              "      <td>NAIROBI WEST</td>\n",
              "      <td>Urban</td>\n",
              "      <td>7</td>\n",
              "      <td>6511</td>\n",
              "      <td>6674</td>\n",
              "      <td>13185</td>\n",
              "      <td>Nairobi</td>\n",
              "      <td>NAIROBI</td>\n",
              "      <td>7</td>\n",
              "    </tr>\n",
              "    <tr>\n",
              "      <th>8</th>\n",
              "      <td>NAIROBI WEST</td>\n",
              "      <td>Urban</td>\n",
              "      <td>8</td>\n",
              "      <td>6171</td>\n",
              "      <td>6489</td>\n",
              "      <td>12660</td>\n",
              "      <td>Nairobi</td>\n",
              "      <td>NAIROBI</td>\n",
              "      <td>8</td>\n",
              "    </tr>\n",
              "    <tr>\n",
              "      <th>9</th>\n",
              "      <td>NAIROBI WEST</td>\n",
              "      <td>Urban</td>\n",
              "      <td>9</td>\n",
              "      <td>6361</td>\n",
              "      <td>6662</td>\n",
              "      <td>13023</td>\n",
              "      <td>Nairobi</td>\n",
              "      <td>NAIROBI</td>\n",
              "      <td>9</td>\n",
              "    </tr>\n",
              "  </tbody>\n",
              "</table>\n",
              "</div>"
            ],
            "text/plain": [
              "       District Urban/Rural Age_years   Male  ...  Total   County Province OBJECTID\n",
              "0  NAIROBI WEST       Urban         0  10126  ...  20242  Nairobi  NAIROBI        0\n",
              "1  NAIROBI WEST       Urban         1   8124  ...  16113  Nairobi  NAIROBI        1\n",
              "2  NAIROBI WEST       Urban         2   8462  ...  17089  Nairobi  NAIROBI        2\n",
              "3  NAIROBI WEST       Urban         3   8334  ...  16754  Nairobi  NAIROBI        3\n",
              "4  NAIROBI WEST       Urban         4   7948  ...  15768  Nairobi  NAIROBI        4\n",
              "5  NAIROBI WEST       Urban         5   7547  ...  15207  Nairobi  NAIROBI        5\n",
              "6  NAIROBI WEST       Urban         6   6966  ...  14048  Nairobi  NAIROBI        6\n",
              "7  NAIROBI WEST       Urban         7   6511  ...  13185  Nairobi  NAIROBI        7\n",
              "8  NAIROBI WEST       Urban         8   6171  ...  12660  Nairobi  NAIROBI        8\n",
              "9  NAIROBI WEST       Urban         9   6361  ...  13023  Nairobi  NAIROBI        9\n",
              "\n",
              "[10 rows x 9 columns]"
            ]
          },
          "metadata": {
            "tags": []
          },
          "execution_count": 24
        }
      ]
    },
    {
      "cell_type": "markdown",
      "metadata": {
        "id": "RAVzK5O6IR8v",
        "colab_type": "text"
      },
      "source": [
        "## 1.3 Accessing Information about our Dataset"
      ]
    },
    {
      "cell_type": "code",
      "metadata": {
        "id": "Ewlh0wTKAiwJ",
        "colab_type": "code",
        "colab": {
          "base_uri": "https://localhost:8080/",
          "height": 190
        },
        "outputId": "55293f32-b172-4c10-d155-2f0be9a253cb"
      },
      "source": [
        "df.dtypes"
      ],
      "execution_count": 25,
      "outputs": [
        {
          "output_type": "execute_result",
          "data": {
            "text/plain": [
              "District       object\n",
              "Urban/Rural    object\n",
              "Age_years      object\n",
              "Male            int64\n",
              "Female          int64\n",
              "Total           int64\n",
              "County         object\n",
              "Province       object\n",
              "OBJECTID        int64\n",
              "dtype: object"
            ]
          },
          "metadata": {
            "tags": []
          },
          "execution_count": 25
        }
      ]
    },
    {
      "cell_type": "code",
      "metadata": {
        "id": "9OaCo1QsQ_D5",
        "colab_type": "code",
        "colab": {
          "base_uri": "https://localhost:8080/",
          "height": 408
        },
        "outputId": "b8299108-1600-4916-aa61-81a265bd8686"
      },
      "source": [
        "df.duplicated()\n",
        "df.drop_duplicates()"
      ],
      "execution_count": 26,
      "outputs": [
        {
          "output_type": "execute_result",
          "data": {
            "text/html": [
              "<div>\n",
              "<style scoped>\n",
              "    .dataframe tbody tr th:only-of-type {\n",
              "        vertical-align: middle;\n",
              "    }\n",
              "\n",
              "    .dataframe tbody tr th {\n",
              "        vertical-align: top;\n",
              "    }\n",
              "\n",
              "    .dataframe thead th {\n",
              "        text-align: right;\n",
              "    }\n",
              "</style>\n",
              "<table border=\"1\" class=\"dataframe\">\n",
              "  <thead>\n",
              "    <tr style=\"text-align: right;\">\n",
              "      <th></th>\n",
              "      <th>District</th>\n",
              "      <th>Urban/Rural</th>\n",
              "      <th>Age_years</th>\n",
              "      <th>Male</th>\n",
              "      <th>Female</th>\n",
              "      <th>Total</th>\n",
              "      <th>County</th>\n",
              "      <th>Province</th>\n",
              "      <th>OBJECTID</th>\n",
              "    </tr>\n",
              "  </thead>\n",
              "  <tbody>\n",
              "    <tr>\n",
              "      <th>0</th>\n",
              "      <td>NAIROBI WEST</td>\n",
              "      <td>Urban</td>\n",
              "      <td>0</td>\n",
              "      <td>10126</td>\n",
              "      <td>10116</td>\n",
              "      <td>20242</td>\n",
              "      <td>Nairobi</td>\n",
              "      <td>NAIROBI</td>\n",
              "      <td>0</td>\n",
              "    </tr>\n",
              "    <tr>\n",
              "      <th>1</th>\n",
              "      <td>NAIROBI WEST</td>\n",
              "      <td>Urban</td>\n",
              "      <td>1</td>\n",
              "      <td>8124</td>\n",
              "      <td>7989</td>\n",
              "      <td>16113</td>\n",
              "      <td>Nairobi</td>\n",
              "      <td>NAIROBI</td>\n",
              "      <td>1</td>\n",
              "    </tr>\n",
              "    <tr>\n",
              "      <th>2</th>\n",
              "      <td>NAIROBI WEST</td>\n",
              "      <td>Urban</td>\n",
              "      <td>2</td>\n",
              "      <td>8462</td>\n",
              "      <td>8627</td>\n",
              "      <td>17089</td>\n",
              "      <td>Nairobi</td>\n",
              "      <td>NAIROBI</td>\n",
              "      <td>2</td>\n",
              "    </tr>\n",
              "    <tr>\n",
              "      <th>3</th>\n",
              "      <td>NAIROBI WEST</td>\n",
              "      <td>Urban</td>\n",
              "      <td>3</td>\n",
              "      <td>8334</td>\n",
              "      <td>8420</td>\n",
              "      <td>16754</td>\n",
              "      <td>Nairobi</td>\n",
              "      <td>NAIROBI</td>\n",
              "      <td>3</td>\n",
              "    </tr>\n",
              "    <tr>\n",
              "      <th>4</th>\n",
              "      <td>NAIROBI WEST</td>\n",
              "      <td>Urban</td>\n",
              "      <td>4</td>\n",
              "      <td>7948</td>\n",
              "      <td>7820</td>\n",
              "      <td>15768</td>\n",
              "      <td>Nairobi</td>\n",
              "      <td>NAIROBI</td>\n",
              "      <td>4</td>\n",
              "    </tr>\n",
              "    <tr>\n",
              "      <th>...</th>\n",
              "      <td>...</td>\n",
              "      <td>...</td>\n",
              "      <td>...</td>\n",
              "      <td>...</td>\n",
              "      <td>...</td>\n",
              "      <td>...</td>\n",
              "      <td>...</td>\n",
              "      <td>...</td>\n",
              "      <td>...</td>\n",
              "    </tr>\n",
              "    <tr>\n",
              "      <th>25415</th>\n",
              "      <td>TESO SOUTH</td>\n",
              "      <td>Rural</td>\n",
              "      <td>77</td>\n",
              "      <td>99</td>\n",
              "      <td>86</td>\n",
              "      <td>185</td>\n",
              "      <td>Busia</td>\n",
              "      <td>WESTERN</td>\n",
              "      <td>25415</td>\n",
              "    </tr>\n",
              "    <tr>\n",
              "      <th>25416</th>\n",
              "      <td>TESO SOUTH</td>\n",
              "      <td>Rural</td>\n",
              "      <td>78</td>\n",
              "      <td>63</td>\n",
              "      <td>47</td>\n",
              "      <td>110</td>\n",
              "      <td>Busia</td>\n",
              "      <td>WESTERN</td>\n",
              "      <td>25416</td>\n",
              "    </tr>\n",
              "    <tr>\n",
              "      <th>25417</th>\n",
              "      <td>TESO SOUTH</td>\n",
              "      <td>Rural</td>\n",
              "      <td>79</td>\n",
              "      <td>90</td>\n",
              "      <td>121</td>\n",
              "      <td>211</td>\n",
              "      <td>Busia</td>\n",
              "      <td>WESTERN</td>\n",
              "      <td>25417</td>\n",
              "    </tr>\n",
              "    <tr>\n",
              "      <th>25418</th>\n",
              "      <td>TESO SOUTH</td>\n",
              "      <td>Rural</td>\n",
              "      <td>80+</td>\n",
              "      <td>384</td>\n",
              "      <td>391</td>\n",
              "      <td>775</td>\n",
              "      <td>Busia</td>\n",
              "      <td>WESTERN</td>\n",
              "      <td>25418</td>\n",
              "    </tr>\n",
              "    <tr>\n",
              "      <th>25419</th>\n",
              "      <td>TESO SOUTH</td>\n",
              "      <td>Rural</td>\n",
              "      <td>Age NS</td>\n",
              "      <td>25</td>\n",
              "      <td>23</td>\n",
              "      <td>48</td>\n",
              "      <td>Busia</td>\n",
              "      <td>WESTERN</td>\n",
              "      <td>25419</td>\n",
              "    </tr>\n",
              "  </tbody>\n",
              "</table>\n",
              "<p>25420 rows × 9 columns</p>\n",
              "</div>"
            ],
            "text/plain": [
              "           District Urban/Rural Age_years  ...   County  Province  OBJECTID\n",
              "0      NAIROBI WEST       Urban         0  ...  Nairobi   NAIROBI         0\n",
              "1      NAIROBI WEST       Urban         1  ...  Nairobi   NAIROBI         1\n",
              "2      NAIROBI WEST       Urban         2  ...  Nairobi   NAIROBI         2\n",
              "3      NAIROBI WEST       Urban         3  ...  Nairobi   NAIROBI         3\n",
              "4      NAIROBI WEST       Urban         4  ...  Nairobi   NAIROBI         4\n",
              "...             ...         ...       ...  ...      ...       ...       ...\n",
              "25415    TESO SOUTH       Rural        77  ...    Busia   WESTERN     25415\n",
              "25416    TESO SOUTH       Rural        78  ...    Busia   WESTERN     25416\n",
              "25417    TESO SOUTH       Rural        79  ...    Busia   WESTERN     25417\n",
              "25418    TESO SOUTH       Rural       80+  ...    Busia   WESTERN     25418\n",
              "25419    TESO SOUTH       Rural    Age NS  ...    Busia   WESTERN     25419\n",
              "\n",
              "[25420 rows x 9 columns]"
            ]
          },
          "metadata": {
            "tags": []
          },
          "execution_count": 26
        }
      ]
    },
    {
      "cell_type": "code",
      "metadata": {
        "id": "xynEZIvDRVJZ",
        "colab_type": "code",
        "colab": {
          "base_uri": "https://localhost:8080/",
          "height": 408
        },
        "outputId": "737b5c78-7c84-43ab-d1f0-f9f6e0c16859"
      },
      "source": [
        "df.isnull()"
      ],
      "execution_count": 27,
      "outputs": [
        {
          "output_type": "execute_result",
          "data": {
            "text/html": [
              "<div>\n",
              "<style scoped>\n",
              "    .dataframe tbody tr th:only-of-type {\n",
              "        vertical-align: middle;\n",
              "    }\n",
              "\n",
              "    .dataframe tbody tr th {\n",
              "        vertical-align: top;\n",
              "    }\n",
              "\n",
              "    .dataframe thead th {\n",
              "        text-align: right;\n",
              "    }\n",
              "</style>\n",
              "<table border=\"1\" class=\"dataframe\">\n",
              "  <thead>\n",
              "    <tr style=\"text-align: right;\">\n",
              "      <th></th>\n",
              "      <th>District</th>\n",
              "      <th>Urban/Rural</th>\n",
              "      <th>Age_years</th>\n",
              "      <th>Male</th>\n",
              "      <th>Female</th>\n",
              "      <th>Total</th>\n",
              "      <th>County</th>\n",
              "      <th>Province</th>\n",
              "      <th>OBJECTID</th>\n",
              "    </tr>\n",
              "  </thead>\n",
              "  <tbody>\n",
              "    <tr>\n",
              "      <th>0</th>\n",
              "      <td>False</td>\n",
              "      <td>False</td>\n",
              "      <td>False</td>\n",
              "      <td>False</td>\n",
              "      <td>False</td>\n",
              "      <td>False</td>\n",
              "      <td>False</td>\n",
              "      <td>False</td>\n",
              "      <td>False</td>\n",
              "    </tr>\n",
              "    <tr>\n",
              "      <th>1</th>\n",
              "      <td>False</td>\n",
              "      <td>False</td>\n",
              "      <td>False</td>\n",
              "      <td>False</td>\n",
              "      <td>False</td>\n",
              "      <td>False</td>\n",
              "      <td>False</td>\n",
              "      <td>False</td>\n",
              "      <td>False</td>\n",
              "    </tr>\n",
              "    <tr>\n",
              "      <th>2</th>\n",
              "      <td>False</td>\n",
              "      <td>False</td>\n",
              "      <td>False</td>\n",
              "      <td>False</td>\n",
              "      <td>False</td>\n",
              "      <td>False</td>\n",
              "      <td>False</td>\n",
              "      <td>False</td>\n",
              "      <td>False</td>\n",
              "    </tr>\n",
              "    <tr>\n",
              "      <th>3</th>\n",
              "      <td>False</td>\n",
              "      <td>False</td>\n",
              "      <td>False</td>\n",
              "      <td>False</td>\n",
              "      <td>False</td>\n",
              "      <td>False</td>\n",
              "      <td>False</td>\n",
              "      <td>False</td>\n",
              "      <td>False</td>\n",
              "    </tr>\n",
              "    <tr>\n",
              "      <th>4</th>\n",
              "      <td>False</td>\n",
              "      <td>False</td>\n",
              "      <td>False</td>\n",
              "      <td>False</td>\n",
              "      <td>False</td>\n",
              "      <td>False</td>\n",
              "      <td>False</td>\n",
              "      <td>False</td>\n",
              "      <td>False</td>\n",
              "    </tr>\n",
              "    <tr>\n",
              "      <th>...</th>\n",
              "      <td>...</td>\n",
              "      <td>...</td>\n",
              "      <td>...</td>\n",
              "      <td>...</td>\n",
              "      <td>...</td>\n",
              "      <td>...</td>\n",
              "      <td>...</td>\n",
              "      <td>...</td>\n",
              "      <td>...</td>\n",
              "    </tr>\n",
              "    <tr>\n",
              "      <th>25415</th>\n",
              "      <td>False</td>\n",
              "      <td>False</td>\n",
              "      <td>False</td>\n",
              "      <td>False</td>\n",
              "      <td>False</td>\n",
              "      <td>False</td>\n",
              "      <td>False</td>\n",
              "      <td>False</td>\n",
              "      <td>False</td>\n",
              "    </tr>\n",
              "    <tr>\n",
              "      <th>25416</th>\n",
              "      <td>False</td>\n",
              "      <td>False</td>\n",
              "      <td>False</td>\n",
              "      <td>False</td>\n",
              "      <td>False</td>\n",
              "      <td>False</td>\n",
              "      <td>False</td>\n",
              "      <td>False</td>\n",
              "      <td>False</td>\n",
              "    </tr>\n",
              "    <tr>\n",
              "      <th>25417</th>\n",
              "      <td>False</td>\n",
              "      <td>False</td>\n",
              "      <td>False</td>\n",
              "      <td>False</td>\n",
              "      <td>False</td>\n",
              "      <td>False</td>\n",
              "      <td>False</td>\n",
              "      <td>False</td>\n",
              "      <td>False</td>\n",
              "    </tr>\n",
              "    <tr>\n",
              "      <th>25418</th>\n",
              "      <td>False</td>\n",
              "      <td>False</td>\n",
              "      <td>False</td>\n",
              "      <td>False</td>\n",
              "      <td>False</td>\n",
              "      <td>False</td>\n",
              "      <td>False</td>\n",
              "      <td>False</td>\n",
              "      <td>False</td>\n",
              "    </tr>\n",
              "    <tr>\n",
              "      <th>25419</th>\n",
              "      <td>False</td>\n",
              "      <td>False</td>\n",
              "      <td>False</td>\n",
              "      <td>False</td>\n",
              "      <td>False</td>\n",
              "      <td>False</td>\n",
              "      <td>False</td>\n",
              "      <td>False</td>\n",
              "      <td>False</td>\n",
              "    </tr>\n",
              "  </tbody>\n",
              "</table>\n",
              "<p>25420 rows × 9 columns</p>\n",
              "</div>"
            ],
            "text/plain": [
              "       District  Urban/Rural  Age_years  ...  County  Province  OBJECTID\n",
              "0         False        False      False  ...   False     False     False\n",
              "1         False        False      False  ...   False     False     False\n",
              "2         False        False      False  ...   False     False     False\n",
              "3         False        False      False  ...   False     False     False\n",
              "4         False        False      False  ...   False     False     False\n",
              "...         ...          ...        ...  ...     ...       ...       ...\n",
              "25415     False        False      False  ...   False     False     False\n",
              "25416     False        False      False  ...   False     False     False\n",
              "25417     False        False      False  ...   False     False     False\n",
              "25418     False        False      False  ...   False     False     False\n",
              "25419     False        False      False  ...   False     False     False\n",
              "\n",
              "[25420 rows x 9 columns]"
            ]
          },
          "metadata": {
            "tags": []
          },
          "execution_count": 27
        }
      ]
    },
    {
      "cell_type": "code",
      "metadata": {
        "id": "JUEyII20Reph",
        "colab_type": "code",
        "colab": {
          "base_uri": "https://localhost:8080/",
          "height": 408
        },
        "outputId": "f299215a-7f1b-4699-cb48-1064501dab7c"
      },
      "source": [
        "df.dropna()"
      ],
      "execution_count": 28,
      "outputs": [
        {
          "output_type": "execute_result",
          "data": {
            "text/html": [
              "<div>\n",
              "<style scoped>\n",
              "    .dataframe tbody tr th:only-of-type {\n",
              "        vertical-align: middle;\n",
              "    }\n",
              "\n",
              "    .dataframe tbody tr th {\n",
              "        vertical-align: top;\n",
              "    }\n",
              "\n",
              "    .dataframe thead th {\n",
              "        text-align: right;\n",
              "    }\n",
              "</style>\n",
              "<table border=\"1\" class=\"dataframe\">\n",
              "  <thead>\n",
              "    <tr style=\"text-align: right;\">\n",
              "      <th></th>\n",
              "      <th>District</th>\n",
              "      <th>Urban/Rural</th>\n",
              "      <th>Age_years</th>\n",
              "      <th>Male</th>\n",
              "      <th>Female</th>\n",
              "      <th>Total</th>\n",
              "      <th>County</th>\n",
              "      <th>Province</th>\n",
              "      <th>OBJECTID</th>\n",
              "    </tr>\n",
              "  </thead>\n",
              "  <tbody>\n",
              "    <tr>\n",
              "      <th>0</th>\n",
              "      <td>NAIROBI WEST</td>\n",
              "      <td>Urban</td>\n",
              "      <td>0</td>\n",
              "      <td>10126</td>\n",
              "      <td>10116</td>\n",
              "      <td>20242</td>\n",
              "      <td>Nairobi</td>\n",
              "      <td>NAIROBI</td>\n",
              "      <td>0</td>\n",
              "    </tr>\n",
              "    <tr>\n",
              "      <th>1</th>\n",
              "      <td>NAIROBI WEST</td>\n",
              "      <td>Urban</td>\n",
              "      <td>1</td>\n",
              "      <td>8124</td>\n",
              "      <td>7989</td>\n",
              "      <td>16113</td>\n",
              "      <td>Nairobi</td>\n",
              "      <td>NAIROBI</td>\n",
              "      <td>1</td>\n",
              "    </tr>\n",
              "    <tr>\n",
              "      <th>2</th>\n",
              "      <td>NAIROBI WEST</td>\n",
              "      <td>Urban</td>\n",
              "      <td>2</td>\n",
              "      <td>8462</td>\n",
              "      <td>8627</td>\n",
              "      <td>17089</td>\n",
              "      <td>Nairobi</td>\n",
              "      <td>NAIROBI</td>\n",
              "      <td>2</td>\n",
              "    </tr>\n",
              "    <tr>\n",
              "      <th>3</th>\n",
              "      <td>NAIROBI WEST</td>\n",
              "      <td>Urban</td>\n",
              "      <td>3</td>\n",
              "      <td>8334</td>\n",
              "      <td>8420</td>\n",
              "      <td>16754</td>\n",
              "      <td>Nairobi</td>\n",
              "      <td>NAIROBI</td>\n",
              "      <td>3</td>\n",
              "    </tr>\n",
              "    <tr>\n",
              "      <th>4</th>\n",
              "      <td>NAIROBI WEST</td>\n",
              "      <td>Urban</td>\n",
              "      <td>4</td>\n",
              "      <td>7948</td>\n",
              "      <td>7820</td>\n",
              "      <td>15768</td>\n",
              "      <td>Nairobi</td>\n",
              "      <td>NAIROBI</td>\n",
              "      <td>4</td>\n",
              "    </tr>\n",
              "    <tr>\n",
              "      <th>...</th>\n",
              "      <td>...</td>\n",
              "      <td>...</td>\n",
              "      <td>...</td>\n",
              "      <td>...</td>\n",
              "      <td>...</td>\n",
              "      <td>...</td>\n",
              "      <td>...</td>\n",
              "      <td>...</td>\n",
              "      <td>...</td>\n",
              "    </tr>\n",
              "    <tr>\n",
              "      <th>25415</th>\n",
              "      <td>TESO SOUTH</td>\n",
              "      <td>Rural</td>\n",
              "      <td>77</td>\n",
              "      <td>99</td>\n",
              "      <td>86</td>\n",
              "      <td>185</td>\n",
              "      <td>Busia</td>\n",
              "      <td>WESTERN</td>\n",
              "      <td>25415</td>\n",
              "    </tr>\n",
              "    <tr>\n",
              "      <th>25416</th>\n",
              "      <td>TESO SOUTH</td>\n",
              "      <td>Rural</td>\n",
              "      <td>78</td>\n",
              "      <td>63</td>\n",
              "      <td>47</td>\n",
              "      <td>110</td>\n",
              "      <td>Busia</td>\n",
              "      <td>WESTERN</td>\n",
              "      <td>25416</td>\n",
              "    </tr>\n",
              "    <tr>\n",
              "      <th>25417</th>\n",
              "      <td>TESO SOUTH</td>\n",
              "      <td>Rural</td>\n",
              "      <td>79</td>\n",
              "      <td>90</td>\n",
              "      <td>121</td>\n",
              "      <td>211</td>\n",
              "      <td>Busia</td>\n",
              "      <td>WESTERN</td>\n",
              "      <td>25417</td>\n",
              "    </tr>\n",
              "    <tr>\n",
              "      <th>25418</th>\n",
              "      <td>TESO SOUTH</td>\n",
              "      <td>Rural</td>\n",
              "      <td>80+</td>\n",
              "      <td>384</td>\n",
              "      <td>391</td>\n",
              "      <td>775</td>\n",
              "      <td>Busia</td>\n",
              "      <td>WESTERN</td>\n",
              "      <td>25418</td>\n",
              "    </tr>\n",
              "    <tr>\n",
              "      <th>25419</th>\n",
              "      <td>TESO SOUTH</td>\n",
              "      <td>Rural</td>\n",
              "      <td>Age NS</td>\n",
              "      <td>25</td>\n",
              "      <td>23</td>\n",
              "      <td>48</td>\n",
              "      <td>Busia</td>\n",
              "      <td>WESTERN</td>\n",
              "      <td>25419</td>\n",
              "    </tr>\n",
              "  </tbody>\n",
              "</table>\n",
              "<p>25420 rows × 9 columns</p>\n",
              "</div>"
            ],
            "text/plain": [
              "           District Urban/Rural Age_years  ...   County  Province  OBJECTID\n",
              "0      NAIROBI WEST       Urban         0  ...  Nairobi   NAIROBI         0\n",
              "1      NAIROBI WEST       Urban         1  ...  Nairobi   NAIROBI         1\n",
              "2      NAIROBI WEST       Urban         2  ...  Nairobi   NAIROBI         2\n",
              "3      NAIROBI WEST       Urban         3  ...  Nairobi   NAIROBI         3\n",
              "4      NAIROBI WEST       Urban         4  ...  Nairobi   NAIROBI         4\n",
              "...             ...         ...       ...  ...      ...       ...       ...\n",
              "25415    TESO SOUTH       Rural        77  ...    Busia   WESTERN     25415\n",
              "25416    TESO SOUTH       Rural        78  ...    Busia   WESTERN     25416\n",
              "25417    TESO SOUTH       Rural        79  ...    Busia   WESTERN     25417\n",
              "25418    TESO SOUTH       Rural       80+  ...    Busia   WESTERN     25418\n",
              "25419    TESO SOUTH       Rural    Age NS  ...    Busia   WESTERN     25419\n",
              "\n",
              "[25420 rows x 9 columns]"
            ]
          },
          "metadata": {
            "tags": []
          },
          "execution_count": 28
        }
      ]
    },
    {
      "cell_type": "code",
      "metadata": {
        "id": "-r4glC-ubqd8",
        "colab_type": "code",
        "colab": {
          "base_uri": "https://localhost:8080/",
          "height": 166
        },
        "outputId": "0c912664-4029-4cfd-cc81-cd2f70dcd672"
      },
      "source": [
        "pop.columns"
      ],
      "execution_count": 29,
      "outputs": [
        {
          "output_type": "error",
          "ename": "NameError",
          "evalue": "ignored",
          "traceback": [
            "\u001b[0;31m---------------------------------------------------------------------------\u001b[0m",
            "\u001b[0;31mNameError\u001b[0m                                 Traceback (most recent call last)",
            "\u001b[0;32m<ipython-input-29-93d1f78bf66a>\u001b[0m in \u001b[0;36m<module>\u001b[0;34m()\u001b[0m\n\u001b[0;32m----> 1\u001b[0;31m \u001b[0mpop\u001b[0m\u001b[0;34m.\u001b[0m\u001b[0mcolumns\u001b[0m\u001b[0;34m\u001b[0m\u001b[0;34m\u001b[0m\u001b[0m\n\u001b[0m",
            "\u001b[0;31mNameError\u001b[0m: name 'pop' is not defined"
          ]
        }
      ]
    },
    {
      "cell_type": "code",
      "metadata": {
        "id": "92gHdsJ8aX5a",
        "colab_type": "code",
        "colab": {
          "base_uri": "https://localhost:8080/",
          "height": 235
        },
        "outputId": "36fab5e4-2c9d-44dc-a2a5-d09c567e1063"
      },
      "source": [
        "number = pop[\"Age_years\"].unique()\n",
        "\n",
        "for i in number:\n",
        "  try:\n",
        "    y=int(r)\n",
        "  except ValueError:\n",
        "      print(r)"
      ],
      "execution_count": 30,
      "outputs": [
        {
          "output_type": "error",
          "ename": "NameError",
          "evalue": "ignored",
          "traceback": [
            "\u001b[0;31m---------------------------------------------------------------------------\u001b[0m",
            "\u001b[0;31mNameError\u001b[0m                                 Traceback (most recent call last)",
            "\u001b[0;32m<ipython-input-30-147f6995b6af>\u001b[0m in \u001b[0;36m<module>\u001b[0;34m()\u001b[0m\n\u001b[0;32m----> 1\u001b[0;31m \u001b[0mnumber\u001b[0m \u001b[0;34m=\u001b[0m \u001b[0mpop\u001b[0m\u001b[0;34m[\u001b[0m\u001b[0;34m\"Age_years\"\u001b[0m\u001b[0;34m]\u001b[0m\u001b[0;34m.\u001b[0m\u001b[0munique\u001b[0m\u001b[0;34m(\u001b[0m\u001b[0;34m)\u001b[0m\u001b[0;34m\u001b[0m\u001b[0;34m\u001b[0m\u001b[0m\n\u001b[0m\u001b[1;32m      2\u001b[0m \u001b[0;34m\u001b[0m\u001b[0m\n\u001b[1;32m      3\u001b[0m \u001b[0;32mfor\u001b[0m \u001b[0mi\u001b[0m \u001b[0;32min\u001b[0m \u001b[0mnumber\u001b[0m\u001b[0;34m:\u001b[0m\u001b[0;34m\u001b[0m\u001b[0;34m\u001b[0m\u001b[0m\n\u001b[1;32m      4\u001b[0m   \u001b[0;32mtry\u001b[0m\u001b[0;34m:\u001b[0m\u001b[0;34m\u001b[0m\u001b[0;34m\u001b[0m\u001b[0m\n\u001b[1;32m      5\u001b[0m     \u001b[0my\u001b[0m\u001b[0;34m=\u001b[0m\u001b[0mint\u001b[0m\u001b[0;34m(\u001b[0m\u001b[0mr\u001b[0m\u001b[0;34m)\u001b[0m\u001b[0;34m\u001b[0m\u001b[0;34m\u001b[0m\u001b[0m\n",
            "\u001b[0;31mNameError\u001b[0m: name 'pop' is not defined"
          ]
        }
      ]
    },
    {
      "cell_type": "code",
      "metadata": {
        "id": "boibpaU2BcC7",
        "colab_type": "code",
        "colab": {
          "base_uri": "https://localhost:8080/",
          "height": 190
        },
        "outputId": "ea9e68cd-57aa-4dac-b8a9-1bbcd2cca2d2"
      },
      "source": [
        "#changing data type of age to int\n",
        "#df['Age_years'] = pd.to_numeric(df['Age_years'])\n",
        "df.Age_years.replace('80+','80',inplace=True)\n",
        "df.Age_years.replace('Age NS','0',inplace = True)\n",
        "df.Age_years = df.Age_years.astype(int)\n",
        "df.dtypes\n"
      ],
      "execution_count": 31,
      "outputs": [
        {
          "output_type": "execute_result",
          "data": {
            "text/plain": [
              "District       object\n",
              "Urban/Rural    object\n",
              "Age_years       int64\n",
              "Male            int64\n",
              "Female          int64\n",
              "Total           int64\n",
              "County         object\n",
              "Province       object\n",
              "OBJECTID        int64\n",
              "dtype: object"
            ]
          },
          "metadata": {
            "tags": []
          },
          "execution_count": 31
        }
      ]
    },
    {
      "cell_type": "code",
      "metadata": {
        "id": "0d2kfemDIYWI",
        "colab_type": "code",
        "colab": {
          "base_uri": "https://localhost:8080/",
          "height": 288
        },
        "outputId": "beea0dd9-5324-47fa-fed0-134a2f55e440"
      },
      "source": [
        "# We can getting to know more about the dataset by accessing its information \n",
        "#\n",
        "df.describe()"
      ],
      "execution_count": 96,
      "outputs": [
        {
          "output_type": "execute_result",
          "data": {
            "text/html": [
              "<div>\n",
              "<style scoped>\n",
              "    .dataframe tbody tr th:only-of-type {\n",
              "        vertical-align: middle;\n",
              "    }\n",
              "\n",
              "    .dataframe tbody tr th {\n",
              "        vertical-align: top;\n",
              "    }\n",
              "\n",
              "    .dataframe thead th {\n",
              "        text-align: right;\n",
              "    }\n",
              "</style>\n",
              "<table border=\"1\" class=\"dataframe\">\n",
              "  <thead>\n",
              "    <tr style=\"text-align: right;\">\n",
              "      <th></th>\n",
              "      <th>Age_years</th>\n",
              "      <th>Male</th>\n",
              "      <th>Female</th>\n",
              "      <th>Total</th>\n",
              "      <th>OBJECTID</th>\n",
              "    </tr>\n",
              "  </thead>\n",
              "  <tbody>\n",
              "    <tr>\n",
              "      <th>count</th>\n",
              "      <td>25420.000000</td>\n",
              "      <td>25420.000000</td>\n",
              "      <td>25420.000000</td>\n",
              "      <td>25420.000000</td>\n",
              "      <td>25420.000000</td>\n",
              "    </tr>\n",
              "    <tr>\n",
              "      <th>mean</th>\n",
              "      <td>39.512195</td>\n",
              "      <td>755.014083</td>\n",
              "      <td>763.872502</td>\n",
              "      <td>1518.886585</td>\n",
              "      <td>12709.500000</td>\n",
              "    </tr>\n",
              "    <tr>\n",
              "      <th>std</th>\n",
              "      <td>23.649445</td>\n",
              "      <td>1305.988549</td>\n",
              "      <td>1295.903980</td>\n",
              "      <td>2589.418161</td>\n",
              "      <td>7338.266258</td>\n",
              "    </tr>\n",
              "    <tr>\n",
              "      <th>min</th>\n",
              "      <td>0.000000</td>\n",
              "      <td>0.000000</td>\n",
              "      <td>0.000000</td>\n",
              "      <td>0.000000</td>\n",
              "      <td>0.000000</td>\n",
              "    </tr>\n",
              "    <tr>\n",
              "      <th>25%</th>\n",
              "      <td>19.000000</td>\n",
              "      <td>57.000000</td>\n",
              "      <td>54.000000</td>\n",
              "      <td>112.000000</td>\n",
              "      <td>6354.750000</td>\n",
              "    </tr>\n",
              "    <tr>\n",
              "      <th>50%</th>\n",
              "      <td>39.500000</td>\n",
              "      <td>269.500000</td>\n",
              "      <td>281.000000</td>\n",
              "      <td>555.000000</td>\n",
              "      <td>12709.500000</td>\n",
              "    </tr>\n",
              "    <tr>\n",
              "      <th>75%</th>\n",
              "      <td>60.000000</td>\n",
              "      <td>891.000000</td>\n",
              "      <td>950.000000</td>\n",
              "      <td>1849.250000</td>\n",
              "      <td>19064.250000</td>\n",
              "    </tr>\n",
              "    <tr>\n",
              "      <th>max</th>\n",
              "      <td>80.000000</td>\n",
              "      <td>23060.000000</td>\n",
              "      <td>23090.000000</td>\n",
              "      <td>44473.000000</td>\n",
              "      <td>25419.000000</td>\n",
              "    </tr>\n",
              "  </tbody>\n",
              "</table>\n",
              "</div>"
            ],
            "text/plain": [
              "          Age_years          Male        Female         Total      OBJECTID\n",
              "count  25420.000000  25420.000000  25420.000000  25420.000000  25420.000000\n",
              "mean      39.512195    755.014083    763.872502   1518.886585  12709.500000\n",
              "std       23.649445   1305.988549   1295.903980   2589.418161   7338.266258\n",
              "min        0.000000      0.000000      0.000000      0.000000      0.000000\n",
              "25%       19.000000     57.000000     54.000000    112.000000   6354.750000\n",
              "50%       39.500000    269.500000    281.000000    555.000000  12709.500000\n",
              "75%       60.000000    891.000000    950.000000   1849.250000  19064.250000\n",
              "max       80.000000  23060.000000  23090.000000  44473.000000  25419.000000"
            ]
          },
          "metadata": {
            "tags": []
          },
          "execution_count": 96
        }
      ]
    },
    {
      "cell_type": "markdown",
      "metadata": {
        "id": "NicC8P9LMjvO",
        "colab_type": "text"
      },
      "source": [
        "## 1.4 Answering Questions"
      ]
    },
    {
      "cell_type": "markdown",
      "metadata": {
        "id": "8izhaW7UNYGJ",
        "colab_type": "text"
      },
      "source": [
        "Let's answer the following questions with our dataset"
      ]
    },
    {
      "cell_type": "code",
      "metadata": {
        "id": "ym3A1TlVAGRP",
        "colab_type": "code",
        "colab": {
          "base_uri": "https://localhost:8080/",
          "height": 69
        },
        "outputId": "6704a105-a93a-4818-d3e5-0e58c5943d82"
      },
      "source": [
        "df.columns"
      ],
      "execution_count": 97,
      "outputs": [
        {
          "output_type": "execute_result",
          "data": {
            "text/plain": [
              "Index(['District', 'Urban/Rural', 'Age_years', 'Male', 'Female', 'Total',\n",
              "       'County', 'Province', 'OBJECTID'],\n",
              "      dtype='object')"
            ]
          },
          "metadata": {
            "tags": []
          },
          "execution_count": 97
        }
      ]
    },
    {
      "cell_type": "code",
      "metadata": {
        "id": "tTOgnXvuMxcn",
        "colab_type": "code",
        "colab": {
          "base_uri": "https://localhost:8080/",
          "height": 34
        },
        "outputId": "7710c777-e47b-4da5-e142-8dd7e840e0b2"
      },
      "source": [
        "# Challenge 1\n",
        "# What was the average age of a person of Kenya?\n",
        "#\n",
        "df['Age_years'].mean()"
      ],
      "execution_count": 98,
      "outputs": [
        {
          "output_type": "execute_result",
          "data": {
            "text/plain": [
              "39.51219512195122"
            ]
          },
          "metadata": {
            "tags": []
          },
          "execution_count": 98
        }
      ]
    },
    {
      "cell_type": "code",
      "metadata": {
        "id": "BNegesaWNvQs",
        "colab_type": "code",
        "colab": {
          "base_uri": "https://localhost:8080/",
          "height": 34
        },
        "outputId": "9ddb606d-8c31-4b7a-cc49-3d2af86694a7"
      },
      "source": [
        "# Challenge 2\n",
        "# What was the average female population in Kenya?\n",
        "#\n",
        "df.Female.mean()"
      ],
      "execution_count": 99,
      "outputs": [
        {
          "output_type": "execute_result",
          "data": {
            "text/plain": [
              "763.8725019669552"
            ]
          },
          "metadata": {
            "tags": []
          },
          "execution_count": 99
        }
      ]
    },
    {
      "cell_type": "code",
      "metadata": {
        "id": "7tilTerhNyiP",
        "colab_type": "code",
        "colab": {
          "base_uri": "https://localhost:8080/",
          "height": 34
        },
        "outputId": "5b003acf-31a6-4c01-d688-80904bf22a09"
      },
      "source": [
        "# Challenge 3\n",
        "# What was the average male population in Kenya?\n",
        "#\n",
        "df.Male.mean()"
      ],
      "execution_count": 100,
      "outputs": [
        {
          "output_type": "execute_result",
          "data": {
            "text/plain": [
              "755.0140833988985"
            ]
          },
          "metadata": {
            "tags": []
          },
          "execution_count": 100
        }
      ]
    },
    {
      "cell_type": "code",
      "metadata": {
        "id": "OemJ0HDYOHCq",
        "colab_type": "code",
        "colab": {
          "base_uri": "https://localhost:8080/",
          "height": 198
        },
        "outputId": "4f123cf6-da94-4f69-fd15-7e3d695a33f6"
      },
      "source": [
        "# Challenge 4\n",
        "# Which 5 districts were the most densely populated Kenya in descending order?\n",
        "#df_mostpop = df['District'].groupby(df['Total'])\n",
        "df_mostpop = df[['District','Total']]\n",
        "df_mostpop.sort_values(by = 'Total',ascending = 0)\n",
        "df_mostpop.head(5)"
      ],
      "execution_count": 101,
      "outputs": [
        {
          "output_type": "execute_result",
          "data": {
            "text/html": [
              "<div>\n",
              "<style scoped>\n",
              "    .dataframe tbody tr th:only-of-type {\n",
              "        vertical-align: middle;\n",
              "    }\n",
              "\n",
              "    .dataframe tbody tr th {\n",
              "        vertical-align: top;\n",
              "    }\n",
              "\n",
              "    .dataframe thead th {\n",
              "        text-align: right;\n",
              "    }\n",
              "</style>\n",
              "<table border=\"1\" class=\"dataframe\">\n",
              "  <thead>\n",
              "    <tr style=\"text-align: right;\">\n",
              "      <th></th>\n",
              "      <th>District</th>\n",
              "      <th>Total</th>\n",
              "    </tr>\n",
              "  </thead>\n",
              "  <tbody>\n",
              "    <tr>\n",
              "      <th>0</th>\n",
              "      <td>NAIROBI WEST</td>\n",
              "      <td>20242</td>\n",
              "    </tr>\n",
              "    <tr>\n",
              "      <th>1</th>\n",
              "      <td>NAIROBI WEST</td>\n",
              "      <td>16113</td>\n",
              "    </tr>\n",
              "    <tr>\n",
              "      <th>2</th>\n",
              "      <td>NAIROBI WEST</td>\n",
              "      <td>17089</td>\n",
              "    </tr>\n",
              "    <tr>\n",
              "      <th>3</th>\n",
              "      <td>NAIROBI WEST</td>\n",
              "      <td>16754</td>\n",
              "    </tr>\n",
              "    <tr>\n",
              "      <th>4</th>\n",
              "      <td>NAIROBI WEST</td>\n",
              "      <td>15768</td>\n",
              "    </tr>\n",
              "  </tbody>\n",
              "</table>\n",
              "</div>"
            ],
            "text/plain": [
              "       District  Total\n",
              "0  NAIROBI WEST  20242\n",
              "1  NAIROBI WEST  16113\n",
              "2  NAIROBI WEST  17089\n",
              "3  NAIROBI WEST  16754\n",
              "4  NAIROBI WEST  15768"
            ]
          },
          "metadata": {
            "tags": []
          },
          "execution_count": 101
        }
      ]
    },
    {
      "cell_type": "code",
      "metadata": {
        "id": "CIxC5arSOLak",
        "colab_type": "code",
        "colab": {
          "base_uri": "https://localhost:8080/",
          "height": 198
        },
        "outputId": "f97d23b9-615c-422a-b406-fd0a1f9ae73e"
      },
      "source": [
        "# Challenge 5\n",
        "# Which 5 counties were the most densely populated Counties in descending order?\n",
        "# \n",
        "mostpop_counties = df[[\"County\", \"Total\"]]\n",
        "mostpop_counties.sort_values(by='Total',ascending = 0)\n",
        "mostpop_counties.head(5)"
      ],
      "execution_count": 102,
      "outputs": [
        {
          "output_type": "execute_result",
          "data": {
            "text/html": [
              "<div>\n",
              "<style scoped>\n",
              "    .dataframe tbody tr th:only-of-type {\n",
              "        vertical-align: middle;\n",
              "    }\n",
              "\n",
              "    .dataframe tbody tr th {\n",
              "        vertical-align: top;\n",
              "    }\n",
              "\n",
              "    .dataframe thead th {\n",
              "        text-align: right;\n",
              "    }\n",
              "</style>\n",
              "<table border=\"1\" class=\"dataframe\">\n",
              "  <thead>\n",
              "    <tr style=\"text-align: right;\">\n",
              "      <th></th>\n",
              "      <th>County</th>\n",
              "      <th>Total</th>\n",
              "    </tr>\n",
              "  </thead>\n",
              "  <tbody>\n",
              "    <tr>\n",
              "      <th>0</th>\n",
              "      <td>Nairobi</td>\n",
              "      <td>20242</td>\n",
              "    </tr>\n",
              "    <tr>\n",
              "      <th>1</th>\n",
              "      <td>Nairobi</td>\n",
              "      <td>16113</td>\n",
              "    </tr>\n",
              "    <tr>\n",
              "      <th>2</th>\n",
              "      <td>Nairobi</td>\n",
              "      <td>17089</td>\n",
              "    </tr>\n",
              "    <tr>\n",
              "      <th>3</th>\n",
              "      <td>Nairobi</td>\n",
              "      <td>16754</td>\n",
              "    </tr>\n",
              "    <tr>\n",
              "      <th>4</th>\n",
              "      <td>Nairobi</td>\n",
              "      <td>15768</td>\n",
              "    </tr>\n",
              "  </tbody>\n",
              "</table>\n",
              "</div>"
            ],
            "text/plain": [
              "    County  Total\n",
              "0  Nairobi  20242\n",
              "1  Nairobi  16113\n",
              "2  Nairobi  17089\n",
              "3  Nairobi  16754\n",
              "4  Nairobi  15768"
            ]
          },
          "metadata": {
            "tags": []
          },
          "execution_count": 102
        }
      ]
    },
    {
      "cell_type": "code",
      "metadata": {
        "id": "gSjjnw56OP8O",
        "colab_type": "code",
        "colab": {
          "base_uri": "https://localhost:8080/",
          "height": 408
        },
        "outputId": "73815201-4ad9-44c3-9b3f-5ea59b1898ec"
      },
      "source": [
        "# Challenge 6\n",
        "# Which 5 districts were the most sparsely populated in descending order?\n",
        "# \n",
        "df_mostpop = df[['District','Total']]\n",
        "df_mostpop.sort_values(by = 'Total',ascending = 1)\n",
        "df_mostpop"
      ],
      "execution_count": 107,
      "outputs": [
        {
          "output_type": "execute_result",
          "data": {
            "text/html": [
              "<div>\n",
              "<style scoped>\n",
              "    .dataframe tbody tr th:only-of-type {\n",
              "        vertical-align: middle;\n",
              "    }\n",
              "\n",
              "    .dataframe tbody tr th {\n",
              "        vertical-align: top;\n",
              "    }\n",
              "\n",
              "    .dataframe thead th {\n",
              "        text-align: right;\n",
              "    }\n",
              "</style>\n",
              "<table border=\"1\" class=\"dataframe\">\n",
              "  <thead>\n",
              "    <tr style=\"text-align: right;\">\n",
              "      <th></th>\n",
              "      <th>District</th>\n",
              "      <th>Total</th>\n",
              "    </tr>\n",
              "  </thead>\n",
              "  <tbody>\n",
              "    <tr>\n",
              "      <th>0</th>\n",
              "      <td>NAIROBI WEST</td>\n",
              "      <td>20242</td>\n",
              "    </tr>\n",
              "    <tr>\n",
              "      <th>1</th>\n",
              "      <td>NAIROBI WEST</td>\n",
              "      <td>16113</td>\n",
              "    </tr>\n",
              "    <tr>\n",
              "      <th>2</th>\n",
              "      <td>NAIROBI WEST</td>\n",
              "      <td>17089</td>\n",
              "    </tr>\n",
              "    <tr>\n",
              "      <th>3</th>\n",
              "      <td>NAIROBI WEST</td>\n",
              "      <td>16754</td>\n",
              "    </tr>\n",
              "    <tr>\n",
              "      <th>4</th>\n",
              "      <td>NAIROBI WEST</td>\n",
              "      <td>15768</td>\n",
              "    </tr>\n",
              "    <tr>\n",
              "      <th>...</th>\n",
              "      <td>...</td>\n",
              "      <td>...</td>\n",
              "    </tr>\n",
              "    <tr>\n",
              "      <th>25415</th>\n",
              "      <td>TESO SOUTH</td>\n",
              "      <td>185</td>\n",
              "    </tr>\n",
              "    <tr>\n",
              "      <th>25416</th>\n",
              "      <td>TESO SOUTH</td>\n",
              "      <td>110</td>\n",
              "    </tr>\n",
              "    <tr>\n",
              "      <th>25417</th>\n",
              "      <td>TESO SOUTH</td>\n",
              "      <td>211</td>\n",
              "    </tr>\n",
              "    <tr>\n",
              "      <th>25418</th>\n",
              "      <td>TESO SOUTH</td>\n",
              "      <td>775</td>\n",
              "    </tr>\n",
              "    <tr>\n",
              "      <th>25419</th>\n",
              "      <td>TESO SOUTH</td>\n",
              "      <td>48</td>\n",
              "    </tr>\n",
              "  </tbody>\n",
              "</table>\n",
              "<p>25420 rows × 2 columns</p>\n",
              "</div>"
            ],
            "text/plain": [
              "           District  Total\n",
              "0      NAIROBI WEST  20242\n",
              "1      NAIROBI WEST  16113\n",
              "2      NAIROBI WEST  17089\n",
              "3      NAIROBI WEST  16754\n",
              "4      NAIROBI WEST  15768\n",
              "...             ...    ...\n",
              "25415    TESO SOUTH    185\n",
              "25416    TESO SOUTH    110\n",
              "25417    TESO SOUTH    211\n",
              "25418    TESO SOUTH    775\n",
              "25419    TESO SOUTH     48\n",
              "\n",
              "[25420 rows x 2 columns]"
            ]
          },
          "metadata": {
            "tags": []
          },
          "execution_count": 107
        }
      ]
    },
    {
      "cell_type": "code",
      "metadata": {
        "id": "UZLYqF7UOTtu",
        "colab_type": "code",
        "colab": {
          "base_uri": "https://localhost:8080/",
          "height": 190
        },
        "outputId": "25b6e680-32fc-40a2-e726-6b588ed3c53c"
      },
      "source": [
        "# Challenge 7\n",
        "# What was the average population of the the most densely populated county in Kenya?\n",
        "# \n",
        "mostpop_counties = df[[\"County\", \"Total\"]]\n",
        "df.loc[df['County'] == 'Nairobi'].max()\n",
        "\n",
        "\n"
      ],
      "execution_count": 104,
      "outputs": [
        {
          "output_type": "execute_result",
          "data": {
            "text/plain": [
              "District       WESTLANDS\n",
              "Urban/Rural        Urban\n",
              "Age_years             80\n",
              "Male               23060\n",
              "Female             23090\n",
              "Total              44473\n",
              "County           Nairobi\n",
              "Province         NAIROBI\n",
              "OBJECTID             327\n",
              "dtype: object"
            ]
          },
          "metadata": {
            "tags": []
          },
          "execution_count": 104
        }
      ]
    },
    {
      "cell_type": "code",
      "metadata": {
        "id": "1qk8wF3MOXDu",
        "colab_type": "code",
        "colab": {
          "base_uri": "https://localhost:8080/",
          "height": 190
        },
        "outputId": "276c10ed-6c60-47fb-97c6-aa647432196a"
      },
      "source": [
        "# Challenge 8\n",
        "# What was the average population of the the most sparsely populated county in Kenya?\n",
        "# \n",
        "mostpop_counties = df[[\"County\", \"Total\"]]\n",
        "df.loc[df['County'] == 'TESO SOUTH'].max()\n"
      ],
      "execution_count": 109,
      "outputs": [
        {
          "output_type": "execute_result",
          "data": {
            "text/plain": [
              "District      NaN\n",
              "Urban/Rural   NaN\n",
              "Age_years     NaN\n",
              "Male          NaN\n",
              "Female        NaN\n",
              "Total         NaN\n",
              "County        NaN\n",
              "Province      NaN\n",
              "OBJECTID      NaN\n",
              "dtype: float64"
            ]
          },
          "metadata": {
            "tags": []
          },
          "execution_count": 109
        }
      ]
    },
    {
      "cell_type": "code",
      "metadata": {
        "id": "1V21Beok3Rdc",
        "colab_type": "code",
        "colab": {
          "base_uri": "https://localhost:8080/",
          "height": 408
        },
        "outputId": "f7583025-a00f-4d7d-cc9d-247e5e889c15"
      },
      "source": [
        "# Challenge 9\n",
        "# What was the total population of Busia County? \n",
        "# \n",
        "mostpop_counties = df[[\"County\", \"Total\"]]\n",
        "df.loc[df['County'] == 'Busia']"
      ],
      "execution_count": 111,
      "outputs": [
        {
          "output_type": "execute_result",
          "data": {
            "text/html": [
              "<div>\n",
              "<style scoped>\n",
              "    .dataframe tbody tr th:only-of-type {\n",
              "        vertical-align: middle;\n",
              "    }\n",
              "\n",
              "    .dataframe tbody tr th {\n",
              "        vertical-align: top;\n",
              "    }\n",
              "\n",
              "    .dataframe thead th {\n",
              "        text-align: right;\n",
              "    }\n",
              "</style>\n",
              "<table border=\"1\" class=\"dataframe\">\n",
              "  <thead>\n",
              "    <tr style=\"text-align: right;\">\n",
              "      <th></th>\n",
              "      <th>District</th>\n",
              "      <th>Urban/Rural</th>\n",
              "      <th>Age_years</th>\n",
              "      <th>Male</th>\n",
              "      <th>Female</th>\n",
              "      <th>Total</th>\n",
              "      <th>County</th>\n",
              "      <th>Province</th>\n",
              "      <th>OBJECTID</th>\n",
              "    </tr>\n",
              "  </thead>\n",
              "  <tbody>\n",
              "    <tr>\n",
              "      <th>12546</th>\n",
              "      <td>BUSIA</td>\n",
              "      <td>Urban</td>\n",
              "      <td>0</td>\n",
              "      <td>790</td>\n",
              "      <td>843</td>\n",
              "      <td>1633</td>\n",
              "      <td>Busia</td>\n",
              "      <td>WESTERN</td>\n",
              "      <td>12546</td>\n",
              "    </tr>\n",
              "    <tr>\n",
              "      <th>12547</th>\n",
              "      <td>BUSIA</td>\n",
              "      <td>Urban</td>\n",
              "      <td>1</td>\n",
              "      <td>679</td>\n",
              "      <td>649</td>\n",
              "      <td>1328</td>\n",
              "      <td>Busia</td>\n",
              "      <td>WESTERN</td>\n",
              "      <td>12547</td>\n",
              "    </tr>\n",
              "    <tr>\n",
              "      <th>12548</th>\n",
              "      <td>BUSIA</td>\n",
              "      <td>Urban</td>\n",
              "      <td>2</td>\n",
              "      <td>715</td>\n",
              "      <td>725</td>\n",
              "      <td>1440</td>\n",
              "      <td>Busia</td>\n",
              "      <td>WESTERN</td>\n",
              "      <td>12548</td>\n",
              "    </tr>\n",
              "    <tr>\n",
              "      <th>12549</th>\n",
              "      <td>BUSIA</td>\n",
              "      <td>Urban</td>\n",
              "      <td>3</td>\n",
              "      <td>709</td>\n",
              "      <td>699</td>\n",
              "      <td>1408</td>\n",
              "      <td>Busia</td>\n",
              "      <td>WESTERN</td>\n",
              "      <td>12549</td>\n",
              "    </tr>\n",
              "    <tr>\n",
              "      <th>12550</th>\n",
              "      <td>BUSIA</td>\n",
              "      <td>Urban</td>\n",
              "      <td>4</td>\n",
              "      <td>675</td>\n",
              "      <td>655</td>\n",
              "      <td>1330</td>\n",
              "      <td>Busia</td>\n",
              "      <td>WESTERN</td>\n",
              "      <td>12550</td>\n",
              "    </tr>\n",
              "    <tr>\n",
              "      <th>...</th>\n",
              "      <td>...</td>\n",
              "      <td>...</td>\n",
              "      <td>...</td>\n",
              "      <td>...</td>\n",
              "      <td>...</td>\n",
              "      <td>...</td>\n",
              "      <td>...</td>\n",
              "      <td>...</td>\n",
              "      <td>...</td>\n",
              "    </tr>\n",
              "    <tr>\n",
              "      <th>25415</th>\n",
              "      <td>TESO SOUTH</td>\n",
              "      <td>Rural</td>\n",
              "      <td>77</td>\n",
              "      <td>99</td>\n",
              "      <td>86</td>\n",
              "      <td>185</td>\n",
              "      <td>Busia</td>\n",
              "      <td>WESTERN</td>\n",
              "      <td>25415</td>\n",
              "    </tr>\n",
              "    <tr>\n",
              "      <th>25416</th>\n",
              "      <td>TESO SOUTH</td>\n",
              "      <td>Rural</td>\n",
              "      <td>78</td>\n",
              "      <td>63</td>\n",
              "      <td>47</td>\n",
              "      <td>110</td>\n",
              "      <td>Busia</td>\n",
              "      <td>WESTERN</td>\n",
              "      <td>25416</td>\n",
              "    </tr>\n",
              "    <tr>\n",
              "      <th>25417</th>\n",
              "      <td>TESO SOUTH</td>\n",
              "      <td>Rural</td>\n",
              "      <td>79</td>\n",
              "      <td>90</td>\n",
              "      <td>121</td>\n",
              "      <td>211</td>\n",
              "      <td>Busia</td>\n",
              "      <td>WESTERN</td>\n",
              "      <td>25417</td>\n",
              "    </tr>\n",
              "    <tr>\n",
              "      <th>25418</th>\n",
              "      <td>TESO SOUTH</td>\n",
              "      <td>Rural</td>\n",
              "      <td>80</td>\n",
              "      <td>384</td>\n",
              "      <td>391</td>\n",
              "      <td>775</td>\n",
              "      <td>Busia</td>\n",
              "      <td>WESTERN</td>\n",
              "      <td>25418</td>\n",
              "    </tr>\n",
              "    <tr>\n",
              "      <th>25419</th>\n",
              "      <td>TESO SOUTH</td>\n",
              "      <td>Rural</td>\n",
              "      <td>0</td>\n",
              "      <td>25</td>\n",
              "      <td>23</td>\n",
              "      <td>48</td>\n",
              "      <td>Busia</td>\n",
              "      <td>WESTERN</td>\n",
              "      <td>25419</td>\n",
              "    </tr>\n",
              "  </tbody>\n",
              "</table>\n",
              "<p>820 rows × 9 columns</p>\n",
              "</div>"
            ],
            "text/plain": [
              "         District Urban/Rural  Age_years  Male  ...  Total  County Province OBJECTID\n",
              "12546       BUSIA       Urban          0   790  ...   1633   Busia  WESTERN    12546\n",
              "12547       BUSIA       Urban          1   679  ...   1328   Busia  WESTERN    12547\n",
              "12548       BUSIA       Urban          2   715  ...   1440   Busia  WESTERN    12548\n",
              "12549       BUSIA       Urban          3   709  ...   1408   Busia  WESTERN    12549\n",
              "12550       BUSIA       Urban          4   675  ...   1330   Busia  WESTERN    12550\n",
              "...           ...         ...        ...   ...  ...    ...     ...      ...      ...\n",
              "25415  TESO SOUTH       Rural         77    99  ...    185   Busia  WESTERN    25415\n",
              "25416  TESO SOUTH       Rural         78    63  ...    110   Busia  WESTERN    25416\n",
              "25417  TESO SOUTH       Rural         79    90  ...    211   Busia  WESTERN    25417\n",
              "25418  TESO SOUTH       Rural         80   384  ...    775   Busia  WESTERN    25418\n",
              "25419  TESO SOUTH       Rural          0    25  ...     48   Busia  WESTERN    25419\n",
              "\n",
              "[820 rows x 9 columns]"
            ]
          },
          "metadata": {
            "tags": []
          },
          "execution_count": 111
        }
      ]
    },
    {
      "cell_type": "code",
      "metadata": {
        "id": "Vtq7pAI73RTZ",
        "colab_type": "code",
        "colab": {
          "base_uri": "https://localhost:8080/",
          "height": 34
        },
        "outputId": "45f74c05-573c-486c-a016-c4b6f167ccf0"
      },
      "source": [
        "# Challenge 10\n",
        "# What was the average age of person in Busia County? How many people of this age were in Busia County?\n",
        "# \n",
        "busia = df.loc[df['County'] == 'Busia']\n",
        "busia.Age_years.mean()"
      ],
      "execution_count": 115,
      "outputs": [
        {
          "output_type": "execute_result",
          "data": {
            "text/plain": [
              "39.51219512195122"
            ]
          },
          "metadata": {
            "tags": []
          },
          "execution_count": 115
        }
      ]
    },
    {
      "cell_type": "code",
      "metadata": {
        "id": "d0ykVRZ86lvq",
        "colab_type": "code",
        "colab": {}
      },
      "source": [
        ""
      ],
      "execution_count": null,
      "outputs": []
    },
    {
      "cell_type": "code",
      "metadata": {
        "id": "hf4zKkAi6ovd",
        "colab_type": "code",
        "colab": {
          "base_uri": "https://localhost:8080/",
          "height": 224
        },
        "outputId": "4f67ae44-ff69-4ab4-f633-e34c6ec57f12"
      },
      "source": [
        "busia.Age_years.value_counts()"
      ],
      "execution_count": 117,
      "outputs": [
        {
          "output_type": "execute_result",
          "data": {
            "text/plain": [
              "0     20\n",
              "39    10\n",
              "21    10\n",
              "22    10\n",
              "23    10\n",
              "      ..\n",
              "54    10\n",
              "55    10\n",
              "56    10\n",
              "57    10\n",
              "40    10\n",
              "Name: Age_years, Length: 81, dtype: int64"
            ]
          },
          "metadata": {
            "tags": []
          },
          "execution_count": 117
        }
      ]
    },
    {
      "cell_type": "code",
      "metadata": {
        "id": "8xkStdjdXS3w",
        "colab_type": "code",
        "colab": {
          "base_uri": "https://localhost:8080/",
          "height": 34
        },
        "outputId": "067e26f5-6bc1-4931-d037-329a3c982386"
      },
      "source": [
        "# Challenge 11\n",
        "# What was the Total population of Teso South District?\n",
        "# \n",
        "df.loc[df['District'] == 'Teso South', 'Total'].sum()\n",
        "\n"
      ],
      "execution_count": 120,
      "outputs": [
        {
          "output_type": "execute_result",
          "data": {
            "text/plain": [
              "0"
            ]
          },
          "metadata": {
            "tags": []
          },
          "execution_count": 120
        }
      ]
    },
    {
      "cell_type": "code",
      "metadata": {
        "id": "rgVsXH_5XVCh",
        "colab_type": "code",
        "colab": {}
      },
      "source": [
        "# Challenge 12\n",
        "# What was the urban population of Teso South District?\n",
        "# \n",
        "OUR CODE GOES HERE"
      ],
      "execution_count": null,
      "outputs": []
    },
    {
      "cell_type": "code",
      "metadata": {
        "id": "XvvFWhuDXXeP",
        "colab_type": "code",
        "colab": {}
      },
      "source": [
        "# Challenge 13\n",
        "# What was the rural population of Teso South District?\n",
        "# \n",
        "OUR CODE GOES HERE"
      ],
      "execution_count": null,
      "outputs": []
    },
    {
      "cell_type": "code",
      "metadata": {
        "id": "q1iq02FuXc2R",
        "colab_type": "code",
        "colab": {}
      },
      "source": [
        "# Challenge 14\n",
        "# What was the population of people aged 60 and above in Kenya?\n",
        "#\n",
        "OUR CODE GOES HERE"
      ],
      "execution_count": null,
      "outputs": []
    },
    {
      "cell_type": "code",
      "metadata": {
        "id": "drAWpxBZXhcF",
        "colab_type": "code",
        "colab": {}
      },
      "source": [
        "# Challenge 15 \n",
        "# What was the urban population in Kenya?\n",
        "#\n",
        "OUR CODE GOES HERE"
      ],
      "execution_count": null,
      "outputs": []
    }
  ]
}