{
  "nbformat": 4,
  "nbformat_minor": 0,
  "metadata": {
    "colab": {
      "name": "Univariate Analysis with Python - Exercise",
      "provenance": [],
      "collapsed_sections": [
        "kLkivweO1Iii",
        "InrgA2D21MCl",
        "0CRs-dFC1ohx",
        "ck0zE_a43uV-",
        "NCrhoYJz1dUY",
        "jRKV0pa04BQH",
        "yXH8QAl71vLq",
        "6lNbN0xS4XAY",
        "QIuhupEZ1y_S",
        "GqietlVA2BUa",
        "Z6im-o4g4pK6",
        "8POt4f4D2LcH",
        "xumXllAg5A6N",
        "kKZFF5-Q6d5c",
        "32s_izI76icw",
        "DHNDapES6-4D",
        "NqN2REVg6xM7",
        "uXIKUeun7Tz6"
      ],
      "toc_visible": true,
      "include_colab_link": true
    },
    "kernelspec": {
      "name": "python3",
      "display_name": "Python 3"
    }
  },
  "cells": [
    {
      "cell_type": "markdown",
      "metadata": {
        "id": "view-in-github",
        "colab_type": "text"
      },
      "source": [
        "<a href=\"https://colab.research.google.com/github/Mjcherono/MoringaIPs/blob/master/Univariate_Analysis_with_Python_Exercise.ipynb\" target=\"_parent\"><img src=\"https://colab.research.google.com/assets/colab-badge.svg\" alt=\"Open In Colab\"/></a>"
      ]
    },
    {
      "cell_type": "markdown",
      "metadata": {
        "id": "adeOETQPnPAj"
      },
      "source": [
        "<font color=\"green\">*To start working on this notebook, or any other notebook that we will use in the Moringa Data Science Course, we will need to save our own copy of it. We can do this by clicking File > Save a Copy in Drive. We will then be able to make edits to our own copy of this notebook.*</font>"
      ]
    },
    {
      "cell_type": "markdown",
      "metadata": {
        "id": "FtNfyN9C1FSE"
      },
      "source": [
        "# Univariate Analysis with Python - Exercise"
      ]
    },
    {
      "cell_type": "markdown",
      "metadata": {
        "id": "kLkivweO1Iii"
      },
      "source": [
        "## 1.0 Importing Libraries"
      ]
    },
    {
      "cell_type": "code",
      "metadata": {
        "id": "7rB0TURq1Mfo"
      },
      "source": [
        "# Importing Pandas\n",
        "# \n",
        "import pandas as pd"
      ],
      "execution_count": 26,
      "outputs": []
    },
    {
      "cell_type": "code",
      "metadata": {
        "id": "J7sTS1pS6w17"
      },
      "source": [
        "# Importing Numpy\n",
        "#\n",
        "import numpy as np"
      ],
      "execution_count": 27,
      "outputs": []
    },
    {
      "cell_type": "code",
      "metadata": {
        "id": "T7fU_A8G3j2c"
      },
      "source": [
        "# Importing Seaborn\n",
        "#\n",
        "import seaborn as sns"
      ],
      "execution_count": 28,
      "outputs": []
    },
    {
      "cell_type": "code",
      "metadata": {
        "id": "h9m2KAfqKr_R"
      },
      "source": [
        "# Importing Matplotlib\n",
        "#\n",
        "import matplotlib.pyplot as plt"
      ],
      "execution_count": 29,
      "outputs": []
    },
    {
      "cell_type": "markdown",
      "metadata": {
        "id": "InrgA2D21MCl"
      },
      "source": [
        "## 1.2 Categorical Variables"
      ]
    },
    {
      "cell_type": "markdown",
      "metadata": {
        "id": "0CRs-dFC1ohx"
      },
      "source": [
        "### 1.21 Frequency Tables"
      ]
    },
    {
      "cell_type": "code",
      "metadata": {
        "id": "S1BPZ36A1LiF",
        "outputId": "9cd06635-c70f-4b65-925d-a2cef4611cc9",
        "colab": {
          "base_uri": "https://localhost:8080/",
          "height": 101
        }
      },
      "source": [
        "# Example 1\n",
        "# ---\n",
        "# Creating Frequency table of column using the value_counts() function\n",
        "# ---\n",
        "# \n",
        "\n",
        "data = {'Name':['John', 'Paul', 'Jame','Mark', 'Susan', 'Ruth', 'Ragna', 'Irene', 'Gilbert', 'Esther', 'Salome', 'Moses'],\n",
        "       'County':['Nairobi', 'Kiambu', 'Mombasa', 'Kisumu', 'Kiambu', 'Mombasa', 'Nairobi', 'Mombasa', 'Kisumu', 'Nairobi', 'Kiambu','Mombasa']}\n",
        " \n",
        "# Creating our dataframe\n",
        "frequency_df = pd.DataFrame(data, columns=['Name', 'County'])\n",
        "frequency_df\n",
        "\n",
        "# Creating our frequency table\n",
        "# ---\n",
        "frequency_df.County.value_counts()"
      ],
      "execution_count": 30,
      "outputs": [
        {
          "output_type": "execute_result",
          "data": {
            "text/plain": [
              "Mombasa    4\n",
              "Nairobi    3\n",
              "Kiambu     3\n",
              "Kisumu     2\n",
              "Name: County, dtype: int64"
            ]
          },
          "metadata": {
            "tags": []
          },
          "execution_count": 30
        }
      ]
    },
    {
      "cell_type": "markdown",
      "metadata": {
        "id": "ck0zE_a43uV-"
      },
      "source": [
        "#### <font color=\"green\">1.21 Challenges</font>"
      ]
    },
    {
      "cell_type": "code",
      "metadata": {
        "id": "UNbhFPzR33L6",
        "outputId": "66f48883-0b6a-4151-8cb3-b2f861895289",
        "colab": {
          "base_uri": "https://localhost:8080/",
          "height": 84
        }
      },
      "source": [
        "# Challenge 1\n",
        "# ---\n",
        "# Question: Generate a frequency table from the categorical data in the following dataset\n",
        "# ---\n",
        "Dataset_url = 'http://bit.ly/IrisDataset'\n",
        "# ---\n",
        "# \n",
        "df = pd.read_csv(Dataset_url)\n",
        "df.species.value_counts()"
      ],
      "execution_count": 31,
      "outputs": [
        {
          "output_type": "execute_result",
          "data": {
            "text/plain": [
              "Iris-setosa        50\n",
              "Iris-virginica     50\n",
              "Iris-versicolor    50\n",
              "Name: species, dtype: int64"
            ]
          },
          "metadata": {
            "tags": []
          },
          "execution_count": 31
        }
      ]
    },
    {
      "cell_type": "markdown",
      "metadata": {
        "id": "NCrhoYJz1dUY"
      },
      "source": [
        "### 1.22 Bar Charts and Histograms"
      ]
    },
    {
      "cell_type": "code",
      "metadata": {
        "id": "_3kf4a5q1ylu",
        "outputId": "212a747e-a67f-4ff0-d43a-60ac1484ab6a",
        "colab": {
          "base_uri": "https://localhost:8080/",
          "height": 295
        }
      },
      "source": [
        "# Example 1\n",
        "# ---\n",
        "# Bar charts are used to display values associated with categorical data.\n",
        "# ---\n",
        "# \n",
        "\n",
        "# Defining our data\n",
        "x = ['Nuclear', 'Hydro', 'Gas', 'Oil', 'Coal', 'Biofuel']\n",
        "energy = [5, 6, 15, 22, 24, 8]\n",
        " \n",
        "\n",
        "plt.bar(x, energy, color='green')\n",
        "\n",
        "# Labelling our x axis\n",
        "plt.xlabel(\"Energy Source\")\n",
        "\n",
        "# Labelling our y axis\n",
        "plt.ylabel(\"Energy Output (GJ)\")\n",
        "\n",
        "# Giving a title to our Bar chart\n",
        "plt.title(\"Energy output from various fuel sources\")\n",
        "\n",
        "# Displaying our chart\n",
        "plt.show()"
      ],
      "execution_count": 32,
      "outputs": [
        {
          "output_type": "display_data",
          "data": {
            "image/png": "[encoded data removed]",
            "text/plain": [
              "<Figure size 432x288 with 1 Axes>"
            ]
          },
          "metadata": {
            "tags": [],
            "needs_background": "light"
          }
        }
      ]
    },
    {
      "cell_type": "code",
      "metadata": {
        "id": "RWgB6pZg3-o6",
        "outputId": "f1041b62-576b-4ac6-9245-84947a8b8731",
        "colab": {
          "base_uri": "https://localhost:8080/",
          "height": 295
        }
      },
      "source": [
        "# Example 2\n",
        "# ---\n",
        "# We can also create the exact same chart horizontally as shown \n",
        "# ---\n",
        "# \n",
        "\n",
        "x = ['Nuclear', 'Hydro', 'Gas', 'Oil', 'Coal', 'Biofuel']\n",
        "energy = [15, 16, 25, 32, 34, 18]  \n",
        "\n",
        "plt.barh(x, energy)\n",
        "plt.ylabel(\"Energy Source\")\n",
        "plt.xlabel(\"Energy Output (GJ)\")\n",
        "plt.title(\"Energy output from various fuel sources\")\n",
        "plt.show()"
      ],
      "execution_count": 33,
      "outputs": [
        {
          "output_type": "display_data",
          "data": {
            "image/png": "[encoded data removed]",
            "text/plain": [
              "<Figure size 432x288 with 1 Axes>"
            ]
          },
          "metadata": {
            "tags": [],
            "needs_background": "light"
          }
        }
      ]
    },
    {
      "cell_type": "code",
      "metadata": {
        "id": "n21agJh93_w0",
        "outputId": "66199386-32af-48ff-e6b9-74c22c26291d",
        "colab": {
          "base_uri": "https://localhost:8080/",
          "height": 295
        }
      },
      "source": [
        "# Example 3\n",
        "# ---\n",
        "# Very much like a bar chart, histograms tend to show distribution by grouping segments together. \n",
        "# Examples of this might be age groups, or scores on a test. \n",
        "# Rather than showing every single age a group might be, maybe you just show people from 20-25, 25-30... and so on.\n",
        "# ---\n",
        "#\n",
        "\n",
        "population_ages = [22, 55, 62, 45, 21, 22, 34, 42, 42, 4, 99, 102, 110, 120, 121, 122, 130, 111, 115, 112, 80, 75, 65, 54, 44, 43, 42, 48]\n",
        "bins            = [0, 10, 20, 30, 40, 50, 60, 70, 80, 90, 100, 110, 120, 130]\n",
        "\n",
        "plt.hist(population_ages, bins=10, histtype='bar', rwidth=0.9)\n",
        "\n",
        "plt.xlabel('x')\n",
        "plt.ylabel('y')\n",
        "plt.title('Histogram of Population') \n",
        "plt.show()"
      ],
      "execution_count": 34,
      "outputs": [
        {
          "output_type": "display_data",
          "data": {
            "image/png": "[encoded data removed]",
            "text/plain": [
              "<Figure size 432x288 with 1 Axes>"
            ]
          },
          "metadata": {
            "tags": [],
            "needs_background": "light"
          }
        }
      ]
    },
    {
      "cell_type": "code",
      "metadata": {
        "id": "eGXHLiBY8jbI",
        "outputId": "563c92cd-4c61-4348-d95a-4459b9408b0e",
        "colab": {
          "base_uri": "https://localhost:8080/",
          "height": 295
        }
      },
      "source": [
        "# Example 4\n",
        "# ---\n",
        "# Creating a histogram from a given dataset using values from the points column\n",
        "# ---\n",
        "# Dataset url = http://bit.ly/WineDataset\n",
        "# ---\n",
        "#\n",
        "\n",
        "# Loading out dataset\n",
        "wine_df = pd.read_csv(\"http://bit.ly/WineDataset\")\n",
        "\n",
        "wine_points = wine_df['points']\n",
        "\n",
        "plt.hist(wine_points, bins=10, histtype='bar', rwidth=0.9)\n",
        "plt.xlabel('No. of Wines')\n",
        "plt.ylabel('Quantity')\n",
        "plt.title('Histogram of Points of Wine vs No. of Wines')\n",
        "plt.show()"
      ],
      "execution_count": 35,
      "outputs": [
        {
          "output_type": "display_data",
          "data": {
            "image/png": "[encoded data removed]",
            "text/plain": [
              "<Figure size 432x288 with 1 Axes>"
            ]
          },
          "metadata": {
            "tags": [],
            "needs_background": "light"
          }
        }
      ]
    },
    {
      "cell_type": "markdown",
      "metadata": {
        "id": "jRKV0pa04BQH"
      },
      "source": [
        "#### <font color=\"green\">1.22 Challenges</font>"
      ]
    },
    {
      "cell_type": "code",
      "metadata": {
        "id": "VWgtpnM54Mf7",
        "outputId": "5a5bda0c-346b-48be-8b47-4c29160c6f7c",
        "colab": {
          "base_uri": "https://localhost:8080/",
          "height": 295
        }
      },
      "source": [
        "# Challenge 1\n",
        "# ---\n",
        "# Question: Create a bar chart given the following dataset\n",
        "# ---\n",
        "# \n",
        "languages = ('Python', 'C++', 'Java', 'Perl', 'Scala', 'Lisp') \n",
        "performance = [20, 18, 66, 14, 12, 11]\n",
        "\n",
        "plt.bar(languages,performance ,color ='yellow')\n",
        "plt.ylabel('Performance')\n",
        "plt.xlabel('Languages')\n",
        "plt.title('Performance in various languages')\n",
        "plt.show()"
      ],
      "execution_count": 36,
      "outputs": [
        {
          "output_type": "display_data",
          "data": {
            "image/png": "[encoded data removed]",
            "text/plain": [
              "<Figure size 432x288 with 1 Axes>"
            ]
          },
          "metadata": {
            "tags": [],
            "needs_background": "light"
          }
        }
      ]
    },
    {
      "cell_type": "code",
      "metadata": {
        "id": "FUy2tpOl4Nax",
        "outputId": "88412c46-8332-41cd-f9d4-feef97cdf7b6",
        "colab": {
          "base_uri": "https://localhost:8080/",
          "height": 295
        }
      },
      "source": [
        "# Challenge 2\n",
        "# ---\n",
        "# Question: Create a histogram from the following data\n",
        "# ---\n",
        "# \n",
        "x = [21, 22, 23, 4, 5, 6, 77, 8, 9, 10, 31, 32, 33, 34, 35, 36, 37, 18, 49, 50, 100]\n",
        "num_bins = 5\n",
        "\n",
        "plt.hist(x,num_bins, histtype='bar',rwidth=0.9)\n",
        "plt.xlabel('x')\n",
        "plt.ylabel('y')\n",
        "plt.title('values of x')\n",
        "plt.show()"
      ],
      "execution_count": 37,
      "outputs": [
        {
          "output_type": "display_data",
          "data": {
            "image/png": "[encoded data removed]",
            "text/plain": [
              "<Figure size 432x288 with 1 Axes>"
            ]
          },
          "metadata": {
            "tags": [],
            "needs_background": "light"
          }
        }
      ]
    },
    {
      "cell_type": "code",
      "metadata": {
        "id": "eQV9iT2u4Po_",
        "outputId": "2049b1cb-92df-4e41-ba8b-cf64da774775",
        "colab": {
          "base_uri": "https://localhost:8080/",
          "height": 282
        }
      },
      "source": [
        "# Challenge 3\n",
        "# ---\n",
        "# Question: Create a histogram from a given dataset using values from the sepal length column\n",
        "# ---\n",
        "# Dataset url = http://bit.ly/IrisDataset\n",
        "# ---\n",
        "# \n",
        "df = pd.read_csv('http://bit.ly/IrisDataset')\n",
        "df\n",
        "df.sepal_length.plot.hist()\n"
      ],
      "execution_count": 38,
      "outputs": [
        {
          "output_type": "execute_result",
          "data": {
            "text/plain": [
              "<matplotlib.axes._subplots.AxesSubplot at 0x7fb6a316deb8>"
            ]
          },
          "metadata": {
            "tags": []
          },
          "execution_count": 38
        },
        {
          "output_type": "display_data",
          "data": {
            "image/png": "[encoded data removed]",
            "text/plain": [
              "<Figure size 432x288 with 1 Axes>"
            ]
          },
          "metadata": {
            "tags": [],
            "needs_background": "light"
          }
        }
      ]
    },
    {
      "cell_type": "markdown",
      "metadata": {
        "id": "yXH8QAl71vLq"
      },
      "source": [
        "\n",
        "### 1.23 Pie Charts"
      ]
    },
    {
      "cell_type": "code",
      "metadata": {
        "id": "UXYA0eoB09kd",
        "outputId": "1dced9ae-09a0-4060-e37f-30ddcffe75a1",
        "colab": {
          "base_uri": "https://localhost:8080/",
          "height": 268
        }
      },
      "source": [
        "# Example 1\n",
        "# ---\n",
        "# Question: Create a pie chart usig the sizes list given below\n",
        "# ---\n",
        "#\n",
        "\n",
        "# Defining our labels, sizes, colors and explode (this will explode the 1st slice)\n",
        "labels = 'Python', 'C++', 'Ruby', 'Java'\n",
        "sizes  = [215, 130, 245, 210]\n",
        "colors = ['gold', 'yellowgreen', 'lightcoral', 'lightskyblue']\n",
        "\n",
        "# Highlights a particular Value in plot\n",
        "explode = (0.1, 0, 0, 0)  \n",
        "\n",
        "# Plotting our pie chart\n",
        "plt.pie(sizes, explode=explode, labels=labels, colors=colors,\n",
        "autopct='%1.1f%%', shadow=True, startangle=140)\n",
        "\n",
        "plt.axis('equal')\n",
        "plt.title('Pie Chart of Programming Languages')\n",
        "plt.show()"
      ],
      "execution_count": 39,
      "outputs": [
        {
          "output_type": "display_data",
          "data": {
            "image/png": "[encoded data removed]",
            "text/plain": [
              "<Figure size 432x288 with 1 Axes>"
            ]
          },
          "metadata": {
            "tags": []
          }
        }
      ]
    },
    {
      "cell_type": "code",
      "metadata": {
        "id": "4IIwpXsF4To9",
        "outputId": "fb24997c-a862-4404-c274-476d2836563f",
        "colab": {
          "base_uri": "https://localhost:8080/",
          "height": 264
        }
      },
      "source": [
        "# Example 2\n",
        "# ---\n",
        "# Question: Create a pie chart to show the distribution of age and population\n",
        "# ---\n",
        "# \n",
        "\n",
        "# Loading out dataset\n",
        "df = pd.read_csv(\"http://bit.ly/AgePopulationDataset\")\n",
        "\n",
        "# Previewing the dataset \n",
        "df.head()\n",
        "\n",
        "# Assigning our columns to population and age variables\n",
        "population = df['population']\n",
        "age        = df['age']\n",
        "\n",
        "# Plotting our pie chart\n",
        "# -------\n",
        "plt.pie(population, labels = age, autopct = '%1.1f%%', shadow = True, startangle = 140)\n",
        "plt.axis('equal')\n",
        "plt.title('Pie Chart of Age population')\n",
        "plt.show()"
      ],
      "execution_count": 40,
      "outputs": [
        {
          "output_type": "display_data",
          "data": {
            "image/png": "[encoded data removed]",
            "text/plain": [
              "<Figure size 432x288 with 1 Axes>"
            ]
          },
          "metadata": {
            "tags": []
          }
        }
      ]
    },
    {
      "cell_type": "markdown",
      "metadata": {
        "id": "6lNbN0xS4XAY"
      },
      "source": [
        "#### <font color=\"green\">1.23 Challenges</font>"
      ]
    },
    {
      "cell_type": "code",
      "metadata": {
        "id": "SDYT8o0U4WE9",
        "outputId": "df6601a8-cb97-42e7-9f64-9728dc5a57ee",
        "colab": {
          "base_uri": "https://localhost:8080/",
          "height": 264
        }
      },
      "source": [
        "# Challenge 1\n",
        "# ---\n",
        "# Question: Create a pie chart of county population given the following\n",
        "# ---\n",
        "# \n",
        "\n",
        "county_population = [12344408, 2441523, 30523371, 110012442, 47886051]\n",
        "counties = ['Thika', 'Mombasa', 'Kisumu', 'Nairobi', 'Nakuru']\n",
        "\n",
        "plt.pie(county_population,labels= counties, explode=None,autopct='%1.1f%%',startangle=140)\n",
        "plt.axis('equal')\n",
        "plt.title('Population of counties')\n",
        "plt.show()"
      ],
      "execution_count": 41,
      "outputs": [
        {
          "output_type": "display_data",
          "data": {
            "image/png": "[encoded data removed]",
            "text/plain": [
              "<Figure size 432x288 with 1 Axes>"
            ]
          },
          "metadata": {
            "tags": []
          }
        }
      ]
    },
    {
      "cell_type": "code",
      "metadata": {
        "id": "xRcsBrgL4jDB",
        "outputId": "9d8ae93a-34f7-4563-cb86-5f84958a8914",
        "colab": {
          "base_uri": "https://localhost:8080/",
          "height": 264
        }
      },
      "source": [
        "# Challenge 2\n",
        "# ---\n",
        "# Question: Acting as Chief Data Strategist for a ride sharing company, \n",
        "# you are expected to offer data-backed guidance on new opportunities for market differentiation.\n",
        "# Merge the two datasets into a single dataset based on the cities they share then \n",
        "# produce the following pie chart: Pie Chart of % of Total Fares by City Type.\n",
        "# Hint: When making the pie Chart, experiment with effects like shadow, startangle, and explosion\n",
        "# ---\n",
        "# Dataset 1 url = http://bit.ly/City-RideDataset\n",
        "# Dataset 2 url = http://bit.ly/RideDataset\n",
        "# ---\n",
        "#\n",
        "\n",
        "df1 = pd.read_csv('http://bit.ly/City-RideDataset')\n",
        "df2 = pd.read_csv('http://bit.ly/RideDataset')\n",
        "df1\n",
        "df2\n",
        "\n",
        "df = pd.merge(df1,df2, left_on = 'city', right_on='city', how='inner')\n",
        "df\n",
        "\n",
        "# group fares buy cities\n",
        "df3 = df[['city','fare']]\n",
        "df3\n",
        "\n",
        "#df_city = df3.groupby(['city','fare'])['fare'].sum()\n",
        "df_city = df.groupby(['city', 'fare'])['fare'].agg('sum')\n",
        "df_city\n",
        "\n",
        "df4 = df_city.groupby(['city']).sum()\n",
        "df4\n",
        "\n",
        "#converting df4 to a dataframe\n",
        "df4 = df4.to_frame().reset_index()\n",
        "\n",
        "df4 = df4.rename(columns= {0: 'list'})\n",
        "df4.index.name = 'index'\n",
        "df4.columns\n",
        "\n",
        "city = df4.city\n",
        "fare = df4.fare\n",
        "\n",
        "plt.pie(fare,labels=None,autopct='%1.1f%%',shadow=False, startangle=140)\n",
        "plt.axis('equal')\n",
        "plt.title('Pie Chart of city fares')\n",
        "plt.show()\n"
      ],
      "execution_count": 64,
      "outputs": [
        {
          "output_type": "display_data",
          "data": {
            "image/png": "[encoded data removed]",
            "text/plain": [
              "<Figure size 432x288 with 1 Axes>"
            ]
          },
          "metadata": {
            "tags": []
          }
        }
      ]
    },
    {
      "cell_type": "code",
      "metadata": {
        "id": "niqu0X4zJgt3",
        "outputId": "f9f1361b-1473-43b6-c409-dd43309e5914",
        "colab": {
          "base_uri": "https://localhost:8080/",
          "height": 218
        }
      },
      "source": [
        "#counting cities\n",
        "df.city.value_counts()"
      ],
      "execution_count": 75,
      "outputs": [
        {
          "output_type": "execute_result",
          "data": {
            "text/plain": [
              "West Angela        39\n",
              "South Karenland    38\n",
              "North Jason        35\n",
              "Port Frank         33\n",
              "Liumouth           33\n",
              "                   ..\n",
              "Penaborough         5\n",
              "Randallchester      5\n",
              "South Saramouth     4\n",
              "Newtonview          4\n",
              "Garzaport           3\n",
              "Name: city, Length: 120, dtype: int64"
            ]
          },
          "metadata": {
            "tags": []
          },
          "execution_count": 75
        }
      ]
    },
    {
      "cell_type": "code",
      "metadata": {
        "id": "EpTRmGQF4kyA",
        "outputId": "0d1ca53b-daeb-4aca-855a-6e807f5d27b1",
        "colab": {
          "base_uri": "https://localhost:8080/",
          "height": 264
        }
      },
      "source": [
        "# Challenge 3\n",
        "# ---\n",
        "# Question: From the combined dataset in Challenge 2, \n",
        "# create a pie chart of % of Total Rides by City Type\n",
        "# ---\n",
        "#\n",
        "df.head(3)\n",
        "\n",
        "#selecting total rides by city\n",
        "#select the ride id and city\n",
        "df2 = df[['city','ride_id']]\n",
        "df2\n",
        "\n",
        "df2 = df2.groupby(['city']).sum()\n",
        "df2\n",
        "\n",
        "df2 = df2.reset_index()\n",
        "df2\n",
        "\n",
        "city = df2.city\n",
        "ride = df2.ride_id\n",
        "\n",
        "plt.pie(ride,labels=None,autopct='%1.1f%%',shadow=False, startangle=140)\n",
        "plt.axis('equal')\n",
        "plt.title('Pie Chart of city fares')\n",
        "plt.show()\n"
      ],
      "execution_count": 74,
      "outputs": [
        {
          "output_type": "display_data",
          "data": {
            "image/png": "[encoded data removed]",
            "text/plain": [
              "<Figure size 432x288 with 1 Axes>"
            ]
          },
          "metadata": {
            "tags": []
          }
        }
      ]
    },
    {
      "cell_type": "code",
      "metadata": {
        "id": "H4FACJNg6kPw",
        "outputId": "a8d4937e-2154-4e25-e568-856147aedac7",
        "colab": {
          "base_uri": "https://localhost:8080/",
          "height": 136
        }
      },
      "source": [
        "# Challenge 4\n",
        "# ---\n",
        "# Question: From the combined dataset in Challenge 2, \n",
        "# create a pie chart % of Total Drivers by City Type\n",
        "# ---\n",
        "#\n",
        "df.head(3)"
      ],
      "execution_count": 76,
      "outputs": [
        {
          "output_type": "execute_result",
          "data": {
            "text/html": [
              "<div>\n",
              "<style scoped>\n",
              "    .dataframe tbody tr th:only-of-type {\n",
              "        vertical-align: middle;\n",
              "    }\n",
              "\n",
              "    .dataframe tbody tr th {\n",
              "        vertical-align: top;\n",
              "    }\n",
              "\n",
              "    .dataframe thead th {\n",
              "        text-align: right;\n",
              "    }\n",
              "</style>\n",
              "<table border=\"1\" class=\"dataframe\">\n",
              "  <thead>\n",
              "    <tr style=\"text-align: right;\">\n",
              "      <th></th>\n",
              "      <th>city</th>\n",
              "      <th>driver_count</th>\n",
              "      <th>type</th>\n",
              "      <th>date</th>\n",
              "      <th>fare</th>\n",
              "      <th>ride_id</th>\n",
              "    </tr>\n",
              "  </thead>\n",
              "  <tbody>\n",
              "    <tr>\n",
              "      <th>0</th>\n",
              "      <td>Richardfort</td>\n",
              "      <td>38</td>\n",
              "      <td>Urban</td>\n",
              "      <td>2018-02-24 08:40:38</td>\n",
              "      <td>13.93</td>\n",
              "      <td>5628545007794</td>\n",
              "    </tr>\n",
              "    <tr>\n",
              "      <th>1</th>\n",
              "      <td>Richardfort</td>\n",
              "      <td>38</td>\n",
              "      <td>Urban</td>\n",
              "      <td>2018-02-13 12:46:07</td>\n",
              "      <td>14.00</td>\n",
              "      <td>910050116494</td>\n",
              "    </tr>\n",
              "    <tr>\n",
              "      <th>2</th>\n",
              "      <td>Richardfort</td>\n",
              "      <td>38</td>\n",
              "      <td>Urban</td>\n",
              "      <td>2018-02-16 13:52:19</td>\n",
              "      <td>17.92</td>\n",
              "      <td>820639054416</td>\n",
              "    </tr>\n",
              "  </tbody>\n",
              "</table>\n",
              "</div>"
            ],
            "text/plain": [
              "          city  driver_count   type                 date   fare        ride_id\n",
              "0  Richardfort            38  Urban  2018-02-24 08:40:38  13.93  5628545007794\n",
              "1  Richardfort            38  Urban  2018-02-13 12:46:07  14.00   910050116494\n",
              "2  Richardfort            38  Urban  2018-02-16 13:52:19  17.92   820639054416"
            ]
          },
          "metadata": {
            "tags": []
          },
          "execution_count": 76
        }
      ]
    },
    {
      "cell_type": "code",
      "metadata": {
        "id": "u_W0Wibz13A8",
        "outputId": "a78838e8-f6e2-4134-c450-142322064588",
        "colab": {
          "base_uri": "https://localhost:8080/",
          "height": 34
        }
      },
      "source": [
        "# Example 1: Mean\n",
        "# Mean or Average is a central tendency of the data i.e. a number around which a whole data is spread out. \n",
        "# In a way, it is a single number which can estimate the value of whole data set.\n",
        "# ---\n",
        "# Question: From the following dataset, What is the mean monthly consumption and export of tea in millions of kg between 2003 and 2015\n",
        "# Dataset url = http://bit.ly/tea-exports\n",
        "# ---\n",
        "\n",
        "# Loading the dataset\n",
        "tea_exports_df = pd.read_csv(\"http://bit.ly/tea-exports\")\n",
        "\n",
        "# Previewing the dataset\n",
        "tea_exports_df.head()\n",
        "\n",
        "# Finding the mean\n",
        "tea_exports_df[\"Millions_in_KGS_\"].mean()"
      ],
      "execution_count": 78,
      "outputs": [
        {
          "output_type": "execute_result",
          "data": {
            "text/plain": [
              "24.452987654321003"
            ]
          },
          "metadata": {
            "tags": []
          },
          "execution_count": 78
        }
      ]
    },
    {
      "cell_type": "code",
      "metadata": {
        "id": "2DPrdaoc16tZ",
        "outputId": "94a0da23-c552-4947-c316-18f112090135",
        "colab": {
          "base_uri": "https://localhost:8080/",
          "height": 34
        }
      },
      "source": [
        "# Example 2: Median\n",
        "# Median is the value which divides the data in 2 equal parts i.e. number of terms on right side of it \n",
        "# is same as number of terms on left side of it when data is arranged in either ascending or descending order.\n",
        "# ---\n",
        "# Question: From the following dataset, What was the monthly median fish production(kgs) in Kisumu sub county?\n",
        "# Dataset url = http://bit.ly/Kisumu-fish-production\n",
        "# ---\n",
        "# \n",
        "\n",
        "# Loading the dataset\n",
        "kisumu_fish_production_df = pd.read_csv(\"http://bit.ly/Kisumu-fish-production\")\n",
        "\n",
        "# Previewing the dataset\n",
        "kisumu_fish_production_df.head()\n",
        "\n",
        "# Finding the median\n",
        "kisumu_fish_production_df[\"WEIGHT_KGS\"].median()"
      ],
      "execution_count": 80,
      "outputs": [
        {
          "output_type": "execute_result",
          "data": {
            "text/plain": [
              "2424.0"
            ]
          },
          "metadata": {
            "tags": []
          },
          "execution_count": 80
        }
      ]
    },
    {
      "cell_type": "code",
      "metadata": {
        "id": "eYO9eGyH125E",
        "outputId": "2310693c-fc02-47e8-f363-4f9fbcf85be9",
        "colab": {
          "base_uri": "https://localhost:8080/",
          "height": 50
        }
      },
      "source": [
        "# Example 3: Mode \n",
        "# Mode is the term appearing maximum time in data set i.e. term that has highest frequency.\n",
        "# ---\n",
        "# Question: From the given dataset, what was the mode target yield bags per hectare during the long rains?\n",
        "# Dataset url = http://bit.ly/Kisumu-crop-statistics\n",
        "# ---\n",
        "#\n",
        "\n",
        "# Loading the dataset\n",
        "kisumu_crop_statistics_df = pd.read_csv(\"http://bit.ly/Kisumu-crop-statistics\")\n",
        "\n",
        "# Previewing the dataset\n",
        "kisumu_crop_statistics_df.head()\n",
        "\n",
        "# Finding the median\n",
        "kisumu_crop_statistics_df[\"TARGET_YIELD__BAG/HA_LONG_RAINS\"].mode()"
      ],
      "execution_count": 81,
      "outputs": [
        {
          "output_type": "execute_result",
          "data": {
            "text/plain": [
              "0    10\n",
              "dtype: int64"
            ]
          },
          "metadata": {
            "tags": []
          },
          "execution_count": 81
        }
      ]
    },
    {
      "cell_type": "markdown",
      "metadata": {
        "id": "Z6im-o4g4pK6"
      },
      "source": [
        "#### <font color=\"green\">1.32 Challenges</font>"
      ]
    },
    {
      "cell_type": "code",
      "metadata": {
        "id": "bd8oXas94osH",
        "outputId": "52b3bfcf-e7ca-4a06-e248-aefcc2c289a7",
        "colab": {
          "base_uri": "https://localhost:8080/",
          "height": 34
        }
      },
      "source": [
        "# Challenge 1: Mean\n",
        "# ---\n",
        "# Question: What was the mean target production bags of 90kg during short rains?\n",
        "# Dataset url = http://bit.ly/Kisumu-crop-statistics\n",
        "# ---\n",
        "# \n",
        "df = pd.read_csv('http://bit.ly/Kisumu-crop-statistics')\n",
        "df.head()\n",
        "df.columns\n",
        "\n",
        "df['PROJECTED___PRODUCTION_BAGS_OF_90KG_EACH__SR'].mean()"
      ],
      "execution_count": 85,
      "outputs": [
        {
          "output_type": "execute_result",
          "data": {
            "text/plain": [
              "3195.5666666666666"
            ]
          },
          "metadata": {
            "tags": []
          },
          "execution_count": 85
        }
      ]
    },
    {
      "cell_type": "code",
      "metadata": {
        "id": "lOwXYPaO4x7u",
        "outputId": "19a1a5b6-247f-4619-e8f9-d92072bece09",
        "colab": {
          "base_uri": "https://localhost:8080/",
          "height": 34
        }
      },
      "source": [
        "# Challenge 2: Median\n",
        "# ---\n",
        "# Question: What was the median target production bags during long rains?\n",
        "# Dataset url = http://bit.ly/Kisumu-crop-statistics\n",
        "# ---\n",
        "#\n",
        "df = pd.read_csv('http://bit.ly/Kisumu-crop-statistics')\n",
        "df.head()\n",
        "df.columns\n",
        "\n",
        "df['PROJECTED___PRODUCTION_BAGS_OF_90KG_EACH__LR'].mean()"
      ],
      "execution_count": 86,
      "outputs": [
        {
          "output_type": "execute_result",
          "data": {
            "text/plain": [
              "4764.742424242424"
            ]
          },
          "metadata": {
            "tags": []
          },
          "execution_count": 86
        }
      ]
    },
    {
      "cell_type": "code",
      "metadata": {
        "id": "JyOIjUMD4y-7",
        "outputId": "51171d6f-1e22-4522-f9b0-0b1aba8a4b88",
        "colab": {
          "base_uri": "https://localhost:8080/",
          "height": 84
        }
      },
      "source": [
        "# Challenge 3: Mode \n",
        "# ---\n",
        "# Question: What was the mode projected yield bags per hectare during short rains?\n",
        "# Dataset url = http://bit.ly/Kisumu-crop-statistics\n",
        "# ---\n",
        "#\n",
        "df = pd.read_csv('http://bit.ly/Kisumu-crop-statistics')\n",
        "df.head()\n",
        "df.columns\n",
        "\n",
        "df['PROJECTED_YIELD_BAG/HA_LONG_RAINS'].mode()"
      ],
      "execution_count": 88,
      "outputs": [
        {
          "output_type": "execute_result",
          "data": {
            "text/plain": [
              "0     3\n",
              "1     5\n",
              "2    10\n",
              "dtype: int64"
            ]
          },
          "metadata": {
            "tags": []
          },
          "execution_count": 88
        }
      ]
    },
    {
      "cell_type": "code",
      "metadata": {
        "id": "gQT1Bv9AN27D",
        "outputId": "cdebe743-4c6f-4e0f-d3f7-b315652551d0",
        "colab": {
          "base_uri": "https://localhost:8080/",
          "height": 269
        }
      },
      "source": [
        "df.columns"
      ],
      "execution_count": 87,
      "outputs": [
        {
          "output_type": "execute_result",
          "data": {
            "text/plain": [
              "Index(['SUB-COUNTY', 'PRODUCE', 'TARGET_AREA_HA_LONG_RAINS',\n",
              "       'TARGET_AREA_HA_SHORT_RAINS', 'TARGET_TOTAL_',\n",
              "       'TARGET_YIELD__BAG/HA_LONG_RAINS', 'TARGET_YIELD__BAG/HA_SHORT_RAINS',\n",
              "       'TARGET_PRODUCTION_BAGS_LONG_RAINS',\n",
              "       'TARGET_PRODUCTION_BAGS_SHORT_RAINS', 'TARGET_PRODUCTION_BAGS_TOTAL',\n",
              "       'ACHIEVEMENT_AREA_HA_LONG_RAINS', 'ACHIEVEMENT_AREA_HA_SHORT_RAINS',\n",
              "       'ACHIEVEMENT_TOTAL', 'PROJECTED_YIELD_BAG/HA_LONG_RAINS',\n",
              "       'PROJECTED_YIELD_BAG/HA_SHORT_RAINS',\n",
              "       'PROJECTED___PRODUCTION_BAGS_OF_90KG_EACH__LR',\n",
              "       'PROJECTED___PRODUCTION_BAGS_OF_90KG_EACH__SR',\n",
              "       'PROJECTED___PRODUCTION_BAGS_OF_90KG_EACH__TOTAL',\n",
              "       'PRICES_KSH/BAG_LONG_RAINS', 'PRICES_KSH/BAG_SHORT_RAINS',\n",
              "       'VALUE_KSH__LONG_RAINS', 'VALUE_KSH_SHORT_RAINS', 'VALUE_KSH_TOTAL',\n",
              "       'DATE', 'OBJECTID'],\n",
              "      dtype='object')"
            ]
          },
          "metadata": {
            "tags": []
          },
          "execution_count": 87
        }
      ]
    },
    {
      "cell_type": "markdown",
      "metadata": {
        "id": "8POt4f4D2LcH"
      },
      "source": [
        "### 1.32 Measures of Dispersion/Variability/Spread"
      ]
    },
    {
      "cell_type": "code",
      "metadata": {
        "id": "kZeJoLg_2R3Q",
        "outputId": "39bfaff2-129c-4615-e017-778583c58825",
        "colab": {
          "base_uri": "https://localhost:8080/",
          "height": 34
        }
      },
      "source": [
        "# Example 1: Standard Deviation  \n",
        "# Standard deviation is the measurement of average distance between each quantity and mean. \n",
        "# That is, how data is spread out from mean. A low standard deviation indicates that the data points \n",
        "# tend to be close to the mean of the data set, while a high standard deviation indicates that the \n",
        "# data points are spread out over a wider range of values.\n",
        "# There are situations when we have to choose between sample or population Standard Deviation. \n",
        "# When we are asked to find SD of some part of a population, a segment of population; \n",
        "# then we use sample Standard Deviation. But when we have to deal with a whole population, \n",
        "# then we use population Standard Deviation. As you know, in descriptive statistics, \n",
        "# we generally deal with a data available in a sample, not in a population.\n",
        "# ---\n",
        "# Question: What was the standard deviation for the Nakuru Couty Herbicide average prices?\n",
        "# Dataset url = http://bit.ly/NakuruCountyHerbicidePrices\n",
        "# ----\n",
        "# \n",
        "\n",
        "# Loading the dataset\n",
        "nakuru_county_herbicide_prices_df = pd.read_csv(\"http://bit.ly/NakuruCountyHerbicidePrices\")\n",
        "\n",
        "# Previewing the dataset\n",
        "nakuru_county_herbicide_prices_df.head()\n",
        "\n",
        "# Finding the standard deviation\n",
        "nakuru_county_herbicide_prices_df[\"Average_Price\"].std()"
      ],
      "execution_count": 90,
      "outputs": [
        {
          "output_type": "execute_result",
          "data": {
            "text/plain": [
              "2539.974525115418"
            ]
          },
          "metadata": {
            "tags": []
          },
          "execution_count": 90
        }
      ]
    },
    {
      "cell_type": "code",
      "metadata": {
        "id": "P8vUwmx3-8iB",
        "outputId": "8f862af1-e8ac-43dd-e3be-dc4e0db292f5",
        "colab": {
          "base_uri": "https://localhost:8080/",
          "height": 34
        }
      },
      "source": [
        "# Example 2: Variance\n",
        "# Variance is a square of average distance between each quantity and mean. \n",
        "# That is it is square of standard deviation. It is a measure of how dispersed or spread out the set is, \n",
        "# something that the “average” (mean or median) is not designed to do. \n",
        "# If I tell you a data set has a variance of zero, for example, you know that every member of it is the same. \n",
        "# If the variance is high, especially as a ratio to the mean, \n",
        "# that tells you that the data have some very large dis-similarities amongst its members. \n",
        "# If one considers the mean to be a sort of centre of the data, \n",
        "# the variance tells you how scattered around the centre of mass the points are.\n",
        "# ---\n",
        "# Question: What was the variance of the Nakuru Couty Herbicide average prices?\n",
        "# Dataset url = http://bit.ly/NakuruCountyHerbicidePrices\n",
        "# ---\n",
        "#  \n",
        "\n",
        "# Finding the variance of the herbicide average prices\n",
        "nakuru_county_herbicide_prices_df[\"Average_Price\"].var()"
      ],
      "execution_count": 91,
      "outputs": [
        {
          "output_type": "execute_result",
          "data": {
            "text/plain": [
              "6451470.5882352935"
            ]
          },
          "metadata": {
            "tags": []
          },
          "execution_count": 91
        }
      ]
    },
    {
      "cell_type": "code",
      "metadata": {
        "id": "j73naeos2RRR",
        "outputId": "da5a79e9-71a0-4ee6-af76-3e93d8f15670",
        "colab": {
          "base_uri": "https://localhost:8080/",
          "height": 34
        }
      },
      "source": [
        "# Examples 3: Range\n",
        "# Range is one of the simplest techniques of descriptive statistics. \n",
        "# It is the difference between lowest and highest value.\n",
        "# ---\n",
        "# Question: What was the range of the Nakuru county herbicide prices?\n",
        "# Dataset url = http://bit.ly/NakuruCountyHerbicidePrices\n",
        "# ---\n",
        "#\n",
        "\n",
        "# Finding the min and max values of the herbicide average prices\n",
        "nakuru_county_herbicide_prices_max = nakuru_county_herbicide_prices_df[\"Average_Price\"].max()\n",
        "nakuru_county_herbicide_prices_min = nakuru_county_herbicide_prices_df[\"Average_Price\"].min()\n",
        "\n",
        "# Calculating the range\n",
        "nakuru_county_herbicide_prices_max - nakuru_county_herbicide_prices_min"
      ],
      "execution_count": 92,
      "outputs": [
        {
          "output_type": "execute_result",
          "data": {
            "text/plain": [
              "7450"
            ]
          },
          "metadata": {
            "tags": []
          },
          "execution_count": 92
        }
      ]
    },
    {
      "cell_type": "code",
      "metadata": {
        "id": "UobGI2kj2Q3Y",
        "outputId": "d7b1a239-b8a5-42e3-db08-2f8f16afb1bd",
        "colab": {
          "base_uri": "https://localhost:8080/",
          "height": 84
        }
      },
      "source": [
        "# Example 4: Quantiles \n",
        "# In statistics and probability, quartiles are values that divide your data into quarters provided data is sorted in an ascending order. \n",
        "# There are three quartile values. First quartile value is at 25 percentile. \n",
        "# Second quartile is 50 percentile and third quartile is 75 percentile. \n",
        "# Second quartile (Q2) is median of the whole data. First quartile (Q1) is median of upper half of the data. \n",
        "# And Third Quartile (Q3) is median of lower half of the data.\n",
        "# ---\n",
        "# Question: Determine the quantiles of the Nakuru county herbicide prices\n",
        "# Dataset url = http://bit.ly/NakuruCountyHerbicidePrices\n",
        "# ---\n",
        "# \n",
        "\n",
        "# Finding the quantiles of the herbicide average prices\n",
        "nakuru_county_herbicide_prices_df[\"Average_Price\"].quantile([0.25,0.5,0.75])"
      ],
      "execution_count": 93,
      "outputs": [
        {
          "output_type": "execute_result",
          "data": {
            "text/plain": [
              "0.25    1162.5\n",
              "0.50    1875.0\n",
              "0.75    3900.0\n",
              "Name: Average_Price, dtype: float64"
            ]
          },
          "metadata": {
            "tags": []
          },
          "execution_count": 93
        }
      ]
    },
    {
      "cell_type": "code",
      "metadata": {
        "id": "j_9rzQpe3UEE",
        "outputId": "41857632-1c51-4b48-9ed9-02b89ed010fc",
        "colab": {
          "base_uri": "https://localhost:8080/",
          "height": 34
        }
      },
      "source": [
        "# Examples 5: Skewness\n",
        "# Skewness is a measure of the asymmetry of the probability distribution (http://bit.ly/ProbabilityDistribution)\n",
        "# of a real-valued random variable about its mean. The skewness value can be positive or negative, or undefined.\n",
        "# In a perfect normal distribution, the tails on either side of the curve are exact mirror images of each other.\n",
        "# When a distribution is skewed to the left, the tail on the curve’s left-hand side is longer than the tail on the right-hand side,\n",
        "# and the mean is less than the mode. This situation is also called negative skewness.\n",
        "# When a distribution is skewed to the right, the tail on the curve’s right-hand side is longer than the tail on the left-hand side, \n",
        "# and the mean is greater than the mode. This situation is also called positive skewness.\n",
        "# It is important for researchers from the behavioral and business sciences to measure skewness when it appears in their data. \n",
        "# Great amount of skewness may motivate the data scientist to investigate the existence of outliers. \n",
        "# When making decisions about which measure of location to report and which inferential statistic to employ, \n",
        "# one should take into consideration the estimated skewness of the population.\n",
        "# A negative value means the distribution is negatively skewed. A positive value means the distribution is positively skewed.\n",
        "# ---\n",
        "# Question: Determine the skewness of the Nakuru county herbicide prices.\n",
        "# Dataset url = http://bit.ly/NakuruCountyHerbicidePrices\n",
        "# ---\n",
        "#\n",
        "\n",
        "# Determining the skeweness\n",
        "nakuru_county_herbicide_prices_df[\"Average_Price\"].skew()"
      ],
      "execution_count": 94,
      "outputs": [
        {
          "output_type": "execute_result",
          "data": {
            "text/plain": [
              "1.0944233329783948"
            ]
          },
          "metadata": {
            "tags": []
          },
          "execution_count": 94
        }
      ]
    },
    {
      "cell_type": "code",
      "metadata": {
        "id": "HTwjeGEy3XAB",
        "outputId": "5d4166df-2c83-4b5d-d357-e46864e75924",
        "colab": {
          "base_uri": "https://localhost:8080/",
          "height": 34
        }
      },
      "source": [
        "# Examples 6: Kurtosis\n",
        "# The exact interpretation of the measure of Kurtosis used to be disputed, but is now settled. \n",
        "# Its about existence of outliers. Kurtosis is a measure of whether the data are heavy-tailed (profusion of outliers)\n",
        "# or light-tailed (lack of outliers) relative to a normal distribution.\n",
        "# There are three types of Kurtosis: Mesokurtic, Leptokurtic, Mesokurtic and Platykurtic. \n",
        "# ***\n",
        "# Mesokurtic is the distribution which has similar kurtosis as normal distribution kurtosis, which is zero.\n",
        "# ***\n",
        "# Leptokurtic is the distribution which has kurtosis greater than a Mesokurtic distribution. Tails of such distributions are thick and heavy. \n",
        "# If the curve of a distribution is more peaked than Mesokurtic curve, it is referred to as a Leptokurtic curve.\n",
        "# ***\n",
        "# Platykurtic is the distribution which has kurtosis lesser than a Mesokurtic distribution. Tails of such distributions thinner. \n",
        "# If a curve of a distribution is less peaked than a Mesokurtic curve, it is referred to as a Platykurtic curve.\n",
        "# \n",
        "# If the kurtosis is close to 0, then a normal distribution is often assumed. These are called mesokurtic distributions. \n",
        "# If the kurtosis is less than zero, then the distribution is light tails and is called a platykurtic distribution.  \n",
        "# If the kurtosis is greater than zero, then the distribution has heavier tails and is called a leptokurtic distribution.\n",
        "# ---\n",
        "# Question: Determine the Kurtosis of the Nakuru county herbicide prices \n",
        "# Dataset url = http://bit.ly/NakuruCountyHerbicidePrices\n",
        "# ---\n",
        "#\n",
        "\n",
        "# Determining the skeweness \n",
        "nakuru_county_herbicide_prices_df[\"Average_Price\"].kurt()"
      ],
      "execution_count": 95,
      "outputs": [
        {
          "output_type": "execute_result",
          "data": {
            "text/plain": [
              "-0.1522981864221693"
            ]
          },
          "metadata": {
            "tags": []
          },
          "execution_count": 95
        }
      ]
    },
    {
      "cell_type": "code",
      "metadata": {
        "id": "cN5YUpsblCLC",
        "outputId": "12e12323-deba-40ca-86d5-de906c6e7f94",
        "colab": {
          "base_uri": "https://localhost:8080/",
          "height": 168
        }
      },
      "source": [
        "# Example 7: Displaying the summary statistics of the dataframe\n",
        "#\n",
        "nakuru_county_herbicide_prices_df['Average_Price'].describe()\n"
      ],
      "execution_count": 96,
      "outputs": [
        {
          "output_type": "execute_result",
          "data": {
            "text/plain": [
              "count      18.000000\n",
              "mean     2933.333333\n",
              "std      2539.974525\n",
              "min       550.000000\n",
              "25%      1162.500000\n",
              "50%      1875.000000\n",
              "75%      3900.000000\n",
              "max      8000.000000\n",
              "Name: Average_Price, dtype: float64"
            ]
          },
          "metadata": {
            "tags": []
          },
          "execution_count": 96
        }
      ]
    },
    {
      "cell_type": "markdown",
      "metadata": {
        "id": "xumXllAg5A6N"
      },
      "source": [
        "#### <font color=\"green\">1.32 Challenges</font>"
      ]
    },
    {
      "cell_type": "code",
      "metadata": {
        "id": "gXnEzujX5Gi0",
        "outputId": "b4e22122-de25-405c-c1bf-48d31bab55ef",
        "colab": {
          "base_uri": "https://localhost:8080/",
          "height": 34
        }
      },
      "source": [
        "# Challenge 1: Standard Deviation\n",
        "# ---\n",
        "# What was the variance of end of reporting month surplus for the 90kg bags?\n",
        "# Dataset url = http://bit.ly/KisumuFoodSecurtyDataset\n",
        "# ---\n",
        "# \n",
        "df = pd.read_csv('http://bit.ly/KisumuFoodSecurtyDataset')\n",
        "df.columns\n",
        "df['End_of_reporting_month_surplus-_90_Kg_bags'].std()"
      ],
      "execution_count": 102,
      "outputs": [
        {
          "output_type": "execute_result",
          "data": {
            "text/plain": [
              "16791.401843156884"
            ]
          },
          "metadata": {
            "tags": []
          },
          "execution_count": 102
        }
      ]
    },
    {
      "cell_type": "code",
      "metadata": {
        "id": "JnGqnp2nR4sr",
        "outputId": "13925391-18dc-4bf8-9075-333bc0a40549",
        "colab": {
          "base_uri": "https://localhost:8080/",
          "height": 101
        }
      },
      "source": [
        "df.columns"
      ],
      "execution_count": 103,
      "outputs": [
        {
          "output_type": "execute_result",
          "data": {
            "text/plain": [
              "Index(['Sub_county', 'Produce', 'Population', 'Monthly_consumption_90_Kg_bags',\n",
              "       'Current_stocks_90_KG_bags-_Exclude_NCPB_stocks',\n",
              "       'End_of_reporting_month_surplus-_90_Kg_bags',\n",
              "       'End_of_reporting_month_deficit-_90Ks_bags', 'Date', 'OBJECTID'],\n",
              "      dtype='object')"
            ]
          },
          "metadata": {
            "tags": []
          },
          "execution_count": 103
        }
      ]
    },
    {
      "cell_type": "code",
      "metadata": {
        "id": "233fZPZb3aE8",
        "outputId": "117dcbeb-0d48-45ea-b6a3-b11b1b05bf1f",
        "colab": {
          "base_uri": "https://localhost:8080/",
          "height": 34
        }
      },
      "source": [
        "# Challenge 2: Variance \n",
        "# ---\n",
        "# What was the variance of end of reporting month surplus for the 90kg bags?\n",
        "# Dataset url = http://bit.ly/KisumuFoodSecurityDataset\n",
        "# ---\n",
        "# \n",
        "df = pd.read_csv('http://bit.ly/KisumuFoodSecurtyDataset')\n",
        "df.columns\n",
        "df['End_of_reporting_month_surplus-_90_Kg_bags'].var()"
      ],
      "execution_count": 104,
      "outputs": [
        {
          "output_type": "execute_result",
          "data": {
            "text/plain": [
              "281951175.85837245"
            ]
          },
          "metadata": {
            "tags": []
          },
          "execution_count": 104
        }
      ]
    },
    {
      "cell_type": "code",
      "metadata": {
        "id": "0V7cj3tZ5Ive",
        "outputId": "ade0f169-61f2-45ec-c309-894d9e8062ed",
        "colab": {
          "base_uri": "https://localhost:8080/",
          "height": 34
        }
      },
      "source": [
        "# Challenge 3: Range\n",
        "# ---\n",
        "# What was the range of end of reporting month surplus for the 90kg bags?\n",
        "# Dataset url = http://bit.ly/KisumuFoodSecurityDataset\n",
        "# ---\n",
        "# \n",
        "df_range_max = df[\"End_of_reporting_month_surplus-_90_Kg_bags\"].max()\n",
        "df_range_min = df[\"End_of_reporting_month_surplus-_90_Kg_bags\"].min()\n",
        "\n",
        "df_range_max - df_range_min"
      ],
      "execution_count": 105,
      "outputs": [
        {
          "output_type": "execute_result",
          "data": {
            "text/plain": [
              "59835"
            ]
          },
          "metadata": {
            "tags": []
          },
          "execution_count": 105
        }
      ]
    },
    {
      "cell_type": "code",
      "metadata": {
        "id": "goQeGKwvEYTR",
        "outputId": "e196555b-c6c1-471e-949b-796990350812",
        "colab": {
          "base_uri": "https://localhost:8080/",
          "height": 84
        }
      },
      "source": [
        "# Challenge 4: Quantiles\n",
        "# ---\n",
        "# What was the range of end of reporting month surplus for the 90kg bags?\n",
        "# Dataset url = http://bit.ly/KisumuFoodSecurityDataset\n",
        "# ---\n",
        "# \n",
        "df[\"End_of_reporting_month_surplus-_90_Kg_bags\"].quantile([0.25,0.5,0.75])"
      ],
      "execution_count": 106,
      "outputs": [
        {
          "output_type": "execute_result",
          "data": {
            "text/plain": [
              "0.25     2412.5\n",
              "0.50     3968.0\n",
              "0.75    24584.0\n",
              "Name: End_of_reporting_month_surplus-_90_Kg_bags, dtype: float64"
            ]
          },
          "metadata": {
            "tags": []
          },
          "execution_count": 106
        }
      ]
    },
    {
      "cell_type": "code",
      "metadata": {
        "id": "9i9AaOF-EZ7M",
        "outputId": "a75eed44-fbbc-4d9f-ff84-72c367f27426",
        "colab": {
          "base_uri": "https://localhost:8080/",
          "height": 34
        }
      },
      "source": [
        "# Challenge 5: Skewness\n",
        "# ---\n",
        "# What was the skewness of end of reporting month surplus for the 90kg bags?\n",
        "# Dataset url = http://bit.ly/KisumuFoodSecurityDataset\n",
        "# ---\n",
        "# \n",
        "df[\"End_of_reporting_month_surplus-_90_Kg_bags\"].kurt()"
      ],
      "execution_count": 108,
      "outputs": [
        {
          "output_type": "execute_result",
          "data": {
            "text/plain": [
              "-0.007825909487768179"
            ]
          },
          "metadata": {
            "tags": []
          },
          "execution_count": 108
        }
      ]
    },
    {
      "cell_type": "code",
      "metadata": {
        "id": "jJG08eSTEbG6",
        "outputId": "0fbff925-1321-4e07-f118-f12d7c64d20c",
        "colab": {
          "base_uri": "https://localhost:8080/",
          "height": 34
        }
      },
      "source": [
        "# Challenge 6: Kurtosis \n",
        "# ---\n",
        "# Find the kurtosis of end of reporting month surplus for the 90kg bags?\n",
        "# Dataset url = http://bit.ly/KisumuFoodSecurityDataset\n",
        "# ---\n",
        "# \n",
        "df[\"End_of_reporting_month_surplus-_90_Kg_bags\"].skew()"
      ],
      "execution_count": 109,
      "outputs": [
        {
          "output_type": "execute_result",
          "data": {
            "text/plain": [
              "1.1041466566572853"
            ]
          },
          "metadata": {
            "tags": []
          },
          "execution_count": 109
        }
      ]
    },
    {
      "cell_type": "markdown",
      "metadata": {
        "id": "kKZFF5-Q6d5c"
      },
      "source": [
        "### 1.33 Visualisation Techniques"
      ]
    },
    {
      "cell_type": "markdown",
      "metadata": {
        "id": "32s_izI76icw"
      },
      "source": [
        "#### 1.41 Box Plots"
      ]
    },
    {
      "cell_type": "code",
      "metadata": {
        "id": "Cf_cAZET6iHd",
        "outputId": "80b928f5-210b-4772-ebf0-eed47ded14e7",
        "colab": {
          "base_uri": "https://localhost:8080/",
          "height": 350
        }
      },
      "source": [
        "# Example 1\n",
        "# A boxplot is a standardized way of displaying the distribution of data based on a \n",
        "# five number summary (“minimum”, first quartile (Q1), median, third quartile (Q3), and “maximum”). \n",
        "# It can tell you about your outliers and what their values are. It can also tell you if your data is symmetrical, \n",
        "# how tightly your data is grouped, and if and how your data is skewed.\n",
        "# ---\n",
        "# Question: Plot a box plot of the average herbicide price\n",
        "# Dataset url = http://bit.ly/Kisumu-crop-statistics\n",
        "# ---\n",
        "#\n",
        "\n",
        "# Creating the boxplot\n",
        "#\n",
        "sns.boxplot(nakuru_county_herbicide_prices_df[\"Average_Price\"], showmeans=True)\n"
      ],
      "execution_count": 110,
      "outputs": [
        {
          "output_type": "stream",
          "text": [
            "/usr/local/lib/python3.6/dist-packages/seaborn/_decorators.py:43: FutureWarning: Pass the following variable as a keyword arg: x. From version 0.12, the only valid positional argument will be `data`, and passing other arguments without an explicit keyword will result in an error or misinterpretation.\n",
            "  FutureWarning\n"
          ],
          "name": "stderr"
        },
        {
          "output_type": "execute_result",
          "data": {
            "text/plain": [
              "<matplotlib.axes._subplots.AxesSubplot at 0x7fb698d59438>"
            ]
          },
          "metadata": {
            "tags": []
          },
          "execution_count": 110
        },
        {
          "output_type": "display_data",
          "data": {
            "image/png": "[encoded data removed]",
            "text/plain": [
              "<Figure size 432x288 with 1 Axes>"
            ]
          },
          "metadata": {
            "tags": [],
            "needs_background": "light"
          }
        }
      ]
    },
    {
      "cell_type": "code",
      "metadata": {
        "id": "QcI9bqIq68t3",
        "outputId": "618572d3-933f-4a5c-90a6-e39dcc05badb",
        "colab": {
          "base_uri": "https://localhost:8080/",
          "height": 283
        }
      },
      "source": [
        "# Example 2\n",
        "# ---\n",
        "# Question: Using pandas, create a boxplot of the target yield bags per hectare during the long rains. \n",
        "# Dataset url = http://bit.ly/Kisumu-crop-statistics\n",
        "# ---\n",
        "#\n",
        "\n",
        "# Creating the boxplot\n",
        "#\n",
        "kisumu_crop_statistics_df.boxplot([\"TARGET_YIELD__BAG/HA_LONG_RAINS\"])"
      ],
      "execution_count": 111,
      "outputs": [
        {
          "output_type": "execute_result",
          "data": {
            "text/plain": [
              "<matplotlib.axes._subplots.AxesSubplot at 0x7fb698e16c50>"
            ]
          },
          "metadata": {
            "tags": []
          },
          "execution_count": 111
        },
        {
          "output_type": "display_data",
          "data": {
            "image/png": "[encoded data removed]",
            "text/plain": [
              "<Figure size 432x288 with 1 Axes>"
            ]
          },
          "metadata": {
            "tags": [],
            "needs_background": "light"
          }
        }
      ]
    },
    {
      "cell_type": "markdown",
      "metadata": {
        "id": "DHNDapES6-4D"
      },
      "source": [
        "##### <font color=\"green\">1.41 Challenges</font>"
      ]
    },
    {
      "cell_type": "code",
      "metadata": {
        "id": "Np_EB-2g7EjP",
        "outputId": "95145820-7ccf-41bf-b837-dc25461b7eaf",
        "colab": {
          "base_uri": "https://localhost:8080/",
          "height": 283
        }
      },
      "source": [
        "# Challenge 1\n",
        "# ---\n",
        "# Question: Using pandas, create a boxplot of the target area per hectare during the short rains.\n",
        "# Dataset url = http://bit.ly/Kisumu-crop-statistics\n",
        "# ---\n",
        "# \n",
        "df = pd.read_csv('http://bit.ly/Kisumu-crop-statistics')\n",
        "df.boxplot(['TARGET_AREA_HA_SHORT_RAINS'])"
      ],
      "execution_count": 115,
      "outputs": [
        {
          "output_type": "execute_result",
          "data": {
            "text/plain": [
              "<matplotlib.axes._subplots.AxesSubplot at 0x7fb698cb0668>"
            ]
          },
          "metadata": {
            "tags": []
          },
          "execution_count": 115
        },
        {
          "output_type": "display_data",
          "data": {
            "image/png": "[encoded data removed]",
            "text/plain": [
              "<Figure size 432x288 with 1 Axes>"
            ]
          },
          "metadata": {
            "tags": [],
            "needs_background": "light"
          }
        }
      ]
    },
    {
      "cell_type": "code",
      "metadata": {
        "id": "-0gM_vU6XjIx",
        "outputId": "2d102aae-77cc-443c-eef1-a37253895289",
        "colab": {
          "base_uri": "https://localhost:8080/",
          "height": 269
        }
      },
      "source": [
        "df.columns"
      ],
      "execution_count": 114,
      "outputs": [
        {
          "output_type": "execute_result",
          "data": {
            "text/plain": [
              "Index(['SUB-COUNTY', 'PRODUCE', 'TARGET_AREA_HA_LONG_RAINS',\n",
              "       'TARGET_AREA_HA_SHORT_RAINS', 'TARGET_TOTAL_',\n",
              "       'TARGET_YIELD__BAG/HA_LONG_RAINS', 'TARGET_YIELD__BAG/HA_SHORT_RAINS',\n",
              "       'TARGET_PRODUCTION_BAGS_LONG_RAINS',\n",
              "       'TARGET_PRODUCTION_BAGS_SHORT_RAINS', 'TARGET_PRODUCTION_BAGS_TOTAL',\n",
              "       'ACHIEVEMENT_AREA_HA_LONG_RAINS', 'ACHIEVEMENT_AREA_HA_SHORT_RAINS',\n",
              "       'ACHIEVEMENT_TOTAL', 'PROJECTED_YIELD_BAG/HA_LONG_RAINS',\n",
              "       'PROJECTED_YIELD_BAG/HA_SHORT_RAINS',\n",
              "       'PROJECTED___PRODUCTION_BAGS_OF_90KG_EACH__LR',\n",
              "       'PROJECTED___PRODUCTION_BAGS_OF_90KG_EACH__SR',\n",
              "       'PROJECTED___PRODUCTION_BAGS_OF_90KG_EACH__TOTAL',\n",
              "       'PRICES_KSH/BAG_LONG_RAINS', 'PRICES_KSH/BAG_SHORT_RAINS',\n",
              "       'VALUE_KSH__LONG_RAINS', 'VALUE_KSH_SHORT_RAINS', 'VALUE_KSH_TOTAL',\n",
              "       'DATE', 'OBJECTID'],\n",
              "      dtype='object')"
            ]
          },
          "metadata": {
            "tags": []
          },
          "execution_count": 114
        }
      ]
    },
    {
      "cell_type": "code",
      "metadata": {
        "id": "woDc6x7z7Jhf",
        "outputId": "5d1339c0-4f02-4b9d-a504-b41e10210339",
        "colab": {
          "base_uri": "https://localhost:8080/",
          "height": 283
        }
      },
      "source": [
        "# Challenge 2\n",
        "# ---\n",
        "# Question: Using pandas, create a boxplot of the target production bags the long rains.\n",
        "# Dataset url = http://bit.ly/Kisumu-crop-statistics\n",
        "# ---\n",
        "#\n",
        "f = pd.read_csv('http://bit.ly/Kisumu-crop-statistics')\n",
        "df.boxplot(['TARGET_YIELD__BAG/HA_LONG_RAINS'])"
      ],
      "execution_count": 117,
      "outputs": [
        {
          "output_type": "execute_result",
          "data": {
            "text/plain": [
              "<matplotlib.axes._subplots.AxesSubplot at 0x7fb698c94278>"
            ]
          },
          "metadata": {
            "tags": []
          },
          "execution_count": 117
        },
        {
          "output_type": "display_data",
          "data": {
            "image/png": "[encoded data removed]",
            "text/plain": [
              "<Figure size 432x288 with 1 Axes>"
            ]
          },
          "metadata": {
            "tags": [],
            "needs_background": "light"
          }
        }
      ]
    },
    {
      "cell_type": "markdown",
      "metadata": {
        "id": "NqN2REVg6xM7"
      },
      "source": [
        "#### 1.42 More Histograms"
      ]
    },
    {
      "cell_type": "code",
      "metadata": {
        "id": "cGxxrtln66MY",
        "outputId": "aafbe3f8-d790-4df3-da54-bd6ae81b4c27",
        "colab": {
          "base_uri": "https://localhost:8080/",
          "height": 282
        }
      },
      "source": [
        "# Example 1\n",
        "# ---\n",
        "# Question: Plot a histogram of target area during long rains in kisumu county.\n",
        "# Dataset url = http://bit.ly/Kisumu-crop-statistics\n",
        "# ---\n",
        "# \n",
        "\n",
        "# Plotting the histogram\n",
        "#\n",
        "kisumu_crop_statistics_df['TARGET_AREA_HA_LONG_RAINS'].hist()"
      ],
      "execution_count": 118,
      "outputs": [
        {
          "output_type": "execute_result",
          "data": {
            "text/plain": [
              "<matplotlib.axes._subplots.AxesSubplot at 0x7fb699195940>"
            ]
          },
          "metadata": {
            "tags": []
          },
          "execution_count": 118
        },
        {
          "output_type": "display_data",
          "data": {
            "image/png": "[encoded data removed]",
            "text/plain": [
              "<Figure size 432x288 with 1 Axes>"
            ]
          },
          "metadata": {
            "tags": [],
            "needs_background": "light"
          }
        }
      ]
    },
    {
      "cell_type": "code",
      "metadata": {
        "id": "31CPj4mFH2X2",
        "outputId": "7b22dfdf-de54-41fc-9260-c39ffa670971",
        "colab": {
          "base_uri": "https://localhost:8080/",
          "height": 266
        }
      },
      "source": [
        "kisumu_crop_statistics_df.head()"
      ],
      "execution_count": 119,
      "outputs": [
        {
          "output_type": "execute_result",
          "data": {
            "text/html": [
              "<div>\n",
              "<style scoped>\n",
              "    .dataframe tbody tr th:only-of-type {\n",
              "        vertical-align: middle;\n",
              "    }\n",
              "\n",
              "    .dataframe tbody tr th {\n",
              "        vertical-align: top;\n",
              "    }\n",
              "\n",
              "    .dataframe thead th {\n",
              "        text-align: right;\n",
              "    }\n",
              "</style>\n",
              "<table border=\"1\" class=\"dataframe\">\n",
              "  <thead>\n",
              "    <tr style=\"text-align: right;\">\n",
              "      <th></th>\n",
              "      <th>SUB-COUNTY</th>\n",
              "      <th>PRODUCE</th>\n",
              "      <th>TARGET_AREA_HA_LONG_RAINS</th>\n",
              "      <th>TARGET_AREA_HA_SHORT_RAINS</th>\n",
              "      <th>TARGET_TOTAL_</th>\n",
              "      <th>TARGET_YIELD__BAG/HA_LONG_RAINS</th>\n",
              "      <th>TARGET_YIELD__BAG/HA_SHORT_RAINS</th>\n",
              "      <th>TARGET_PRODUCTION_BAGS_LONG_RAINS</th>\n",
              "      <th>TARGET_PRODUCTION_BAGS_SHORT_RAINS</th>\n",
              "      <th>TARGET_PRODUCTION_BAGS_TOTAL</th>\n",
              "      <th>ACHIEVEMENT_AREA_HA_LONG_RAINS</th>\n",
              "      <th>ACHIEVEMENT_AREA_HA_SHORT_RAINS</th>\n",
              "      <th>ACHIEVEMENT_TOTAL</th>\n",
              "      <th>PROJECTED_YIELD_BAG/HA_LONG_RAINS</th>\n",
              "      <th>PROJECTED_YIELD_BAG/HA_SHORT_RAINS</th>\n",
              "      <th>PROJECTED___PRODUCTION_BAGS_OF_90KG_EACH__LR</th>\n",
              "      <th>PROJECTED___PRODUCTION_BAGS_OF_90KG_EACH__SR</th>\n",
              "      <th>PROJECTED___PRODUCTION_BAGS_OF_90KG_EACH__TOTAL</th>\n",
              "      <th>PRICES_KSH/BAG_LONG_RAINS</th>\n",
              "      <th>PRICES_KSH/BAG_SHORT_RAINS</th>\n",
              "      <th>VALUE_KSH__LONG_RAINS</th>\n",
              "      <th>VALUE_KSH_SHORT_RAINS</th>\n",
              "      <th>VALUE_KSH_TOTAL</th>\n",
              "      <th>DATE</th>\n",
              "      <th>OBJECTID</th>\n",
              "    </tr>\n",
              "  </thead>\n",
              "  <tbody>\n",
              "    <tr>\n",
              "      <th>0</th>\n",
              "      <td>KISUMU WEST</td>\n",
              "      <td>Maize</td>\n",
              "      <td>8000</td>\n",
              "      <td>5000</td>\n",
              "      <td>6700</td>\n",
              "      <td>25</td>\n",
              "      <td>20</td>\n",
              "      <td>200000</td>\n",
              "      <td>100000</td>\n",
              "      <td>300000</td>\n",
              "      <td>7880</td>\n",
              "      <td>3000</td>\n",
              "      <td>10880</td>\n",
              "      <td>5</td>\n",
              "      <td>5.0</td>\n",
              "      <td>21670</td>\n",
              "      <td>25000.0</td>\n",
              "      <td>46670</td>\n",
              "      <td>0</td>\n",
              "      <td>0</td>\n",
              "      <td>0</td>\n",
              "      <td>0</td>\n",
              "      <td>0</td>\n",
              "      <td>9/16/16</td>\n",
              "      <td>0</td>\n",
              "    </tr>\n",
              "    <tr>\n",
              "      <th>1</th>\n",
              "      <td>SEME</td>\n",
              "      <td>Maize</td>\n",
              "      <td>8000</td>\n",
              "      <td>3500</td>\n",
              "      <td>13000</td>\n",
              "      <td>25</td>\n",
              "      <td>20</td>\n",
              "      <td>200000</td>\n",
              "      <td>70000</td>\n",
              "      <td>270000</td>\n",
              "      <td>7200</td>\n",
              "      <td>2000</td>\n",
              "      <td>9200</td>\n",
              "      <td>5</td>\n",
              "      <td>5.0</td>\n",
              "      <td>19800</td>\n",
              "      <td>17500.0</td>\n",
              "      <td>37300</td>\n",
              "      <td>0</td>\n",
              "      <td>0</td>\n",
              "      <td>0</td>\n",
              "      <td>0</td>\n",
              "      <td>0</td>\n",
              "      <td>9/16/16</td>\n",
              "      <td>1</td>\n",
              "    </tr>\n",
              "    <tr>\n",
              "      <th>2</th>\n",
              "      <td>KISUMU E</td>\n",
              "      <td>Maize</td>\n",
              "      <td>1500</td>\n",
              "      <td>750</td>\n",
              "      <td>2250</td>\n",
              "      <td>25</td>\n",
              "      <td>20</td>\n",
              "      <td>37500</td>\n",
              "      <td>15000</td>\n",
              "      <td>52500</td>\n",
              "      <td>1460</td>\n",
              "      <td>500</td>\n",
              "      <td>1960</td>\n",
              "      <td>5</td>\n",
              "      <td>5.0</td>\n",
              "      <td>4015</td>\n",
              "      <td>3750.0</td>\n",
              "      <td>7765</td>\n",
              "      <td>0</td>\n",
              "      <td>0</td>\n",
              "      <td>0</td>\n",
              "      <td>0</td>\n",
              "      <td>0</td>\n",
              "      <td>9/16/16</td>\n",
              "      <td>2</td>\n",
              "    </tr>\n",
              "    <tr>\n",
              "      <th>3</th>\n",
              "      <td>NYANDO</td>\n",
              "      <td>Maize</td>\n",
              "      <td>8200</td>\n",
              "      <td>4000</td>\n",
              "      <td>12200</td>\n",
              "      <td>25</td>\n",
              "      <td>20</td>\n",
              "      <td>205000</td>\n",
              "      <td>80000</td>\n",
              "      <td>285000</td>\n",
              "      <td>7640</td>\n",
              "      <td>1200</td>\n",
              "      <td>8840</td>\n",
              "      <td>5</td>\n",
              "      <td>5.0</td>\n",
              "      <td>21010</td>\n",
              "      <td>20000.0</td>\n",
              "      <td>41010</td>\n",
              "      <td>0</td>\n",
              "      <td>0</td>\n",
              "      <td>0</td>\n",
              "      <td>0</td>\n",
              "      <td>0</td>\n",
              "      <td>9/16/16</td>\n",
              "      <td>3</td>\n",
              "    </tr>\n",
              "    <tr>\n",
              "      <th>4</th>\n",
              "      <td>NYAKACH</td>\n",
              "      <td>Maize</td>\n",
              "      <td>10500</td>\n",
              "      <td>4500</td>\n",
              "      <td>15000</td>\n",
              "      <td>25</td>\n",
              "      <td>20</td>\n",
              "      <td>262500</td>\n",
              "      <td>90000</td>\n",
              "      <td>352500</td>\n",
              "      <td>9500</td>\n",
              "      <td>2400</td>\n",
              "      <td>11900</td>\n",
              "      <td>5</td>\n",
              "      <td>5.0</td>\n",
              "      <td>26125</td>\n",
              "      <td>22500.0</td>\n",
              "      <td>48625</td>\n",
              "      <td>0</td>\n",
              "      <td>0</td>\n",
              "      <td>0</td>\n",
              "      <td>0</td>\n",
              "      <td>0</td>\n",
              "      <td>9/16/16</td>\n",
              "      <td>4</td>\n",
              "    </tr>\n",
              "  </tbody>\n",
              "</table>\n",
              "</div>"
            ],
            "text/plain": [
              "    SUB-COUNTY PRODUCE  ...     DATE  OBJECTID\n",
              "0  KISUMU WEST   Maize  ...  9/16/16         0\n",
              "1         SEME   Maize  ...  9/16/16         1\n",
              "2     KISUMU E   Maize  ...  9/16/16         2\n",
              "3       NYANDO   Maize  ...  9/16/16         3\n",
              "4      NYAKACH   Maize  ...  9/16/16         4\n",
              "\n",
              "[5 rows x 25 columns]"
            ]
          },
          "metadata": {
            "tags": []
          },
          "execution_count": 119
        }
      ]
    },
    {
      "cell_type": "code",
      "metadata": {
        "id": "jZ_y-wGN7Pro",
        "outputId": "2f26a693-4159-409b-e14c-b112b005559d",
        "colab": {
          "base_uri": "https://localhost:8080/",
          "height": 350
        }
      },
      "source": [
        "# Example 2\n",
        "# ---\n",
        "# Question: Using Seaborn, Plot a histogram of target area for maize during long rains in kisumu county\n",
        "# ---\n",
        "#\n",
        "\n",
        "# Plotting our histogram\n",
        "#\n",
        "df = kisumu_crop_statistics_df[kisumu_crop_statistics_df.PRODUCE == 'Maize']\n",
        "sns.distplot(kisumu_crop_statistics_df['TARGET_AREA_HA_LONG_RAINS'],  kde=False,label='Maize')"
      ],
      "execution_count": 120,
      "outputs": [
        {
          "output_type": "stream",
          "text": [
            "/usr/local/lib/python3.6/dist-packages/seaborn/distributions.py:2551: FutureWarning: `distplot` is a deprecated function and will be removed in a future version. Please adapt your code to use either `displot` (a figure-level function with similar flexibility) or `histplot` (an axes-level function for histograms).\n",
            "  warnings.warn(msg, FutureWarning)\n"
          ],
          "name": "stderr"
        },
        {
          "output_type": "execute_result",
          "data": {
            "text/plain": [
              "<matplotlib.axes._subplots.AxesSubplot at 0x7fb6a2d5b9e8>"
            ]
          },
          "metadata": {
            "tags": []
          },
          "execution_count": 120
        },
        {
          "output_type": "display_data",
          "data": {
            "image/png": "[encoded data removed]",
            "text/plain": [
              "<Figure size 432x288 with 1 Axes>"
            ]
          },
          "metadata": {
            "tags": [],
            "needs_background": "light"
          }
        }
      ]
    },
    {
      "cell_type": "markdown",
      "metadata": {
        "id": "uXIKUeun7Tz6"
      },
      "source": [
        "#### <font color=\"green\">1.43 Challenges</font>"
      ]
    },
    {
      "cell_type": "code",
      "metadata": {
        "id": "c20egYFA7ZQA",
        "outputId": "f41072d4-9323-41d5-9699-d5e8cea8fa12",
        "colab": {
          "base_uri": "https://localhost:8080/",
          "height": 282
        }
      },
      "source": [
        "# Challenge 1\n",
        "# ---\n",
        "# Question: Plot a histogram of weight in kgs for fish production\n",
        "# Dataset url = \"http://bit.ly/Kisumu-fish-production\"\n",
        "# ---\n",
        "#\n",
        "df1 = pd.read_csv('http://bit.ly/Kisumu-fish-production')\n",
        "df1.head(3)\n",
        "df1.WEIGHT_KGS.hist()"
      ],
      "execution_count": 123,
      "outputs": [
        {
          "output_type": "execute_result",
          "data": {
            "text/plain": [
              "<matplotlib.axes._subplots.AxesSubplot at 0x7fb698ca5ac8>"
            ]
          },
          "metadata": {
            "tags": []
          },
          "execution_count": 123
        },
        {
          "output_type": "display_data",
          "data": {
            "image/png": "[encoded data removed]",
            "text/plain": [
              "<Figure size 432x288 with 1 Axes>"
            ]
          },
          "metadata": {
            "tags": [],
            "needs_background": "light"
          }
        }
      ]
    },
    {
      "cell_type": "code",
      "metadata": {
        "id": "uJctRD8YZbhT",
        "outputId": "eaa9ab65-4d65-4537-bd50-65bedeacea75",
        "colab": {
          "base_uri": "https://localhost:8080/",
          "height": 136
        }
      },
      "source": [
        "df1.head(3)\n"
      ],
      "execution_count": 124,
      "outputs": [
        {
          "output_type": "execute_result",
          "data": {
            "text/html": [
              "<div>\n",
              "<style scoped>\n",
              "    .dataframe tbody tr th:only-of-type {\n",
              "        vertical-align: middle;\n",
              "    }\n",
              "\n",
              "    .dataframe tbody tr th {\n",
              "        vertical-align: top;\n",
              "    }\n",
              "\n",
              "    .dataframe thead th {\n",
              "        text-align: right;\n",
              "    }\n",
              "</style>\n",
              "<table border=\"1\" class=\"dataframe\">\n",
              "  <thead>\n",
              "    <tr style=\"text-align: right;\">\n",
              "      <th></th>\n",
              "      <th>Sub_County</th>\n",
              "      <th>Beach_Management_Units</th>\n",
              "      <th>WEIGHT_KGS</th>\n",
              "      <th>VALUE_KSHS</th>\n",
              "      <th>Date</th>\n",
              "      <th>OBJECTID</th>\n",
              "    </tr>\n",
              "  </thead>\n",
              "  <tbody>\n",
              "    <tr>\n",
              "      <th>0</th>\n",
              "      <td>Kisumu West</td>\n",
              "      <td>Usoma</td>\n",
              "      <td>631</td>\n",
              "      <td>118320</td>\n",
              "      <td>1/31/2016</td>\n",
              "      <td>0</td>\n",
              "    </tr>\n",
              "    <tr>\n",
              "      <th>1</th>\n",
              "      <td>Kisumu West</td>\n",
              "      <td>Ngege</td>\n",
              "      <td>773</td>\n",
              "      <td>116750</td>\n",
              "      <td>1/31/2016</td>\n",
              "      <td>1</td>\n",
              "    </tr>\n",
              "    <tr>\n",
              "      <th>2</th>\n",
              "      <td>Kisumu West</td>\n",
              "      <td>Usare</td>\n",
              "      <td>3485</td>\n",
              "      <td>476850</td>\n",
              "      <td>1/31/2016</td>\n",
              "      <td>2</td>\n",
              "    </tr>\n",
              "  </tbody>\n",
              "</table>\n",
              "</div>"
            ],
            "text/plain": [
              "    Sub_County Beach_Management_Units  ...       Date  OBJECTID\n",
              "0  Kisumu West                  Usoma  ...  1/31/2016         0\n",
              "1  Kisumu West                  Ngege  ...  1/31/2016         1\n",
              "2  Kisumu West                  Usare  ...  1/31/2016         2\n",
              "\n",
              "[3 rows x 6 columns]"
            ]
          },
          "metadata": {
            "tags": []
          },
          "execution_count": 124
        }
      ]
    },
    {
      "cell_type": "code",
      "metadata": {
        "id": "8_NmsQOu7aTW",
        "outputId": "3bc3308a-1bf7-4982-a99d-055ba51d9748",
        "colab": {
          "base_uri": "https://localhost:8080/",
          "height": 282
        }
      },
      "source": [
        "# Challenge 2\n",
        "# ---\n",
        "# Question: Plot a histogram of target yield bags during short rains.\n",
        "# Dataset url = \"http://bit.ly/Kisumu-crop-statistics\"\n",
        "# ---\n",
        "# \n",
        "df2 = pd.read_csv('http://bit.ly/Kisumu-crop-statistics')\n",
        "df2.columns\n",
        "df2['TARGET_YIELD__BAG/HA_LONG_RAINS'].hist()"
      ],
      "execution_count": 127,
      "outputs": [
        {
          "output_type": "execute_result",
          "data": {
            "text/plain": [
              "<matplotlib.axes._subplots.AxesSubplot at 0x7fb6a041e080>"
            ]
          },
          "metadata": {
            "tags": []
          },
          "execution_count": 127
        },
        {
          "output_type": "display_data",
          "data": {
            "image/png": "[encoded data removed]",
            "text/plain": [
              "<Figure size 432x288 with 1 Axes>"
            ]
          },
          "metadata": {
            "tags": [],
            "needs_background": "light"
          }
        }
      ]
    },
    {
      "cell_type": "markdown",
      "metadata": {
        "id": "y2tpmU6oFKHX"
      },
      "source": [
        ""
      ]
    },
    {
      "cell_type": "code",
      "metadata": {
        "id": "gOGG_XWoFKiM"
      },
      "source": [
        ""
      ],
      "execution_count": null,
      "outputs": []
    }
  ]
}